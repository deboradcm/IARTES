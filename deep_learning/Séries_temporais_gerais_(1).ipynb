{
  "cells": [
    {
      "cell_type": "markdown",
      "metadata": {
        "id": "view-in-github",
        "colab_type": "text"
      },
      "source": [
        "<a href=\"https://colab.research.google.com/github/deboradcm/IARTES/blob/master/S%C3%A9ries_temporais_gerais_(1).ipynb\" target=\"_parent\"><img src=\"https://colab.research.google.com/assets/colab-badge.svg\" alt=\"Open In Colab\"/></a>"
      ]
    },
    {
      "cell_type": "markdown",
      "metadata": {
        "id": "tlv9nu7LBXNJ"
      },
      "source": [
        "Notebook baseado nos tutoriais do Livro [Deep Learning with Python, Second Edition](https://www.manning.com/books/deep-learning-with-python-second-edition?a_aid=keras&a_bid=76564dff), capítulo 10.\n",
        "\n",
        "# **Prognóstico de Séries Temporais**\n",
        "\n",
        "Um exemplo de Prognóstico de Temperatura"
      ]
    },
    {
      "cell_type": "code",
      "execution_count": 1,
      "metadata": {
        "id": "TSw27IAodxQL"
      },
      "outputs": [],
      "source": [
        "import tensorflow as tf\n",
        "from tensorflow import keras\n",
        "from tensorflow.keras import layers\n",
        "import matplotlib as mpl\n",
        "import matplotlib.pyplot as plt\n",
        "import numpy as np\n",
        "import os\n",
        "import pandas as pd"
      ]
    },
    {
      "cell_type": "markdown",
      "metadata": {
        "id": "wq48vZEhI75p"
      },
      "source": [
        "# 1. Dataset _weather_\n",
        "Vamos usar a base de dados [weather](https://www.bgc-jena.mpg.de/wetter/) montado pelo [Instituto de Bioquímica Max-Planck](https://www.bgc-jena.mpg.de/index.php/Main/HomePage). É um conjunto de dados de série temporal meteorológica registrado na estação meteorológica no Instituto Max Planck de Biogeoquímica em Jena, Alemanha.\n",
        "\n",
        "Esta base de dados contém 14 diferentes atributos tais como temperatura do ar, pressão atmosférica e umidade. Esses dados foram coletados a cada 10 minutos, começando em 2003. Vamos usar os dados entre 2009 e 2016, preparados por François Chollet -- [Deep Learning with Python](https://www.manning.com/books/deep-learning-with-python)."
      ]
    },
    {
      "cell_type": "code",
      "execution_count": 2,
      "metadata": {
        "id": "GCPP01MUBXNQ",
        "colab": {
          "base_uri": "https://localhost:8080/"
        },
        "outputId": "f0fed683-197e-4cb0-e1ed-696efed6ece6"
      },
      "outputs": [
        {
          "output_type": "stream",
          "name": "stdout",
          "text": [
            "--2024-02-27 22:56:38--  https://s3.amazonaws.com/keras-datasets/jena_climate_2009_2016.csv.zip\n",
            "Resolving s3.amazonaws.com (s3.amazonaws.com)... 52.216.219.168, 52.216.138.189, 52.217.125.184, ...\n",
            "Connecting to s3.amazonaws.com (s3.amazonaws.com)|52.216.219.168|:443... connected.\n",
            "HTTP request sent, awaiting response... 200 OK\n",
            "Length: 13565642 (13M) [application/zip]\n",
            "Saving to: ‘jena_climate_2009_2016.csv.zip’\n",
            "\n",
            "jena_climate_2009_2 100%[===================>]  12.94M  58.4MB/s    in 0.2s    \n",
            "\n",
            "2024-02-27 22:56:38 (58.4 MB/s) - ‘jena_climate_2009_2016.csv.zip’ saved [13565642/13565642]\n",
            "\n",
            "Archive:  jena_climate_2009_2016.csv.zip\n",
            "  inflating: jena_climate_2009_2016.csv  \n",
            "  inflating: __MACOSX/._jena_climate_2009_2016.csv  \n"
          ]
        }
      ],
      "source": [
        "!wget https://s3.amazonaws.com/keras-datasets/jena_climate_2009_2016.csv.zip\n",
        "!unzip jena_climate_2009_2016.csv.zip"
      ]
    },
    {
      "cell_type": "markdown",
      "metadata": {
        "id": "Np8Fl4ooBXNR"
      },
      "source": [
        "### **Inspecionando a base de dados Jena weather**"
      ]
    },
    {
      "cell_type": "code",
      "execution_count": 3,
      "metadata": {
        "id": "YZYdLq6EBXNR",
        "colab": {
          "base_uri": "https://localhost:8080/"
        },
        "outputId": "caa63a4b-1353-4755-b006-1a0e8cbad61b"
      },
      "outputs": [
        {
          "output_type": "stream",
          "name": "stdout",
          "text": [
            "['\"Date Time\"', '\"p (mbar)\"', '\"T (degC)\"', '\"Tpot (K)\"', '\"Tdew (degC)\"', '\"rh (%)\"', '\"VPmax (mbar)\"', '\"VPact (mbar)\"', '\"VPdef (mbar)\"', '\"sh (g/kg)\"', '\"H2OC (mmol/mol)\"', '\"rho (g/m**3)\"', '\"wv (m/s)\"', '\"max. wv (m/s)\"', '\"wd (deg)\"']\n",
            "420451\n"
          ]
        }
      ],
      "source": [
        "fname = os.path.join(\"jena_climate_2009_2016.csv\")\n",
        "\n",
        "with open(fname) as f:\n",
        "    data = f.read()\n",
        "\n",
        "lines = data.split(\"\\n\")\n",
        "header = lines[0].split(\",\")\n",
        "lines = lines[1:]\n",
        "print(header)\n",
        "print(len(lines))"
      ]
    },
    {
      "cell_type": "code",
      "execution_count": 4,
      "metadata": {
        "id": "y1Fre-CuRvnc"
      },
      "outputs": [],
      "source": [
        " base=pd.read_csv(fname)"
      ]
    },
    {
      "cell_type": "code",
      "execution_count": 5,
      "metadata": {
        "id": "R4VM6yCFSXQc",
        "colab": {
          "base_uri": "https://localhost:8080/"
        },
        "outputId": "23d14502-ec22-4b3d-fbbe-e2c5198fcdf3"
      },
      "outputs": [
        {
          "output_type": "stream",
          "name": "stdout",
          "text": [
            "<class 'pandas.core.frame.DataFrame'>\n",
            "RangeIndex: 420451 entries, 0 to 420450\n",
            "Data columns (total 15 columns):\n",
            " #   Column           Non-Null Count   Dtype  \n",
            "---  ------           --------------   -----  \n",
            " 0   Date Time        420451 non-null  object \n",
            " 1   p (mbar)         420451 non-null  float64\n",
            " 2   T (degC)         420451 non-null  float64\n",
            " 3   Tpot (K)         420451 non-null  float64\n",
            " 4   Tdew (degC)      420451 non-null  float64\n",
            " 5   rh (%)           420451 non-null  float64\n",
            " 6   VPmax (mbar)     420451 non-null  float64\n",
            " 7   VPact (mbar)     420451 non-null  float64\n",
            " 8   VPdef (mbar)     420451 non-null  float64\n",
            " 9   sh (g/kg)        420451 non-null  float64\n",
            " 10  H2OC (mmol/mol)  420451 non-null  float64\n",
            " 11  rho (g/m**3)     420451 non-null  float64\n",
            " 12  wv (m/s)         420451 non-null  float64\n",
            " 13  max. wv (m/s)    420451 non-null  float64\n",
            " 14  wd (deg)         420451 non-null  float64\n",
            "dtypes: float64(14), object(1)\n",
            "memory usage: 48.1+ MB\n"
          ]
        }
      ],
      "source": [
        "base.info()"
      ]
    },
    {
      "cell_type": "code",
      "source": [
        "base.describe()"
      ],
      "metadata": {
        "colab": {
          "base_uri": "https://localhost:8080/",
          "height": 338
        },
        "id": "ScFKkPpV_ELl",
        "outputId": "3ea4dc2f-70db-4416-c52d-df9e13a4de6c"
      },
      "execution_count": 6,
      "outputs": [
        {
          "output_type": "execute_result",
          "data": {
            "text/plain": [
              "            p (mbar)       T (degC)       Tpot (K)    Tdew (degC)  \\\n",
              "count  420451.000000  420451.000000  420451.000000  420451.000000   \n",
              "mean      989.212508       9.448567     283.491182       4.954011   \n",
              "std         8.359454       8.423685       8.504820       6.730411   \n",
              "min       913.600000     -23.010000     250.600000     -25.010000   \n",
              "25%       984.200000       3.360000     277.430000       0.240000   \n",
              "50%       989.570000       9.410000     283.460000       5.210000   \n",
              "75%       994.720000      15.470000     289.530000      10.070000   \n",
              "max      1015.350000      37.280000     311.340000      23.110000   \n",
              "\n",
              "              rh (%)   VPmax (mbar)   VPact (mbar)   VPdef (mbar)  \\\n",
              "count  420451.000000  420451.000000  420451.000000  420451.000000   \n",
              "mean       76.007045      13.575089       9.532524       4.042483   \n",
              "std        16.477126       7.739481       4.183895       4.897270   \n",
              "min        12.950000       0.950000       0.790000       0.000000   \n",
              "25%        65.210000       7.780000       6.210000       0.870000   \n",
              "50%        79.300000      11.820000       8.860000       2.190000   \n",
              "75%        89.400000      17.600000      12.350000       5.300000   \n",
              "max       100.000000      63.770000      28.320000      46.010000   \n",
              "\n",
              "           sh (g/kg)  H2OC (mmol/mol)   rho (g/m**3)       wv (m/s)  \\\n",
              "count  420451.000000    420451.000000  420451.000000  420451.000000   \n",
              "mean        6.021630         9.638982    1216.069883       2.130309   \n",
              "std         2.655973         4.235130      39.977065       1.541830   \n",
              "min         0.500000         0.800000    1059.450000       0.000000   \n",
              "25%         3.920000         6.290000    1187.490000       0.990000   \n",
              "50%         5.590000         8.960000    1213.800000       1.760000   \n",
              "75%         7.800000        12.480000    1242.770000       2.860000   \n",
              "max        18.130000        28.820000    1393.540000      14.630000   \n",
              "\n",
              "       max. wv (m/s)       wd (deg)  \n",
              "count  420451.000000  420451.000000  \n",
              "mean        3.532381     174.726164  \n",
              "std         2.340482      86.675965  \n",
              "min         0.000000       0.000000  \n",
              "25%         1.760000     124.800000  \n",
              "50%         2.960000     198.100000  \n",
              "75%         4.740000     234.100000  \n",
              "max        23.500000     360.000000  "
            ],
            "text/html": [
              "\n",
              "  <div id=\"df-a5ccbd65-7c6f-4402-8adf-033e3f134a9b\" class=\"colab-df-container\">\n",
              "    <div>\n",
              "<style scoped>\n",
              "    .dataframe tbody tr th:only-of-type {\n",
              "        vertical-align: middle;\n",
              "    }\n",
              "\n",
              "    .dataframe tbody tr th {\n",
              "        vertical-align: top;\n",
              "    }\n",
              "\n",
              "    .dataframe thead th {\n",
              "        text-align: right;\n",
              "    }\n",
              "</style>\n",
              "<table border=\"1\" class=\"dataframe\">\n",
              "  <thead>\n",
              "    <tr style=\"text-align: right;\">\n",
              "      <th></th>\n",
              "      <th>p (mbar)</th>\n",
              "      <th>T (degC)</th>\n",
              "      <th>Tpot (K)</th>\n",
              "      <th>Tdew (degC)</th>\n",
              "      <th>rh (%)</th>\n",
              "      <th>VPmax (mbar)</th>\n",
              "      <th>VPact (mbar)</th>\n",
              "      <th>VPdef (mbar)</th>\n",
              "      <th>sh (g/kg)</th>\n",
              "      <th>H2OC (mmol/mol)</th>\n",
              "      <th>rho (g/m**3)</th>\n",
              "      <th>wv (m/s)</th>\n",
              "      <th>max. wv (m/s)</th>\n",
              "      <th>wd (deg)</th>\n",
              "    </tr>\n",
              "  </thead>\n",
              "  <tbody>\n",
              "    <tr>\n",
              "      <th>count</th>\n",
              "      <td>420451.000000</td>\n",
              "      <td>420451.000000</td>\n",
              "      <td>420451.000000</td>\n",
              "      <td>420451.000000</td>\n",
              "      <td>420451.000000</td>\n",
              "      <td>420451.000000</td>\n",
              "      <td>420451.000000</td>\n",
              "      <td>420451.000000</td>\n",
              "      <td>420451.000000</td>\n",
              "      <td>420451.000000</td>\n",
              "      <td>420451.000000</td>\n",
              "      <td>420451.000000</td>\n",
              "      <td>420451.000000</td>\n",
              "      <td>420451.000000</td>\n",
              "    </tr>\n",
              "    <tr>\n",
              "      <th>mean</th>\n",
              "      <td>989.212508</td>\n",
              "      <td>9.448567</td>\n",
              "      <td>283.491182</td>\n",
              "      <td>4.954011</td>\n",
              "      <td>76.007045</td>\n",
              "      <td>13.575089</td>\n",
              "      <td>9.532524</td>\n",
              "      <td>4.042483</td>\n",
              "      <td>6.021630</td>\n",
              "      <td>9.638982</td>\n",
              "      <td>1216.069883</td>\n",
              "      <td>2.130309</td>\n",
              "      <td>3.532381</td>\n",
              "      <td>174.726164</td>\n",
              "    </tr>\n",
              "    <tr>\n",
              "      <th>std</th>\n",
              "      <td>8.359454</td>\n",
              "      <td>8.423685</td>\n",
              "      <td>8.504820</td>\n",
              "      <td>6.730411</td>\n",
              "      <td>16.477126</td>\n",
              "      <td>7.739481</td>\n",
              "      <td>4.183895</td>\n",
              "      <td>4.897270</td>\n",
              "      <td>2.655973</td>\n",
              "      <td>4.235130</td>\n",
              "      <td>39.977065</td>\n",
              "      <td>1.541830</td>\n",
              "      <td>2.340482</td>\n",
              "      <td>86.675965</td>\n",
              "    </tr>\n",
              "    <tr>\n",
              "      <th>min</th>\n",
              "      <td>913.600000</td>\n",
              "      <td>-23.010000</td>\n",
              "      <td>250.600000</td>\n",
              "      <td>-25.010000</td>\n",
              "      <td>12.950000</td>\n",
              "      <td>0.950000</td>\n",
              "      <td>0.790000</td>\n",
              "      <td>0.000000</td>\n",
              "      <td>0.500000</td>\n",
              "      <td>0.800000</td>\n",
              "      <td>1059.450000</td>\n",
              "      <td>0.000000</td>\n",
              "      <td>0.000000</td>\n",
              "      <td>0.000000</td>\n",
              "    </tr>\n",
              "    <tr>\n",
              "      <th>25%</th>\n",
              "      <td>984.200000</td>\n",
              "      <td>3.360000</td>\n",
              "      <td>277.430000</td>\n",
              "      <td>0.240000</td>\n",
              "      <td>65.210000</td>\n",
              "      <td>7.780000</td>\n",
              "      <td>6.210000</td>\n",
              "      <td>0.870000</td>\n",
              "      <td>3.920000</td>\n",
              "      <td>6.290000</td>\n",
              "      <td>1187.490000</td>\n",
              "      <td>0.990000</td>\n",
              "      <td>1.760000</td>\n",
              "      <td>124.800000</td>\n",
              "    </tr>\n",
              "    <tr>\n",
              "      <th>50%</th>\n",
              "      <td>989.570000</td>\n",
              "      <td>9.410000</td>\n",
              "      <td>283.460000</td>\n",
              "      <td>5.210000</td>\n",
              "      <td>79.300000</td>\n",
              "      <td>11.820000</td>\n",
              "      <td>8.860000</td>\n",
              "      <td>2.190000</td>\n",
              "      <td>5.590000</td>\n",
              "      <td>8.960000</td>\n",
              "      <td>1213.800000</td>\n",
              "      <td>1.760000</td>\n",
              "      <td>2.960000</td>\n",
              "      <td>198.100000</td>\n",
              "    </tr>\n",
              "    <tr>\n",
              "      <th>75%</th>\n",
              "      <td>994.720000</td>\n",
              "      <td>15.470000</td>\n",
              "      <td>289.530000</td>\n",
              "      <td>10.070000</td>\n",
              "      <td>89.400000</td>\n",
              "      <td>17.600000</td>\n",
              "      <td>12.350000</td>\n",
              "      <td>5.300000</td>\n",
              "      <td>7.800000</td>\n",
              "      <td>12.480000</td>\n",
              "      <td>1242.770000</td>\n",
              "      <td>2.860000</td>\n",
              "      <td>4.740000</td>\n",
              "      <td>234.100000</td>\n",
              "    </tr>\n",
              "    <tr>\n",
              "      <th>max</th>\n",
              "      <td>1015.350000</td>\n",
              "      <td>37.280000</td>\n",
              "      <td>311.340000</td>\n",
              "      <td>23.110000</td>\n",
              "      <td>100.000000</td>\n",
              "      <td>63.770000</td>\n",
              "      <td>28.320000</td>\n",
              "      <td>46.010000</td>\n",
              "      <td>18.130000</td>\n",
              "      <td>28.820000</td>\n",
              "      <td>1393.540000</td>\n",
              "      <td>14.630000</td>\n",
              "      <td>23.500000</td>\n",
              "      <td>360.000000</td>\n",
              "    </tr>\n",
              "  </tbody>\n",
              "</table>\n",
              "</div>\n",
              "    <div class=\"colab-df-buttons\">\n",
              "\n",
              "  <div class=\"colab-df-container\">\n",
              "    <button class=\"colab-df-convert\" onclick=\"convertToInteractive('df-a5ccbd65-7c6f-4402-8adf-033e3f134a9b')\"\n",
              "            title=\"Convert this dataframe to an interactive table.\"\n",
              "            style=\"display:none;\">\n",
              "\n",
              "  <svg xmlns=\"http://www.w3.org/2000/svg\" height=\"24px\" viewBox=\"0 -960 960 960\">\n",
              "    <path d=\"M120-120v-720h720v720H120Zm60-500h600v-160H180v160Zm220 220h160v-160H400v160Zm0 220h160v-160H400v160ZM180-400h160v-160H180v160Zm440 0h160v-160H620v160ZM180-180h160v-160H180v160Zm440 0h160v-160H620v160Z\"/>\n",
              "  </svg>\n",
              "    </button>\n",
              "\n",
              "  <style>\n",
              "    .colab-df-container {\n",
              "      display:flex;\n",
              "      gap: 12px;\n",
              "    }\n",
              "\n",
              "    .colab-df-convert {\n",
              "      background-color: #E8F0FE;\n",
              "      border: none;\n",
              "      border-radius: 50%;\n",
              "      cursor: pointer;\n",
              "      display: none;\n",
              "      fill: #1967D2;\n",
              "      height: 32px;\n",
              "      padding: 0 0 0 0;\n",
              "      width: 32px;\n",
              "    }\n",
              "\n",
              "    .colab-df-convert:hover {\n",
              "      background-color: #E2EBFA;\n",
              "      box-shadow: 0px 1px 2px rgba(60, 64, 67, 0.3), 0px 1px 3px 1px rgba(60, 64, 67, 0.15);\n",
              "      fill: #174EA6;\n",
              "    }\n",
              "\n",
              "    .colab-df-buttons div {\n",
              "      margin-bottom: 4px;\n",
              "    }\n",
              "\n",
              "    [theme=dark] .colab-df-convert {\n",
              "      background-color: #3B4455;\n",
              "      fill: #D2E3FC;\n",
              "    }\n",
              "\n",
              "    [theme=dark] .colab-df-convert:hover {\n",
              "      background-color: #434B5C;\n",
              "      box-shadow: 0px 1px 3px 1px rgba(0, 0, 0, 0.15);\n",
              "      filter: drop-shadow(0px 1px 2px rgba(0, 0, 0, 0.3));\n",
              "      fill: #FFFFFF;\n",
              "    }\n",
              "  </style>\n",
              "\n",
              "    <script>\n",
              "      const buttonEl =\n",
              "        document.querySelector('#df-a5ccbd65-7c6f-4402-8adf-033e3f134a9b button.colab-df-convert');\n",
              "      buttonEl.style.display =\n",
              "        google.colab.kernel.accessAllowed ? 'block' : 'none';\n",
              "\n",
              "      async function convertToInteractive(key) {\n",
              "        const element = document.querySelector('#df-a5ccbd65-7c6f-4402-8adf-033e3f134a9b');\n",
              "        const dataTable =\n",
              "          await google.colab.kernel.invokeFunction('convertToInteractive',\n",
              "                                                    [key], {});\n",
              "        if (!dataTable) return;\n",
              "\n",
              "        const docLinkHtml = 'Like what you see? Visit the ' +\n",
              "          '<a target=\"_blank\" href=https://colab.research.google.com/notebooks/data_table.ipynb>data table notebook</a>'\n",
              "          + ' to learn more about interactive tables.';\n",
              "        element.innerHTML = '';\n",
              "        dataTable['output_type'] = 'display_data';\n",
              "        await google.colab.output.renderOutput(dataTable, element);\n",
              "        const docLink = document.createElement('div');\n",
              "        docLink.innerHTML = docLinkHtml;\n",
              "        element.appendChild(docLink);\n",
              "      }\n",
              "    </script>\n",
              "  </div>\n",
              "\n",
              "\n",
              "<div id=\"df-f807b7e4-0492-4a0a-88fb-bcc1c6793caf\">\n",
              "  <button class=\"colab-df-quickchart\" onclick=\"quickchart('df-f807b7e4-0492-4a0a-88fb-bcc1c6793caf')\"\n",
              "            title=\"Suggest charts\"\n",
              "            style=\"display:none;\">\n",
              "\n",
              "<svg xmlns=\"http://www.w3.org/2000/svg\" height=\"24px\"viewBox=\"0 0 24 24\"\n",
              "     width=\"24px\">\n",
              "    <g>\n",
              "        <path d=\"M19 3H5c-1.1 0-2 .9-2 2v14c0 1.1.9 2 2 2h14c1.1 0 2-.9 2-2V5c0-1.1-.9-2-2-2zM9 17H7v-7h2v7zm4 0h-2V7h2v10zm4 0h-2v-4h2v4z\"/>\n",
              "    </g>\n",
              "</svg>\n",
              "  </button>\n",
              "\n",
              "<style>\n",
              "  .colab-df-quickchart {\n",
              "      --bg-color: #E8F0FE;\n",
              "      --fill-color: #1967D2;\n",
              "      --hover-bg-color: #E2EBFA;\n",
              "      --hover-fill-color: #174EA6;\n",
              "      --disabled-fill-color: #AAA;\n",
              "      --disabled-bg-color: #DDD;\n",
              "  }\n",
              "\n",
              "  [theme=dark] .colab-df-quickchart {\n",
              "      --bg-color: #3B4455;\n",
              "      --fill-color: #D2E3FC;\n",
              "      --hover-bg-color: #434B5C;\n",
              "      --hover-fill-color: #FFFFFF;\n",
              "      --disabled-bg-color: #3B4455;\n",
              "      --disabled-fill-color: #666;\n",
              "  }\n",
              "\n",
              "  .colab-df-quickchart {\n",
              "    background-color: var(--bg-color);\n",
              "    border: none;\n",
              "    border-radius: 50%;\n",
              "    cursor: pointer;\n",
              "    display: none;\n",
              "    fill: var(--fill-color);\n",
              "    height: 32px;\n",
              "    padding: 0;\n",
              "    width: 32px;\n",
              "  }\n",
              "\n",
              "  .colab-df-quickchart:hover {\n",
              "    background-color: var(--hover-bg-color);\n",
              "    box-shadow: 0 1px 2px rgba(60, 64, 67, 0.3), 0 1px 3px 1px rgba(60, 64, 67, 0.15);\n",
              "    fill: var(--button-hover-fill-color);\n",
              "  }\n",
              "\n",
              "  .colab-df-quickchart-complete:disabled,\n",
              "  .colab-df-quickchart-complete:disabled:hover {\n",
              "    background-color: var(--disabled-bg-color);\n",
              "    fill: var(--disabled-fill-color);\n",
              "    box-shadow: none;\n",
              "  }\n",
              "\n",
              "  .colab-df-spinner {\n",
              "    border: 2px solid var(--fill-color);\n",
              "    border-color: transparent;\n",
              "    border-bottom-color: var(--fill-color);\n",
              "    animation:\n",
              "      spin 1s steps(1) infinite;\n",
              "  }\n",
              "\n",
              "  @keyframes spin {\n",
              "    0% {\n",
              "      border-color: transparent;\n",
              "      border-bottom-color: var(--fill-color);\n",
              "      border-left-color: var(--fill-color);\n",
              "    }\n",
              "    20% {\n",
              "      border-color: transparent;\n",
              "      border-left-color: var(--fill-color);\n",
              "      border-top-color: var(--fill-color);\n",
              "    }\n",
              "    30% {\n",
              "      border-color: transparent;\n",
              "      border-left-color: var(--fill-color);\n",
              "      border-top-color: var(--fill-color);\n",
              "      border-right-color: var(--fill-color);\n",
              "    }\n",
              "    40% {\n",
              "      border-color: transparent;\n",
              "      border-right-color: var(--fill-color);\n",
              "      border-top-color: var(--fill-color);\n",
              "    }\n",
              "    60% {\n",
              "      border-color: transparent;\n",
              "      border-right-color: var(--fill-color);\n",
              "    }\n",
              "    80% {\n",
              "      border-color: transparent;\n",
              "      border-right-color: var(--fill-color);\n",
              "      border-bottom-color: var(--fill-color);\n",
              "    }\n",
              "    90% {\n",
              "      border-color: transparent;\n",
              "      border-bottom-color: var(--fill-color);\n",
              "    }\n",
              "  }\n",
              "</style>\n",
              "\n",
              "  <script>\n",
              "    async function quickchart(key) {\n",
              "      const quickchartButtonEl =\n",
              "        document.querySelector('#' + key + ' button');\n",
              "      quickchartButtonEl.disabled = true;  // To prevent multiple clicks.\n",
              "      quickchartButtonEl.classList.add('colab-df-spinner');\n",
              "      try {\n",
              "        const charts = await google.colab.kernel.invokeFunction(\n",
              "            'suggestCharts', [key], {});\n",
              "      } catch (error) {\n",
              "        console.error('Error during call to suggestCharts:', error);\n",
              "      }\n",
              "      quickchartButtonEl.classList.remove('colab-df-spinner');\n",
              "      quickchartButtonEl.classList.add('colab-df-quickchart-complete');\n",
              "    }\n",
              "    (() => {\n",
              "      let quickchartButtonEl =\n",
              "        document.querySelector('#df-f807b7e4-0492-4a0a-88fb-bcc1c6793caf button');\n",
              "      quickchartButtonEl.style.display =\n",
              "        google.colab.kernel.accessAllowed ? 'block' : 'none';\n",
              "    })();\n",
              "  </script>\n",
              "</div>\n",
              "    </div>\n",
              "  </div>\n"
            ],
            "application/vnd.google.colaboratory.intrinsic+json": {
              "type": "dataframe",
              "summary": "{\n  \"name\": \"base\",\n  \"rows\": 8,\n  \"fields\": [\n    {\n      \"column\": \"p (mbar)\",\n      \"properties\": {\n        \"dtype\": \"number\",\n        \"std\": 148354.5269855041,\n        \"min\": 8.359454314683136,\n        \"max\": 420451.0,\n        \"num_unique_values\": 8,\n        \"samples\": [\n          989.2125078308765,\n          989.57,\n          420451.0\n        ],\n        \"semantic_type\": \"\",\n        \"description\": \"\"\n      }\n    },\n    {\n      \"column\": \"T (degC)\",\n      \"properties\": {\n        \"dtype\": \"number\",\n        \"std\": 148648.82777598477,\n        \"min\": -23.01,\n        \"max\": 420451.0,\n        \"num_unique_values\": 8,\n        \"samples\": [\n          9.44856687223957,\n          9.41,\n          420451.0\n        ],\n        \"semantic_type\": \"\",\n        \"description\": \"\"\n      }\n    },\n    {\n      \"column\": \"Tpot (K)\",\n      \"properties\": {\n        \"dtype\": \"number\",\n        \"std\": 148565.82554688692,\n        \"min\": 8.504820310275834,\n        \"max\": 420451.0,\n        \"num_unique_values\": 8,\n        \"samples\": [\n          283.49118161212607,\n          283.46,\n          420451.0\n        ],\n        \"semantic_type\": \"\",\n        \"description\": \"\"\n      }\n    },\n    {\n      \"column\": \"Tdew (degC)\",\n      \"properties\": {\n        \"dtype\": \"number\",\n        \"std\": 148650.59917062186,\n        \"min\": -25.01,\n        \"max\": 420451.0,\n        \"num_unique_values\": 8,\n        \"samples\": [\n          4.954010717063343,\n          5.21,\n          420451.0\n        ],\n        \"semantic_type\": \"\",\n        \"description\": \"\"\n      }\n    },\n    {\n      \"column\": \"rh (%)\",\n      \"properties\": {\n        \"dtype\": \"number\",\n        \"std\": 148629.68984477172,\n        \"min\": 12.95,\n        \"max\": 420451.0,\n        \"num_unique_values\": 8,\n        \"samples\": [\n          76.0070449350816,\n          79.3,\n          420451.0\n        ],\n        \"semantic_type\": \"\",\n        \"description\": \"\"\n      }\n    },\n    {\n      \"column\": \"VPmax (mbar)\",\n      \"properties\": {\n        \"dtype\": \"number\",\n        \"std\": 148645.65361701426,\n        \"min\": 0.95,\n        \"max\": 420451.0,\n        \"num_unique_values\": 8,\n        \"samples\": [\n          13.57508936832116,\n          11.82,\n          420451.0\n        ],\n        \"semantic_type\": \"\",\n        \"description\": \"\"\n      }\n    },\n    {\n      \"column\": \"VPact (mbar)\",\n      \"properties\": {\n        \"dtype\": \"number\",\n        \"std\": 148648.32887695366,\n        \"min\": 0.79,\n        \"max\": 420451.0,\n        \"num_unique_values\": 8,\n        \"samples\": [\n          9.532523718578382,\n          8.86,\n          420451.0\n        ],\n        \"semantic_type\": \"\",\n        \"description\": \"\"\n      }\n    },\n    {\n      \"column\": \"VPdef (mbar)\",\n      \"properties\": {\n        \"dtype\": \"number\",\n        \"std\": 148648.679780566,\n        \"min\": 0.0,\n        \"max\": 420451.0,\n        \"num_unique_values\": 8,\n        \"samples\": [\n          4.042482548501489,\n          2.19,\n          420451.0\n        ],\n        \"semantic_type\": \"\",\n        \"description\": \"\"\n      }\n    },\n    {\n      \"column\": \"sh (g/kg)\",\n      \"properties\": {\n        \"dtype\": \"number\",\n        \"std\": 148649.623192902,\n        \"min\": 0.5,\n        \"max\": 420451.0,\n        \"num_unique_values\": 8,\n        \"samples\": [\n          6.021630178070692,\n          5.59,\n          420451.0\n        ],\n        \"semantic_type\": \"\",\n        \"description\": \"\"\n      }\n    },\n    {\n      \"column\": \"H2OC (mmol/mol)\",\n      \"properties\": {\n        \"dtype\": \"number\",\n        \"std\": 148648.27950428773,\n        \"min\": 0.8,\n        \"max\": 420451.0,\n        \"num_unique_values\": 8,\n        \"samples\": [\n          9.638982188174127,\n          8.96,\n          420451.0\n        ],\n        \"semantic_type\": \"\",\n        \"description\": \"\"\n      }\n    },\n    {\n      \"column\": \"rho (g/m**3)\",\n      \"properties\": {\n        \"dtype\": \"number\",\n        \"std\": 148281.0906751431,\n        \"min\": 39.97706507736542,\n        \"max\": 420451.0,\n        \"num_unique_values\": 8,\n        \"samples\": [\n          1216.069883077933,\n          1213.8,\n          420451.0\n        ],\n        \"semantic_type\": \"\",\n        \"description\": \"\"\n      }\n    },\n    {\n      \"column\": \"wv (m/s)\",\n      \"properties\": {\n        \"dtype\": \"number\",\n        \"std\": 148650.6689557465,\n        \"min\": 0.0,\n        \"max\": 420451.0,\n        \"num_unique_values\": 8,\n        \"samples\": [\n          2.1303090015245534,\n          1.76,\n          420451.0\n        ],\n        \"semantic_type\": \"\",\n        \"description\": \"\"\n      }\n    },\n    {\n      \"column\": \"max. wv (m/s)\",\n      \"properties\": {\n        \"dtype\": \"number\",\n        \"std\": 148649.91545956142,\n        \"min\": 0.0,\n        \"max\": 420451.0,\n        \"num_unique_values\": 8,\n        \"samples\": [\n          3.532380705480544,\n          2.96,\n          420451.0\n        ],\n        \"semantic_type\": \"\",\n        \"description\": \"\"\n      }\n    },\n    {\n      \"column\": \"wd (deg)\",\n      \"properties\": {\n        \"dtype\": \"number\",\n        \"std\": 148592.39625421612,\n        \"min\": 0.0,\n        \"max\": 420451.0,\n        \"num_unique_values\": 8,\n        \"samples\": [\n          174.726163500622,\n          198.1,\n          420451.0\n        ],\n        \"semantic_type\": \"\",\n        \"description\": \"\"\n      }\n    }\n  ]\n}"
            }
          },
          "metadata": {},
          "execution_count": 6
        }
      ]
    },
    {
      "cell_type": "markdown",
      "metadata": {
        "id": "zB6cs-jemES1"
      },
      "source": [
        "### **Analisando os Dados**\n",
        "\n",
        "As observações são feitas a cada 10 minutos, ou seja, 6 por hora ou 144 por dia. Digamos que queremos observar 6 horas no futuro. Podemos usar uma _janela de tempo_ de 5 dias de observações (720 = 5 x 144) para treinar o modelo. Abaixo, nós convertemos todas as 420.451 linhas de dados em ***NumPy arrays ***: um array para a temperatura (em graus Celsius) e outro para o resto dos dados – as características que usaremos para prever temperaturas futuras. Observe que descartamos a coluna “Data e Hora”."
      ]
    },
    {
      "cell_type": "code",
      "execution_count": 7,
      "metadata": {
        "id": "E-8LD07xBXNS"
      },
      "outputs": [],
      "source": [
        "temperature = np.zeros((len(lines),))\n",
        "raw_data = np.zeros((len(lines), len(header) - 1))\n",
        "for i, line in enumerate(lines):\n",
        "    values = [float(x) for x in line.split(\",\")[1:]]\n",
        "    temperature[i] = values[1]\n",
        "    raw_data[i, :] = values[:]"
      ]
    },
    {
      "cell_type": "code",
      "source": [
        "raw_data"
      ],
      "metadata": {
        "colab": {
          "base_uri": "https://localhost:8080/"
        },
        "id": "WyjT8iYPAhJA",
        "outputId": "14a4ec2a-db2f-4370-c9bf-1ecf55bf0904"
      },
      "execution_count": 8,
      "outputs": [
        {
          "output_type": "execute_result",
          "data": {
            "text/plain": [
              "array([[ 9.9652e+02, -8.0200e+00,  2.6540e+02, ...,  1.0300e+00,\n",
              "         1.7500e+00,  1.5230e+02],\n",
              "       [ 9.9657e+02, -8.4100e+00,  2.6501e+02, ...,  7.2000e-01,\n",
              "         1.5000e+00,  1.3610e+02],\n",
              "       [ 9.9653e+02, -8.5100e+00,  2.6491e+02, ...,  1.9000e-01,\n",
              "         6.3000e-01,  1.7160e+02],\n",
              "       ...,\n",
              "       [ 9.9982e+02, -3.1600e+00,  2.7001e+02, ...,  1.0800e+00,\n",
              "         2.0000e+00,  2.1520e+02],\n",
              "       [ 9.9981e+02, -4.2300e+00,  2.6894e+02, ...,  1.4900e+00,\n",
              "         2.1600e+00,  2.2580e+02],\n",
              "       [ 9.9982e+02, -4.8200e+00,  2.6836e+02, ...,  1.2300e+00,\n",
              "         1.9600e+00,  1.8490e+02]])"
            ]
          },
          "metadata": {},
          "execution_count": 8
        }
      ]
    },
    {
      "cell_type": "markdown",
      "metadata": {
        "id": "VoFmlMEHBXNS"
      },
      "source": [
        "### **Plotando as séries temporais de temperatura**\n",
        "\n",
        "Na célula abaixo nós plotamos o gráfico da temperatura (em graus Celsius) ao longo do tempo. É possível ver claramente a periodicidade anual da temperatura – os dados abrangem 8 anos."
      ]
    },
    {
      "cell_type": "code",
      "execution_count": 9,
      "metadata": {
        "id": "HcVLxDvoBXNT",
        "colab": {
          "base_uri": "https://localhost:8080/",
          "height": 451
        },
        "outputId": "5e3e1c36-0d3b-432a-87a4-a0450259a082"
      },
      "outputs": [
        {
          "output_type": "execute_result",
          "data": {
            "text/plain": [
              "[<matplotlib.lines.Line2D at 0x796842743d30>]"
            ]
          },
          "metadata": {},
          "execution_count": 9
        },
        {
          "output_type": "display_data",
          "data": {
            "text/plain": [
              "<Figure size 640x480 with 1 Axes>"
            ],
            "image/png": "[encoded data removed]"
          },
          "metadata": {}
        }
      ],
      "source": [
        "plt.plot(range(len(temperature)), temperature)"
      ]
    },
    {
      "cell_type": "markdown",
      "metadata": {
        "id": "iBIxcsgCBXNT"
      },
      "source": [
        "### **Plotando os primeiros 10 dias da série temporal de temperaturas**\n",
        "\n",
        "Na próxima célula é plotado um gráfico que mostra os dados de temperatura dos  **10 primeiros dias**. Lembrando que os dados são registrados a cada **10 minutos**, portanto, são 24 × 6 = 144 pontos de dados por dia."
      ]
    },
    {
      "cell_type": "code",
      "execution_count": 10,
      "metadata": {
        "id": "hTh0wA6xBXNT",
        "colab": {
          "base_uri": "https://localhost:8080/",
          "height": 466
        },
        "outputId": "c38070f9-36c1-4003-e359-410d4ea309da"
      },
      "outputs": [
        {
          "output_type": "execute_result",
          "data": {
            "text/plain": [
              "Text(0, 0.5, 'Temperatura')"
            ]
          },
          "metadata": {},
          "execution_count": 10
        },
        {
          "output_type": "display_data",
          "data": {
            "text/plain": [
              "<Figure size 640x480 with 1 Axes>"
            ],
            "image/png": "[encoded data removed]"
          },
          "metadata": {}
        }
      ],
      "source": [
        "plt.plot(range(1440), temperature[:1440])\n",
        "plt.xlabel('Tempo')\n",
        "plt.ylabel('Temperatura')"
      ]
    },
    {
      "cell_type": "markdown",
      "metadata": {
        "id": "LuXZWX40oa7x"
      },
      "source": [
        "Neste gráfico é possível ver a periodicidade diária, principalmente dos últimos 4 dias. Observe também que este período de 10 dias deve vir de um mês de inverno bastante frio."
      ]
    },
    {
      "cell_type": "markdown",
      "metadata": {
        "id": "-EA25u32py5o"
      },
      "source": [
        "## Periodicidade dos DADOS\n",
        "\n",
        "É sempre importante observarmos a periodicidade dos dados. A periodicidade em múltiplas escalas de tempo é uma propriedade importante e muito comum de\n",
        "dados de série temporal. Quer você esteja observando o clima, a ocupação do estacionamento do shopping, o acesso a um site, vendas de um supermercado ou etapas registradas em um rastreador de fitness, quais ciclos devem ser considerados?\n",
        "\n",
        "*   Ciclos diários;\n",
        "*   Ciclos semanais;\n",
        "*   Ciclos anuais;\n",
        "\n",
        "Ao explorar os dados, é fundamental procurar esses padrões."
      ]
    },
    {
      "cell_type": "markdown",
      "metadata": {
        "id": "OQTcdU_nBXNT"
      },
      "source": [
        "## **Separando a base de dados em treino, teste e validação**\n",
        "\n",
        "Neste notebook nós usaremos os primeiros 20% dos dados para treinamento, os seguintes\n",
        "10% para validação e os últimos 70% para teste.\n",
        "\n",
        "Ao trabalhar com dados de séries temporais, é importante usar dados de validação e teste que sejam **mais recentes do que os dados de treinamento**, porque você está tentando **prever o futuro com base no passado**, e não o contrário,\n",
        "e suas divisões de validação/teste devem refletir isso."
      ]
    },
    {
      "cell_type": "code",
      "execution_count": 11,
      "metadata": {
        "id": "CAKySdYkgVJS",
        "colab": {
          "base_uri": "https://localhost:8080/"
        },
        "outputId": "6fd4bde7-c3ff-4462-e854-3ea132a8d002"
      },
      "outputs": [
        {
          "output_type": "stream",
          "name": "stdout",
          "text": [
            "num_train_samples: 84090\n",
            "num_val_samples: 42045\n",
            "num_test_samples: 294316\n"
          ]
        }
      ],
      "source": [
        "num_train_samples = int(0.2 * len(raw_data))\n",
        "num_val_samples = int(0.1 * len(raw_data))\n",
        "num_test_samples = len(raw_data) - num_train_samples - num_val_samples\n",
        "print(\"num_train_samples:\", num_train_samples)\n",
        "print(\"num_val_samples:\", num_val_samples)\n",
        "print(\"num_test_samples:\", num_test_samples)"
      ]
    },
    {
      "cell_type": "markdown",
      "metadata": {
        "id": "PNpa988_BXNU"
      },
      "source": [
        "# 2. Preparação de Dados"
      ]
    },
    {
      "cell_type": "markdown",
      "metadata": {
        "id": "DR9jXwUFBXNU"
      },
      "source": [
        "## **Normalização dos Dados**\n",
        "\n",
        "Primeiro, vamos pré-processar os dados em um formato que uma rede neural possa manusear. Como os dados já são numéricos, então não é necessário fazer nenhuma vetorização. Mas cada série temporal nos dados está em uma escala diferente (por exemplo, a pressão atmosférica medida em **mbar** é de cerca de 1.000, enquanto H2OC, medido em milimoles, é cerca de 3). Normalizaremos cada série temporal de forma independente para que todas elas\n",
        "assumam pequenos valores em uma escala semelhante.\n",
        "\n",
        "Nós calcularemos a média e o desvio padrão apenas para os dados de treinamento."
      ]
    },
    {
      "cell_type": "code",
      "execution_count": 12,
      "metadata": {
        "id": "fZJK4c5dBXNU"
      },
      "outputs": [],
      "source": [
        "mean = raw_data[:num_train_samples].mean(axis=0)\n",
        "raw_data -= mean\n",
        "std = raw_data[:num_train_samples].std(axis=0)\n",
        "raw_data /= std"
      ]
    },
    {
      "cell_type": "markdown",
      "metadata": {
        "id": "wKere2kTBXNU"
      },
      "source": [
        "## **Instanciando as bases de treino, validação, e teste**\n",
        "\n",
        "A formulação exata do problema será a seguinte: considerando os dados de cinco dias anteriores, amostrados uma vez por hora, podemos prever a temperatura em 24 horas?\n",
        "A seguir, vamos criar um objeto Dataset que produza lotes de dados dos últimos cinco dias juntamente com uma temperatura alvo de 24 horas no futuro.\n",
        "\n",
        "Nós usaremos o utilitário do Keras (`timeseries_dataset_from_array()`), para fornecer janelas de dados extraídas da série temporal original (chamadas de “sequências”).\n",
        "Esse utilitário gera também os alvos. A primeira entrada da matriz de alvos deve corresponder ao alvo desejado\n",
        "para a primeira sequência que será gerada a partir da matriz de dados."
      ]
    },
    {
      "cell_type": "markdown",
      "metadata": {
        "id": "B1LBpR6UzA3a"
      },
      "source": [
        "Nós usaremos os seguintes valores de parâmetro:\n",
        "\n",
        "*   sampling_rate = 6 — As observações serão amostradas em um ponto de dados: apenas um ponto de dados em 6.\n",
        "*   sequence_length = 120 — As observações retrocederão 5 dias (120 horas).\n",
        "*   delay = sampling_rate * (sequence_length + 24 - 1) — O alvo para uma sequência será a temperatura 24 horas após o término da sequência."
      ]
    },
    {
      "cell_type": "code",
      "execution_count": 13,
      "metadata": {
        "id": "dC3cpvE4BXNU"
      },
      "outputs": [],
      "source": [
        "sampling_rate = 6\n",
        "sequence_length = 120\n",
        "delay = sampling_rate * (sequence_length + 24 - 1)\n",
        "batch_size = 256 #mini set\n",
        "\n",
        "train_dataset = keras.utils.timeseries_dataset_from_array(\n",
        "    raw_data[:-delay],\n",
        "    targets=temperature[delay:],\n",
        "    sampling_rate=sampling_rate,\n",
        "    sequence_length=sequence_length,\n",
        "    shuffle=True,\n",
        "    batch_size=batch_size,\n",
        "    start_index=0,\n",
        "    end_index=num_train_samples)\n",
        "\n",
        "val_dataset = keras.utils.timeseries_dataset_from_array(\n",
        "    raw_data[:-delay],\n",
        "    targets=temperature[delay:],\n",
        "    sampling_rate=sampling_rate,\n",
        "    sequence_length=sequence_length,\n",
        "    shuffle=True,\n",
        "    batch_size=batch_size,\n",
        "    start_index=num_train_samples,\n",
        "    end_index=num_train_samples + num_val_samples)\n",
        "\n",
        "test_dataset = keras.utils.timeseries_dataset_from_array(\n",
        "    raw_data[:-delay],\n",
        "    targets=temperature[delay:],\n",
        "    sampling_rate=sampling_rate,\n",
        "    sequence_length=sequence_length,\n",
        "    shuffle=True,\n",
        "    batch_size=batch_size,\n",
        "    start_index=num_train_samples + num_val_samples)"
      ]
    },
    {
      "cell_type": "markdown",
      "metadata": {
        "id": "NumRLAfGBXNV"
      },
      "source": [
        "## **Inspecionando a saída de um dos conjuntos de dados**\n",
        "\n",
        "Cada conjunto de dados produz uma tupla (amostras, alvos), onde amostras é um lote de 256 amostras,\n",
        "cada uma contendo 120 horas consecutivas de dados de entrada, e os alvos são as correspondentes 256 temperaturas alvo. Observe que as amostras são embaralhadas aleatoriamente, portanto, duas sequências consecutivas em um lote (como samples[0] e samples[1]) não estão necessariamente temporalmente próximas."
      ]
    },
    {
      "cell_type": "code",
      "execution_count": 14,
      "metadata": {
        "id": "RKDgVvL_BXNV",
        "colab": {
          "base_uri": "https://localhost:8080/"
        },
        "outputId": "e6a4a9a7-3214-40a8-8528-26206cecc0f0"
      },
      "outputs": [
        {
          "output_type": "stream",
          "name": "stdout",
          "text": [
            "samples shape: (256, 120, 14)\n",
            "targets shape: (256,)\n"
          ]
        }
      ],
      "source": [
        "for samples, targets in train_dataset:\n",
        "    print(\"samples shape:\", samples.shape)\n",
        "    print(\"targets shape:\", targets.shape)\n",
        "    break"
      ]
    },
    {
      "cell_type": "markdown",
      "metadata": {
        "id": "wsEvVvg016qq"
      },
      "source": [
        "# 3 - Métodos de Previsão"
      ]
    },
    {
      "cell_type": "markdown",
      "metadata": {
        "id": "fj6Q6yP7BXNV"
      },
      "source": [
        "### **3.1 Um *baseline* de senso comum não baseado em aprendizagem de máquina**\n",
        "\n",
        "Antes de começarmos a usar modelos de aprendizagem caixa preta para resolver o problema de previsão de temperatura, vamos tentar uma abordagem simples e de senso comum. Essa abordagem servirá como um teste de sanidade e estabelecerá um baseline que teremos que superar para demonstrar a utilidade de modelos de aprendizado de máquina mais avançados."
      ]
    },
    {
      "cell_type": "markdown",
      "metadata": {
        "id": "Gv26MXnqBXNV"
      },
      "source": [
        "## **Computando o baseline MAE**\n",
        "\n",
        "No nosso caso, uma abordagem de senso comum seria sempre prever que a temperatura daqui a 24 horas será igual à temperatura\n",
        "atual. Vamos avaliar essa abordagem, usando a métrica do erro absoluto médio\n",
        " (MAE)."
      ]
    },
    {
      "cell_type": "code",
      "execution_count": 15,
      "metadata": {
        "id": "O5PWdS2BBXNV",
        "colab": {
          "base_uri": "https://localhost:8080/"
        },
        "outputId": "dc89ed99-0641-4528-8fcc-bf91e8a902b5"
      },
      "outputs": [
        {
          "output_type": "stream",
          "name": "stdout",
          "text": [
            "Validation MAE: 2.63\n",
            "Test MAE: 2.59\n"
          ]
        }
      ],
      "source": [
        "def evaluate_naive_method(dataset):\n",
        "    total_abs_err = 0.\n",
        "    samples_seen = 0\n",
        "    for samples, targets in dataset:\n",
        "        preds = samples[:, -1, 1] * std[1] + mean[1]\n",
        "        total_abs_err += np.sum(np.abs(preds - targets))\n",
        "        samples_seen += samples.shape[0]\n",
        "    return total_abs_err / samples_seen\n",
        "\n",
        "print(f\"Validation MAE: {evaluate_naive_method(val_dataset):.2f}\")\n",
        "print(f\"Test MAE: {evaluate_naive_method(test_dataset):.2f}\")"
      ]
    },
    {
      "cell_type": "markdown",
      "metadata": {
        "id": "GFD0HbgW5k3p"
      },
      "source": [
        "O *baseline* produziu um MAE de validação de 2,63 graus Celsius e um\n",
        " MAE de teste de 2,59 graus Celsius. Então, se o modelo sempre assumir que a temperatura 24 horas no futuro será a mesma que é agora, o modelo estará errado por dois graus e meio em média. Não é tão ruim, mas provavelmente um serviço de previsão do tempo baseado nesta heurística não será lançado."
      ]
    },
    {
      "cell_type": "markdown",
      "metadata": {
        "id": "cuvsTp4cBXNV"
      },
      "source": [
        "### **3.2 Vamos tentar um modelo de aprendizagem de máquina básico**\n",
        "\n",
        "Também é útil tentar modelos de aprendizado de máquina rasos/simples, antes de tentar soluções mais complicadas e caras computacionalmente. Esta é a melhor maneira de garantir que qualquer complexidade adicionada é legítima e traz benefícios reais.\n",
        "Abaixo nós usamos um modelo totalmente conectado que começa achatando os\n",
        "dados e, em seguida, executa-os através de duas camadas densas. Observe a falta de uma função de ativação na última camada Densa, o que é típico de um problema de regressão. Usamos a média erro quadrado (MSE) como perda, em vez de MAE, porque, ao contrário do MAE, é suave em torno de zero, o que é uma propriedade útil para descida gradiente. Iremos monitorar o MAE ao adicionálo como uma métrica em `compile()`."
      ]
    },
    {
      "cell_type": "markdown",
      "metadata": {
        "id": "HLInQwexBXNV"
      },
      "source": [
        "### **Treinando e avaliando uma MLP**"
      ]
    },
    {
      "cell_type": "code",
      "execution_count": 16,
      "metadata": {
        "id": "wYyz2DnBBXNW",
        "colab": {
          "base_uri": "https://localhost:8080/"
        },
        "outputId": "23e838d0-ebbc-4e3c-cc5e-af42697ad974"
      },
      "outputs": [
        {
          "output_type": "stream",
          "name": "stdout",
          "text": [
            "Epoch 1/10\n",
            "326/326 [==============================] - 17s 49ms/step - loss: 18.0541 - mae: 3.2289 - val_loss: 13.4244 - val_mae: 2.9423\n",
            "Epoch 2/10\n",
            "326/326 [==============================] - 16s 48ms/step - loss: 9.0974 - mae: 2.3517 - val_loss: 12.8377 - val_mae: 2.8245\n",
            "Epoch 3/10\n",
            "326/326 [==============================] - 17s 51ms/step - loss: 8.0775 - mae: 2.2155 - val_loss: 13.1935 - val_mae: 2.8515\n",
            "Epoch 4/10\n",
            "326/326 [==============================] - 16s 49ms/step - loss: 7.3289 - mae: 2.1061 - val_loss: 13.2383 - val_mae: 2.8572\n",
            "Epoch 5/10\n",
            "326/326 [==============================] - 16s 48ms/step - loss: 6.7838 - mae: 2.0298 - val_loss: 13.7171 - val_mae: 2.9090\n",
            "Epoch 6/10\n",
            "326/326 [==============================] - 16s 49ms/step - loss: 6.4603 - mae: 1.9794 - val_loss: 14.5544 - val_mae: 2.9718\n",
            "Epoch 7/10\n",
            "326/326 [==============================] - 17s 51ms/step - loss: 6.1752 - mae: 1.9314 - val_loss: 13.8019 - val_mae: 2.9168\n",
            "Epoch 8/10\n",
            "326/326 [==============================] - 17s 50ms/step - loss: 5.9114 - mae: 1.8898 - val_loss: 14.0980 - val_mae: 2.9502\n",
            "Epoch 9/10\n",
            "326/326 [==============================] - 17s 51ms/step - loss: 5.7602 - mae: 1.8640 - val_loss: 16.1198 - val_mae: 3.1169\n",
            "Epoch 10/10\n",
            "326/326 [==============================] - 16s 49ms/step - loss: 5.5321 - mae: 1.8286 - val_loss: 14.6846 - val_mae: 2.9980\n",
            "1144/1144 [==============================] - 39s 34ms/step - loss: 12.3751 - mae: 2.7626\n",
            "Test MAE: 2.76\n"
          ]
        }
      ],
      "source": [
        "inputs = keras.Input(shape=(sequence_length, raw_data.shape[-1]))\n",
        "x = layers.Flatten()(inputs)\n",
        "x = layers.Dense(16, activation=\"relu\")(x)\n",
        "outputs = layers.Dense(1)(x)\n",
        "model = keras.Model(inputs, outputs)\n",
        "\n",
        "callbacks = [\n",
        "    keras.callbacks.ModelCheckpoint(\"jena_dense.keras\",\n",
        "                                    save_best_only=True)\n",
        "]\n",
        "model.compile(optimizer=\"rmsprop\", loss=\"mse\", metrics=[\"mae\"])\n",
        "history = model.fit(train_dataset,\n",
        "                    epochs=10,\n",
        "                    validation_data=val_dataset,\n",
        "                    callbacks=callbacks)\n",
        "\n",
        "model = keras.models.load_model(\"jena_dense.keras\")\n",
        "print(f\"Test MAE: {model.evaluate(test_dataset)[1]:.2f}\")"
      ]
    },
    {
      "cell_type": "markdown",
      "metadata": {
        "id": "Z0PNgmOhBXNW"
      },
      "source": [
        "**Exibição Gráfica dos Resultados**"
      ]
    },
    {
      "cell_type": "code",
      "execution_count": 17,
      "metadata": {
        "id": "_cqjBSZkBXNW",
        "colab": {
          "base_uri": "https://localhost:8080/",
          "height": 452
        },
        "outputId": "dcbc4f54-f01e-4eaf-a46b-ea402a5a97ec"
      },
      "outputs": [
        {
          "output_type": "display_data",
          "data": {
            "text/plain": [
              "<Figure size 640x480 with 1 Axes>"
            ],
            "image/png": "[encoded data removed]"
          },
          "metadata": {}
        }
      ],
      "source": [
        "loss = history.history[\"mae\"]\n",
        "val_loss = history.history[\"val_mae\"]\n",
        "epochs = range(1, len(loss) + 1)\n",
        "plt.figure()\n",
        "plt.plot(epochs, loss, \"bo\", label=\"Treinamento MAE\")\n",
        "plt.plot(epochs, val_loss, \"b\", label=\"Validação MAE\")\n",
        "plt.title(\"Treino and validação MAE\")\n",
        "plt.legend()\n",
        "plt.show()"
      ]
    },
    {
      "cell_type": "markdown",
      "metadata": {
        "id": "dBFwTtniZMVL"
      },
      "source": [
        "Alguns valores de perda na validação estão próximos dos valores do baseline sem aprendizagem. Isso demonstra o mérito de ter o baseline: não é fácil superá-lo. O baseline tem conhecimento a priori do problema ao qual o modelo de aprendizado de máquina não tem acesso.\n",
        "\n",
        "Essa é uma limitação bastante significativa do aprendizado de máquina em geral:\n",
        "às vezes o modelo não consegue encontrar uma solução simples para um problema simples.\n"
      ]
    },
    {
      "cell_type": "markdown",
      "metadata": {
        "id": "OWQkYrnQBXNW"
      },
      "source": [
        "## **3.3 Vamos tentar um modelo de CNN 1D**:\n",
        "Considerando que nossas sequências de entrada apresentam ciclos diários, talvez um modelo convolucional pudesse funcionar. Uma rede temporal\n",
        "poderia reutilizar as mesmas representações em dias diferentes, como uma rede espacial pode reutilizar as mesmas representações em diferentes locais de uma imagem.\n",
        "\n",
        "As camadas Conv1D empregam janelas 1D que deslizam sobre as sequências de entrada. São operações adequadas para dados de sequência que sigam a suposição de invariância de translação (ou seja, se você deslizar uma janela sobre a sequência, o conteúdo da janela deverá seguir as mesmas propriedades independentemente da localização da janela).\n",
        "Em nosso problema de previsão de temperatura, nós escolheremos uma janela inicial de comprimento igual a 24, para que possamos analisar 24 horas de dados por vez (um ciclo). À medida que reduzimos a resolução nas sequências (por meio das camadas MaxPooling1D), reduziremos o tamanho da janela de acordo:"
      ]
    },
    {
      "cell_type": "code",
      "execution_count": 18,
      "metadata": {
        "id": "PBnx6RHJBXNW",
        "colab": {
          "base_uri": "https://localhost:8080/"
        },
        "outputId": "1c355279-ed9a-4b59-cafe-4479ed3bd0de"
      },
      "outputs": [
        {
          "output_type": "stream",
          "name": "stdout",
          "text": [
            "Epoch 1/10\n",
            "326/326 [==============================] - 34s 102ms/step - loss: 23.8234 - mae: 3.7996 - val_loss: 21.0231 - val_mae: 3.6833\n",
            "Epoch 2/10\n",
            "326/326 [==============================] - 29s 88ms/step - loss: 15.6886 - mae: 3.1334 - val_loss: 19.0695 - val_mae: 3.5193\n",
            "Epoch 3/10\n",
            "326/326 [==============================] - 28s 86ms/step - loss: 13.8497 - mae: 2.9303 - val_loss: 19.9780 - val_mae: 3.6360\n",
            "Epoch 4/10\n",
            "326/326 [==============================] - 29s 87ms/step - loss: 12.8908 - mae: 2.8145 - val_loss: 19.2948 - val_mae: 3.5309\n",
            "Epoch 5/10\n",
            "326/326 [==============================] - 28s 85ms/step - loss: 12.0266 - mae: 2.7175 - val_loss: 19.5684 - val_mae: 3.5692\n",
            "Epoch 6/10\n",
            "326/326 [==============================] - 33s 101ms/step - loss: 11.3694 - mae: 2.6463 - val_loss: 19.5554 - val_mae: 3.5389\n",
            "Epoch 7/10\n",
            "326/326 [==============================] - 29s 88ms/step - loss: 10.8612 - mae: 2.5820 - val_loss: 20.7700 - val_mae: 3.6458\n",
            "Epoch 8/10\n",
            "326/326 [==============================] - 29s 87ms/step - loss: 10.3783 - mae: 2.5191 - val_loss: 21.3654 - val_mae: 3.6909\n",
            "Epoch 9/10\n",
            "326/326 [==============================] - 33s 101ms/step - loss: 9.9251 - mae: 2.4667 - val_loss: 22.0928 - val_mae: 3.7594\n",
            "Epoch 10/10\n",
            "326/326 [==============================] - 29s 88ms/step - loss: 9.7173 - mae: 2.4406 - val_loss: 22.7374 - val_mae: 3.8073\n",
            "1144/1144 [==============================] - 45s 39ms/step - loss: 17.7762 - mae: 3.3205\n",
            "Test MAE: 3.32\n"
          ]
        }
      ],
      "source": [
        "inputs = keras.Input(shape=(sequence_length, raw_data.shape[-1]))\n",
        "x = layers.Conv1D(8, 24, activation=\"relu\")(inputs)\n",
        "x = layers.MaxPooling1D(2)(x)\n",
        "x = layers.Conv1D(8, 12, activation=\"relu\")(x)\n",
        "x = layers.MaxPooling1D(2)(x)\n",
        "x = layers.Conv1D(8, 6, activation=\"relu\")(x)\n",
        "x = layers.GlobalAveragePooling1D()(x)\n",
        "outputs = layers.Dense(1)(x)\n",
        "model = keras.Model(inputs, outputs)\n",
        "\n",
        "callbacks = [\n",
        "    keras.callbacks.ModelCheckpoint(\"jena_conv.keras\",\n",
        "                                    save_best_only=True)]\n",
        "\n",
        "model.compile(optimizer=\"rmsprop\", loss=\"mse\", metrics=[\"mae\"])\n",
        "history = model.fit(train_dataset,\n",
        "                    epochs=10,\n",
        "                    validation_data=val_dataset,\n",
        "                    callbacks=callbacks)\n",
        "\n",
        "model = keras.models.load_model(\"jena_conv.keras\")\n",
        "print(f\"Test MAE: {model.evaluate(test_dataset)[1]:.2f}\")"
      ]
    },
    {
      "cell_type": "markdown",
      "metadata": {
        "id": "4OOxO_MLbWdv"
      },
      "source": [
        "**Exibição Gráfica dos Resultados**"
      ]
    },
    {
      "cell_type": "code",
      "execution_count": 19,
      "metadata": {
        "id": "kOq8fWbOMuAf",
        "colab": {
          "base_uri": "https://localhost:8080/",
          "height": 452
        },
        "outputId": "af30bdbc-0bbe-4cf6-c2b0-17f5d3976807"
      },
      "outputs": [
        {
          "output_type": "display_data",
          "data": {
            "text/plain": [
              "<Figure size 640x480 with 1 Axes>"
            ],
            "image/png": "[encoded data removed]"
          },
          "metadata": {}
        }
      ],
      "source": [
        "loss = history.history[\"mae\"]\n",
        "val_loss = history.history[\"val_mae\"]\n",
        "epochs = range(1, len(loss) + 1)\n",
        "plt.figure()\n",
        "plt.plot(epochs, loss, \"bo\", label=\"Treinamento MAE\")\n",
        "plt.plot(epochs, val_loss, \"b\", label=\"Validação MAE\")\n",
        "plt.title(\"Treino and validação MAE\")\n",
        "plt.legend()\n",
        "plt.show()"
      ]
    },
    {
      "cell_type": "markdown",
      "metadata": {
        "id": "8Bff4_CgbylA"
      },
      "source": [
        "O modelo CNN1D tem desempenho ainda pior do que o modelo densamente conectado, bem abaixo do baseline. O que justifica esse resultado?\n",
        "* **Dados meteorológicos não respeitam** totalmente a suposição de invariância de translação. Embora os dados apresentem ciclos diários, os dados de uma manhã seguem diferentes propriedades do que dados de uma noite ou do meio da noite. Dados de clima são invariantes à translação apenas por uma escala de tempo muito específica.\n",
        "* **A ordem dos dados é muito importante**. O passado recente é muito mais informativo para prever a temperatura do dia seguinte do que os dados de cinco dias atrás. A CNN1D não é capaz de aproveitar esse fato. Em particular, as operações de *max pooling* e *global average pooling* estão destruindo em grande parte as informações de ordem entre os dados."
      ]
    },
    {
      "cell_type": "markdown",
      "metadata": {
        "id": "SPCxdwOGBXNW"
      },
      "source": [
        "### **3.4 Usando Redes Neurais Recorrentes**\n",
        "\n",
        "Nem a abordagem totalmente conectada nem a abordagem convolucional tiveram bom desempenho:\n",
        "\n",
        "*   O modelo densamente conectado primeiro achatou a série temporal, o que removeu a noção de tempo dos dados de entrada.\n",
        "*   A abordagem convolucional tratou cada segmento dos dados da mesma forma, inclusive aplicando pooling, fato que pode ter perdido informações de ordem.\n",
        "\n",
        "Agora nós vamos tentar uma técnica que olhe para os dados como eles são: uma sequência, onde a causalidade e a ordem são importantes. Trata-se de uma família de arquiteturas de redes neurais projetadas especificamente para esse caso de uso: **redes neurais recorrentes**. Dentre elas, as LSTM."
      ]
    },
    {
      "cell_type": "markdown",
      "metadata": {
        "id": "mGy_Z2FmBXNW"
      },
      "source": [
        "**Um modelo baseado em LSTM simples**"
      ]
    },
    {
      "cell_type": "code",
      "execution_count": 20,
      "metadata": {
        "id": "E_J4RfKx_1NI"
      },
      "outputs": [],
      "source": [
        "inputs = keras.Input(shape=(sequence_length, raw_data.shape[-1]))\n",
        "x = layers.LSTM(16)(inputs)\n",
        "outputs = layers.Dense(1)(x)\n",
        "model = keras.Model(inputs, outputs)\n",
        "\n",
        "callbacks = [\n",
        "    keras.callbacks.ModelCheckpoint(\"jena_lstm.keras\",\n",
        "                                    save_best_only=True)\n",
        "]"
      ]
    },
    {
      "cell_type": "code",
      "execution_count": 21,
      "metadata": {
        "id": "JYECQnckxhw8",
        "colab": {
          "base_uri": "https://localhost:8080/",
          "height": 312
        },
        "outputId": "b4b46d73-e97e-409f-b5a0-eb1c44d9d6b7"
      },
      "outputs": [
        {
          "output_type": "execute_result",
          "data": {
            "image/png": "[encoded data removed]",
            "text/plain": [
              "<IPython.core.display.Image object>"
            ]
          },
          "metadata": {},
          "execution_count": 21
        }
      ],
      "source": [
        "tf.keras.utils.plot_model(model, show_shapes=True)"
      ]
    },
    {
      "cell_type": "code",
      "execution_count": 22,
      "metadata": {
        "id": "vb1E1hLqBXNX",
        "colab": {
          "base_uri": "https://localhost:8080/"
        },
        "outputId": "72414d8e-9685-4a7d-ab41-4ff6a6ea155c"
      },
      "outputs": [
        {
          "output_type": "stream",
          "name": "stdout",
          "text": [
            "Epoch 1/10\n",
            "326/326 [==============================] - 39s 112ms/step - loss: 78.1542 - mae: 6.8294 - val_loss: 27.6587 - val_mae: 4.1053\n",
            "Epoch 2/10\n",
            "326/326 [==============================] - 37s 111ms/step - loss: 29.4202 - mae: 3.9540 - val_loss: 15.9280 - val_mae: 3.0830\n",
            "Epoch 3/10\n",
            "326/326 [==============================] - 37s 112ms/step - loss: 14.1836 - mae: 2.8151 - val_loss: 13.6672 - val_mae: 2.8971\n",
            "Epoch 4/10\n",
            "326/326 [==============================] - 34s 102ms/step - loss: 10.0073 - mae: 2.4311 - val_loss: 15.7273 - val_mae: 3.0544\n",
            "Epoch 5/10\n",
            "326/326 [==============================] - 33s 101ms/step - loss: 8.9700 - mae: 2.3133 - val_loss: 14.2157 - val_mae: 2.9813\n",
            "Epoch 6/10\n",
            "326/326 [==============================] - 37s 112ms/step - loss: 8.5948 - mae: 2.2634 - val_loss: 14.2380 - val_mae: 2.9705\n",
            "Epoch 7/10\n",
            "326/326 [==============================] - 35s 105ms/step - loss: 8.3371 - mae: 2.2261 - val_loss: 15.7902 - val_mae: 3.1052\n",
            "Epoch 8/10\n",
            "326/326 [==============================] - 34s 102ms/step - loss: 8.2958 - mae: 2.2121 - val_loss: 14.9187 - val_mae: 3.0334\n",
            "Epoch 9/10\n",
            "326/326 [==============================] - 34s 102ms/step - loss: 8.0901 - mae: 2.1935 - val_loss: 15.0008 - val_mae: 3.0454\n",
            "Epoch 10/10\n",
            "326/326 [==============================] - 36s 111ms/step - loss: 7.9955 - mae: 2.1765 - val_loss: 14.6596 - val_mae: 3.0018\n",
            "1144/1144 [==============================] - 62s 53ms/step - loss: 13.3288 - mae: 2.8212\n",
            "Test MAE: 2.82\n"
          ]
        }
      ],
      "source": [
        "model.compile(optimizer=\"rmsprop\", loss=\"mse\", metrics=[\"mae\"])\n",
        "history = model.fit(train_dataset,\n",
        "                    epochs=10,\n",
        "                    validation_data=val_dataset,\n",
        "                    callbacks=callbacks)\n",
        "\n",
        "model = keras.models.load_model(\"jena_lstm.keras\")\n",
        "print(f\"Test MAE: {model.evaluate(test_dataset)[1]:.2f}\")"
      ]
    },
    {
      "cell_type": "markdown",
      "metadata": {
        "id": "xC3iiGgIe9g5"
      },
      "source": [
        "**Exibição Gráfica dos Resultados**"
      ]
    },
    {
      "cell_type": "code",
      "execution_count": 23,
      "metadata": {
        "id": "XeXis-4AM38-",
        "colab": {
          "base_uri": "https://localhost:8080/",
          "height": 452
        },
        "outputId": "33ad5926-2c9e-4850-ed48-5a76f33cdcc2"
      },
      "outputs": [
        {
          "output_type": "display_data",
          "data": {
            "text/plain": [
              "<Figure size 640x480 with 1 Axes>"
            ],
            "image/png": "[encoded data removed]"
          },
          "metadata": {}
        }
      ],
      "source": [
        "loss = history.history[\"mae\"]\n",
        "val_loss = history.history[\"val_mae\"]\n",
        "epochs = range(1, len(loss) + 1)\n",
        "plt.figure()\n",
        "plt.plot(epochs, loss, \"bo\", label=\"Treinamento MAE\")\n",
        "plt.plot(epochs, val_loss, \"b\", label=\"Validação MAE\")\n",
        "plt.title(\"Treino and validação MAE\")\n",
        "plt.legend()\n",
        "plt.show()"
      ]
    },
    {
      "cell_type": "markdown",
      "metadata": {
        "id": "EQxKs0B1gF4A"
      },
      "source": [
        "O resultado foi bem melhor. Foi obtido um MAE de validação em torno de 2,80\n",
        "graus e um MAE de teste de 2.66 graus. O modelo baseado em LSTM não ultrapassou o baseline, mas ficou bem próximo.\n",
        "\n",
        "Uma característica importante das redes neurais anteriores é que elas não têm memória, diferentemente do que ocorre com as RNN."
      ]
    },
    {
      "cell_type": "markdown",
      "metadata": {
        "id": "yl-BaSEE_PBV"
      },
      "source": [
        "**LSTM com Dropout**"
      ]
    },
    {
      "cell_type": "code",
      "execution_count": 24,
      "metadata": {
        "colab": {
          "base_uri": "https://localhost:8080/"
        },
        "id": "ib9qamyq_OhC",
        "outputId": "150f0104-ca13-44f6-aa7c-2571e88129b3"
      },
      "outputs": [
        {
          "output_type": "stream",
          "name": "stdout",
          "text": [
            "Epoch 1/16\n",
            "326/326 [==============================] - 86s 256ms/step - loss: 45.7180 - mae: 5.0081 - val_loss: 15.1582 - val_mae: 3.0126\n",
            "Epoch 2/16\n",
            "326/326 [==============================] - 66s 203ms/step - loss: 17.2836 - mae: 3.1726 - val_loss: 12.1136 - val_mae: 2.6929\n",
            "Epoch 3/16\n",
            "326/326 [==============================] - 67s 205ms/step - loss: 14.6838 - mae: 2.9455 - val_loss: 12.1732 - val_mae: 2.7000\n",
            "Epoch 4/16\n",
            "326/326 [==============================] - 67s 204ms/step - loss: 14.0157 - mae: 2.8820 - val_loss: 12.5844 - val_mae: 2.7599\n",
            "Epoch 5/16\n",
            "326/326 [==============================] - 77s 235ms/step - loss: 13.5257 - mae: 2.8221 - val_loss: 13.0597 - val_mae: 2.7978\n",
            "Epoch 6/16\n",
            "326/326 [==============================] - 67s 204ms/step - loss: 13.1457 - mae: 2.7834 - val_loss: 13.2245 - val_mae: 2.8369\n",
            "Epoch 7/16\n",
            "326/326 [==============================] - 69s 211ms/step - loss: 12.8101 - mae: 2.7443 - val_loss: 13.3368 - val_mae: 2.8737\n",
            "Epoch 8/16\n",
            "326/326 [==============================] - 67s 204ms/step - loss: 12.5894 - mae: 2.7126 - val_loss: 13.4057 - val_mae: 2.8809\n",
            "Epoch 9/16\n",
            "326/326 [==============================] - 67s 204ms/step - loss: 12.2268 - mae: 2.6738 - val_loss: 14.1674 - val_mae: 2.9544\n",
            "Epoch 10/16\n",
            "326/326 [==============================] - 66s 202ms/step - loss: 11.8424 - mae: 2.6345 - val_loss: 14.6836 - val_mae: 3.0258\n",
            "Epoch 11/16\n",
            "326/326 [==============================] - 68s 207ms/step - loss: 11.5973 - mae: 2.6059 - val_loss: 13.5505 - val_mae: 2.8878\n",
            "Epoch 12/16\n",
            "326/326 [==============================] - 67s 203ms/step - loss: 11.3644 - mae: 2.5818 - val_loss: 14.7476 - val_mae: 3.0114\n",
            "Epoch 13/16\n",
            "326/326 [==============================] - 68s 208ms/step - loss: 11.0494 - mae: 2.5370 - val_loss: 14.1192 - val_mae: 2.9457\n",
            "Epoch 14/16\n",
            "326/326 [==============================] - 66s 202ms/step - loss: 10.8545 - mae: 2.5131 - val_loss: 14.1691 - val_mae: 2.9506\n",
            "Epoch 15/16\n",
            "326/326 [==============================] - 66s 202ms/step - loss: 10.7139 - mae: 2.4977 - val_loss: 14.4936 - val_mae: 2.9854\n",
            "Epoch 16/16\n",
            "326/326 [==============================] - 68s 207ms/step - loss: 10.5941 - mae: 2.4751 - val_loss: 14.8322 - val_mae: 3.0192\n",
            "1144/1144 [==============================] - 75s 65ms/step - loss: 11.7116 - mae: 2.6747\n",
            "Test MAE: 2.67\n"
          ]
        }
      ],
      "source": [
        "inputs = keras.Input(shape=(sequence_length, raw_data.shape[-1]))\n",
        "x = layers.LSTM(32, recurrent_dropout=0.25)(inputs)\n",
        "x = layers.Dropout(0.5)(x)\n",
        "outputs = layers.Dense(1)(x)\n",
        "model = keras.Model(inputs, outputs)\n",
        "\n",
        "callbacks = [\n",
        "    keras.callbacks.ModelCheckpoint(\"jena_lstm.keras\",\n",
        "                                    save_best_only=True)\n",
        "]\n",
        "model.compile(optimizer=\"rmsprop\", loss=\"mse\", metrics=[\"mae\"])\n",
        "history = model.fit(train_dataset,\n",
        "                    epochs=16,\n",
        "                    validation_data=val_dataset,\n",
        "                    callbacks=callbacks)\n",
        "\n",
        "model = keras.models.load_model(\"jena_lstm.keras\")\n",
        "print(f\"Test MAE: {model.evaluate(test_dataset)[1]:.2f}\")"
      ]
    },
    {
      "cell_type": "code",
      "execution_count": 25,
      "metadata": {
        "id": "uHshGu_AhHwg",
        "colab": {
          "base_uri": "https://localhost:8080/",
          "height": 452
        },
        "outputId": "503b2aba-4dc4-443d-826f-4be448378608"
      },
      "outputs": [
        {
          "output_type": "display_data",
          "data": {
            "text/plain": [
              "<Figure size 640x480 with 1 Axes>"
            ],
            "image/png": "[encoded data removed]"
          },
          "metadata": {}
        }
      ],
      "source": [
        "loss = history.history[\"mae\"]\n",
        "val_loss = history.history[\"val_mae\"]\n",
        "epochs = range(1, len(loss) + 1)\n",
        "plt.figure()\n",
        "plt.plot(epochs, loss, \"bo\", label=\"Treinamento MAE\")\n",
        "plt.plot(epochs, val_loss, \"b\", label=\"Validação MAE\")\n",
        "plt.title(\"Treino and validação MAE\")\n",
        "plt.legend()\n",
        "plt.show()"
      ]
    }
  ],
  "metadata": {
    "colab": {
      "provenance": [],
      "include_colab_link": true
    },
    "kernelspec": {
      "display_name": "Python 3",
      "language": "python",
      "name": "python3"
    },
    "language_info": {
      "codemirror_mode": {
        "name": "ipython",
        "version": 3
      },
      "file_extension": ".py",
      "mimetype": "text/x-python",
      "name": "python",
      "nbconvert_exporter": "python",
      "pygments_lexer": "ipython3",
      "version": "3.7.0"
    }
  },
  "nbformat": 4,
  "nbformat_minor": 0
}