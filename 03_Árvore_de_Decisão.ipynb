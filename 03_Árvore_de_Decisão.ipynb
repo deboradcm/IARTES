{
  "cells": [
    {
      "cell_type": "markdown",
      "metadata": {
        "id": "view-in-github",
        "colab_type": "text"
      },
      "source": [
        "<a href=\"https://colab.research.google.com/github/deboradcm/IARTES/blob/master/03_%C3%81rvore_de_Decis%C3%A3o.ipynb\" target=\"_parent\"><img src=\"https://colab.research.google.com/assets/colab-badge.svg\" alt=\"Open In Colab\"/></a>"
      ]
    },
    {
      "cell_type": "markdown",
      "metadata": {
        "id": "5Q936NDXKXYD"
      },
      "source": [
        "# Árvore de Decisão\n"
      ]
    },
    {
      "cell_type": "markdown",
      "metadata": {
        "id": "5XBdCvyUTLmg"
      },
      "source": [
        "Nesta aula nós veremos o uso do método de AM baseado em Árvore de Decisão existente no scikit-learn."
      ]
    },
    {
      "cell_type": "markdown",
      "metadata": {
        "id": "WLL-DipSrGBW"
      },
      "source": [
        "**Índice:**\n",
        "\n",
        "  - [Configuração do notebook e dos dados](#Configuração-do-notebook-e-dos-dados)\n",
        "    - [Atividade 1](#Atividade-1)\n",
        "    - [Atividade 2](#Atividade-2)\n",
        "  - [Treinamento do modelo](#Treinamento-do-modelo)\n",
        "    - [Atividade 3](#Atividade-3)\n",
        "  - [Teste do modelo](#Teste-do-modelo)\n",
        "    - [Atividade 4](#Atividade-4)\n",
        "    - [Atividade 5](#Atividade-5)\n"
      ]
    },
    {
      "cell_type": "markdown",
      "metadata": {
        "id": "C-O3BMwerGBX"
      },
      "source": [
        "## Configuração do notebook e dos dados"
      ]
    },
    {
      "cell_type": "markdown",
      "metadata": {
        "id": "14ZLa0uxrGBX"
      },
      "source": [
        "Vamos utilizar algumas bibliotecas para isso:\n",
        "\n",
        "- `numpy` e `pandas`: para trabalhar com os dados tabulares\n",
        "- `sklearn`: modelos, classes para manipular dados e analisar resultados\n",
        "- `pyplot`: biblioteca para gerar gráficos"
      ]
    },
    {
      "cell_type": "code",
      "execution_count": null,
      "metadata": {
        "id": "B_pypY8nZ2v3"
      },
      "outputs": [],
      "source": [
        "import matplotlib.pyplot as plt\n",
        "import numpy as np\n",
        "import sklearn\n",
        "import pandas as pd"
      ]
    },
    {
      "cell_type": "markdown",
      "metadata": {
        "id": "BCCjs_VPrGBY"
      },
      "source": [
        "Usaremos dois arquivos que você pode baixar no ColabWeb:\n",
        "\n",
        "- `iris-treino.csv`: contém a amostra de treinamento. São os exemplos que, em uma aplicação real, nós teríamos coletado para encontrar os parâmetros do modelo\n",
        "- `iris-teste.csv`: contém um conjunto de dados que simula os exemplos futuros, isto é, aqueles que serão usados com o nosso modelo em produção\n",
        "\n",
        "Ambos os arquivos contêm dados que foram sub-amostrados da base `Iris`. Você pode obter a base `Iris` completa se executar os seguintes comandos:\n",
        "\n",
        "```Python\n",
        "from sklearn.datasets import load_iris\n",
        "iris_dataset = load_iris()\n",
        "```\n",
        "\n",
        "Mas por ora vamos tratar dos dois subconjuntos selecionados para a aula."
      ]
    },
    {
      "cell_type": "markdown",
      "metadata": {
        "id": "sQRJvsOcrGBY"
      },
      "source": [
        "### Atividade 1\n",
        "\n",
        "Carregue os arquivos de treino e de teste usando `pd.read_csv`."
      ]
    },
    {
      "cell_type": "code",
      "execution_count": null,
      "metadata": {
        "id": "La4f_PRyrGBZ"
      },
      "outputs": [],
      "source": [
        "iris_treino = pd.read_csv('/content/iris-treino.csv')\n",
        "iris_teste = pd.read_csv('/content/iris-teste.csv')"
      ]
    },
    {
      "cell_type": "markdown",
      "metadata": {
        "id": "-wIklZdArGBa"
      },
      "source": [
        "Verifique as dimensões dos dois conjuntos.\n",
        "\n",
        "O conjunto de treino deve ter 64 linhas e 5 colunas, enquanto o conjunto de teste deve ter 86 linhas e 5 colunas."
      ]
    },
    {
      "cell_type": "code",
      "execution_count": null,
      "metadata": {
        "colab": {
          "base_uri": "https://localhost:8080/"
        },
        "id": "yO2TUdc_rGBa",
        "outputId": "90a56f2f-f2a8-4254-f48f-2bb9615dd24c"
      },
      "outputs": [
        {
          "output_type": "stream",
          "name": "stdout",
          "text": [
            "O conjuto de treino está ok\n",
            "O conjuto de teste está ok\n"
          ]
        }
      ],
      "source": [
        "print(\"O conjuto de treino\", \"está ok\" if iris_treino.shape == (64,5) else \"contém erros\")\n",
        "print(\"O conjuto de teste\", \"está ok\" if iris_teste.shape == (86,5) else \"contém erros\")"
      ]
    },
    {
      "cell_type": "markdown",
      "metadata": {
        "id": "9QNIckR_rGBa"
      },
      "source": [
        "Verifique o índice das colunas de um dos dois conjuntos."
      ]
    },
    {
      "cell_type": "code",
      "execution_count": null,
      "metadata": {
        "colab": {
          "base_uri": "https://localhost:8080/"
        },
        "id": "O_ypx86erGBa",
        "outputId": "7e062371-a5a1-4a75-d1a1-55c6cfdcfea4"
      },
      "outputs": [
        {
          "output_type": "execute_result",
          "data": {
            "text/plain": [
              "array(['sepal_length', 'sepal_width', 'petal_length', 'petal_width',\n",
              "       'species'], dtype=object)"
            ]
          },
          "metadata": {},
          "execution_count": 4
        }
      ],
      "source": [
        "iris_treino.columns.values"
      ]
    },
    {
      "cell_type": "markdown",
      "metadata": {
        "id": "piwID7zMrGBa"
      },
      "source": [
        "Essas colunas são os **atributos** da base. Eles descrevem espécimes de três sub-espécies da flor Iris: *Iris versicolor*, *Iris setosa* e *Iris virginica*.\n",
        "\n",
        "As flores são ilustras na figura a seguir."
      ]
    },
    {
      "cell_type": "markdown",
      "metadata": {
        "id": "mMNTVd9q5Cxj"
      },
      "source": [
        "![texto alternativo](https://drive.google.com/uc?export=view&id=1y60Qw8n06cfSgDXL_sqHFaTYQl-tTpmE)"
      ]
    },
    {
      "cell_type": "markdown",
      "metadata": {
        "id": "KOyyXrnCrGBb"
      },
      "source": [
        "Os atributos são os seguintes:\n",
        "\n",
        "- `sepal_length` e `sepal_width`: comprimento e largura da sépala, respectivamente\n",
        "- `petal_length` e `petal_width`: comprimento e largura da pétala, respectivamente"
      ]
    },
    {
      "cell_type": "markdown",
      "metadata": {
        "id": "dmkTrz_8rGBb"
      },
      "source": [
        "Note que as classes são strings."
      ]
    },
    {
      "cell_type": "markdown",
      "metadata": {
        "id": "iVQhbASyrGBb"
      },
      "source": [
        "### Atividade 2\n",
        "\n",
        "Use o método `pd.Series.unique()`, aplicado na coluna `species`, para obter os valores das três classes."
      ]
    },
    {
      "cell_type": "code",
      "execution_count": null,
      "metadata": {
        "colab": {
          "base_uri": "https://localhost:8080/"
        },
        "id": "VuA8jhdKrGBb",
        "outputId": "57c74383-f222-499a-92ae-702a45bb5680"
      },
      "outputs": [
        {
          "output_type": "execute_result",
          "data": {
            "text/plain": [
              "array(['virginica', 'setosa', 'versicolor'], dtype=object)"
            ]
          },
          "metadata": {},
          "execution_count": 5
        }
      ],
      "source": [
        "pd.Series.unique(iris_treino.iloc[:,-1])"
      ]
    },
    {
      "cell_type": "markdown",
      "metadata": {
        "id": "D8xtTJWNrGBb"
      },
      "source": [
        "Uma característica do scikit-learn é que as suas classes exigem valores numéricos. É necessário converter as strings utilizando um esquema de codificação. Por exemplo\n",
        "\n",
        "Nome da classe | Código numérico\n",
        ":-- | :--\n",
        "`setosa` | 0\n",
        "`versicolor` | 1\n",
        "`virginica` | 2\n",
        "\n",
        "Essa codificação pode ser feita com a classe `LabelEncoder`, do módulo `sklearn.preprocessing`.\n",
        "\n",
        "Vamos fazer isso ao mesmo tempo que separamos os conjuntos entre características (atributos de entrada) e rótulos."
      ]
    },
    {
      "cell_type": "markdown",
      "metadata": {
        "id": "vNeCD9hFrGBb"
      },
      "source": [
        "1) Vamos obter as características de treino e de teste"
      ]
    },
    {
      "cell_type": "code",
      "execution_count": null,
      "metadata": {
        "colab": {
          "base_uri": "https://localhost:8080/"
        },
        "id": "2yVrdqekrGBb",
        "outputId": "108056e5-9e7e-4396-ab8d-c9867a08fa6a"
      },
      "outputs": [
        {
          "output_type": "execute_result",
          "data": {
            "text/plain": [
              "array([[7.7, 3.8, 6.7, 2.2],\n",
              "       [6.3, 3.3, 6. , 2.5],\n",
              "       [7.2, 3.2, 6. , 1.8],\n",
              "       [7. , 3.2, 4.7, 1.4],\n",
              "       [6.8, 2.8, 4.8, 1.4],\n",
              "       [7.6, 3. , 6.6, 2.1],\n",
              "       [5.9, 3.2, 4.8, 1.8],\n",
              "       [5.8, 2.7, 3.9, 1.2],\n",
              "       [5.1, 3.7, 1.5, 0.4],\n",
              "       [5. , 2. , 3.5, 1. ],\n",
              "       [6.9, 3.2, 5.7, 2.3],\n",
              "       [5.7, 2.8, 4.1, 1.3],\n",
              "       [4.5, 2.3, 1.3, 0.3],\n",
              "       [5. , 3.5, 1.6, 0.6],\n",
              "       [6.8, 3.2, 5.9, 2.3],\n",
              "       [5.5, 2.5, 4. , 1.3],\n",
              "       [6.5, 2.8, 4.6, 1.5],\n",
              "       [5.4, 3.4, 1.5, 0.4],\n",
              "       [6.1, 3. , 4.6, 1.4],\n",
              "       [4.4, 2.9, 1.4, 0.2],\n",
              "       [6.4, 2.8, 5.6, 2.2],\n",
              "       [6.9, 3.1, 5.1, 2.3],\n",
              "       [6.3, 2.9, 5.6, 1.8],\n",
              "       [4.7, 3.2, 1.6, 0.2],\n",
              "       [4.9, 3.6, 1.4, 0.1],\n",
              "       [7.3, 2.9, 6.3, 1.8],\n",
              "       [7.2, 3. , 5.8, 1.6],\n",
              "       [6.3, 2.3, 4.4, 1.3],\n",
              "       [6.3, 2.7, 4.9, 1.8],\n",
              "       [5.8, 2.7, 5.1, 1.9],\n",
              "       [5.7, 2.8, 4.5, 1.3],\n",
              "       [5.8, 2.6, 4. , 1.2],\n",
              "       [6.7, 3.1, 5.6, 2.4],\n",
              "       [5.5, 2.3, 4. , 1.3],\n",
              "       [4.4, 3. , 1.3, 0.2],\n",
              "       [5.2, 3.4, 1.4, 0.2],\n",
              "       [6.1, 2.6, 5.6, 1.4],\n",
              "       [5.1, 2.5, 3. , 1.1],\n",
              "       [6.1, 3. , 4.9, 1.8],\n",
              "       [4.9, 2.5, 4.5, 1.7],\n",
              "       [6.4, 3.1, 5.5, 1.8],\n",
              "       [6.9, 3.1, 5.4, 2.1],\n",
              "       [6.3, 2.5, 4.9, 1.5],\n",
              "       [5. , 3.5, 1.3, 0.3],\n",
              "       [5.7, 2.5, 5. , 2. ],\n",
              "       [4.6, 3.2, 1.4, 0.2],\n",
              "       [6.7, 3.1, 4.7, 1.5],\n",
              "       [7.7, 3. , 6.1, 2.3],\n",
              "       [7.4, 2.8, 6.1, 1.9],\n",
              "       [4.3, 3. , 1.1, 0.1],\n",
              "       [5.3, 3.7, 1.5, 0.2],\n",
              "       [6.1, 2.9, 4.7, 1.4],\n",
              "       [5.1, 3.4, 1.5, 0.2],\n",
              "       [5.2, 3.5, 1.5, 0.2],\n",
              "       [6. , 2.2, 4. , 1. ],\n",
              "       [6.7, 3.1, 4.4, 1.4],\n",
              "       [5.7, 2.9, 4.2, 1.3],\n",
              "       [5.8, 2.7, 5.1, 1.9],\n",
              "       [5. , 3.4, 1.5, 0.2],\n",
              "       [7.7, 2.8, 6.7, 2. ],\n",
              "       [5.4, 3.9, 1.7, 0.4],\n",
              "       [4.8, 3.4, 1.9, 0.2],\n",
              "       [5.4, 3. , 4.5, 1.5],\n",
              "       [5.7, 2.6, 3.5, 1. ],\n",
              "       [5.1, 3.8, 1.6, 0.2],\n",
              "       [4.9, 3. , 1.4, 0.2],\n",
              "       [5.7, 3.8, 1.7, 0.3],\n",
              "       [7.7, 2.6, 6.9, 2.3],\n",
              "       [7.2, 3.6, 6.1, 2.5],\n",
              "       [5.1, 3.5, 1.4, 0.2],\n",
              "       [5.5, 2.4, 3.7, 1. ],\n",
              "       [5.2, 4.1, 1.5, 0.1],\n",
              "       [6.2, 2.9, 4.3, 1.3],\n",
              "       [5.4, 3.9, 1.3, 0.4],\n",
              "       [5.1, 3.8, 1.9, 0.4],\n",
              "       [6.7, 3. , 5.2, 2.3],\n",
              "       [4.9, 2.4, 3.3, 1. ],\n",
              "       [6. , 3. , 4.8, 1.8],\n",
              "       [5.6, 2.7, 4.2, 1.3],\n",
              "       [6.8, 3. , 5.5, 2.1],\n",
              "       [6.4, 3.2, 5.3, 2.3],\n",
              "       [5.6, 3. , 4.1, 1.3],\n",
              "       [6. , 2.2, 5. , 1.5],\n",
              "       [6.3, 3.4, 5.6, 2.4],\n",
              "       [7.1, 3. , 5.9, 2.1],\n",
              "       [6.4, 2.8, 5.6, 2.1]])"
            ]
          },
          "metadata": {},
          "execution_count": 7
        }
      ],
      "source": [
        "X_train = iris_treino.iloc[:, :-1].values\n",
        "X_test = iris_teste.iloc[:, :-1].values\n",
        "X_test"
      ]
    },
    {
      "cell_type": "markdown",
      "metadata": {
        "id": "E3RzbTtYrGBc"
      },
      "source": [
        "2. Vamos \"treinar\" um codificador de rótulos nas classes do conjunto de treinamento"
      ]
    },
    {
      "cell_type": "code",
      "execution_count": null,
      "metadata": {
        "id": "uOqGnlPwrGBc"
      },
      "outputs": [],
      "source": [
        "from sklearn.preprocessing import LabelEncoder"
      ]
    },
    {
      "cell_type": "code",
      "execution_count": null,
      "metadata": {
        "id": "ahNU38Y_rGBc"
      },
      "outputs": [],
      "source": [
        "le = LabelEncoder().fit(iris_treino['species'])"
      ]
    },
    {
      "cell_type": "markdown",
      "metadata": {
        "id": "SjfBr6hnrGBc"
      },
      "source": [
        "3. Vamos obter as classes de treino e de teste já codificadas."
      ]
    },
    {
      "cell_type": "code",
      "execution_count": null,
      "metadata": {
        "colab": {
          "base_uri": "https://localhost:8080/"
        },
        "id": "sud0NZLmrGBc",
        "outputId": "9d64885e-9722-4bf8-cc4e-084084ec884c"
      },
      "outputs": [
        {
          "output_type": "execute_result",
          "data": {
            "text/plain": [
              "0      virginica\n",
              "1         setosa\n",
              "2      virginica\n",
              "3     versicolor\n",
              "4         setosa\n",
              "         ...    \n",
              "59        setosa\n",
              "60    versicolor\n",
              "61    versicolor\n",
              "62    versicolor\n",
              "63    versicolor\n",
              "Name: species, Length: 64, dtype: object"
            ]
          },
          "metadata": {},
          "execution_count": 10
        }
      ],
      "source": [
        "y_train = le.transform(iris_treino['species'])\n",
        "y_test = le.transform(iris_teste['species'])\n",
        "iris_treino['species']"
      ]
    },
    {
      "cell_type": "markdown",
      "metadata": {
        "id": "l5AEHmCfrGBc"
      },
      "source": [
        "## Treinamento do modelo"
      ]
    },
    {
      "cell_type": "markdown",
      "metadata": {
        "id": "xuDYfnS0Rp98"
      },
      "source": [
        "Agora que a base de dados está carregada e as duas partições de dados estão criadas, nós utilizaremos o método de árvore de decisão para classificação."
      ]
    },
    {
      "cell_type": "code",
      "execution_count": null,
      "metadata": {
        "colab": {
          "base_uri": "https://localhost:8080/"
        },
        "id": "OyYEQE3YrGBd",
        "outputId": "6673a6d4-5af6-4e88-b44a-502d4a21e0ae"
      },
      "outputs": [
        {
          "output_type": "execute_result",
          "data": {
            "text/plain": [
              "['BaseDecisionTree',\n",
              " 'DecisionTreeClassifier',\n",
              " 'DecisionTreeRegressor',\n",
              " 'ExtraTreeClassifier',\n",
              " 'ExtraTreeRegressor',\n",
              " '__all__',\n",
              " '__builtins__',\n",
              " '__cached__',\n",
              " '__doc__',\n",
              " '__file__',\n",
              " '__loader__',\n",
              " '__name__',\n",
              " '__package__',\n",
              " '__path__',\n",
              " '__spec__',\n",
              " '_classes',\n",
              " '_criterion',\n",
              " '_export',\n",
              " '_reingold_tilford',\n",
              " '_splitter',\n",
              " '_tree',\n",
              " '_utils',\n",
              " 'export_graphviz',\n",
              " 'export_text',\n",
              " 'plot_tree']"
            ]
          },
          "metadata": {},
          "execution_count": 11
        }
      ],
      "source": [
        "from sklearn.tree import DecisionTreeClassifier\n",
        "dir(sklearn.tree)"
      ]
    },
    {
      "cell_type": "markdown",
      "metadata": {
        "id": "R8jwrnJnrGBd"
      },
      "source": [
        "Para treinar e aplicar modelos, o scikit-learn adota um protocolo de duas partes:\n",
        "\n",
        "- `fit`: realiza o *ajuste* do modelo aos dados, encontrando os parâmetros da melhor hipótese à amostra de treinamento\n",
        "- `predict`: aplica o modelo a um conjunto de dados, realizando a previsão da classe\n",
        "\n",
        "Para o ajuste, o modelo precisa de acesso às características e às classes. Para previsões, o modelo precisa apenas das características dos exemplos a serem previstos, e retorna os valores previstos."
      ]
    },
    {
      "cell_type": "markdown",
      "metadata": {
        "id": "Inq35IIUrGBd"
      },
      "source": [
        "### Atividade 3\n",
        "\n",
        "Instancie um objeto da classe `DecisionTreeClassifier`. Caso nenhum argumento seja passado para o construtor, será utilizado o critério de impureza de Gini para encontrar os atributos. Para usar ganho de informação e entropia, especifique `criterion='entropy'`.\n",
        "\n",
        "Em seguida, usando o método `fit`, faça o treinamento do modelo para a amostra de treino."
      ]
    },
    {
      "cell_type": "code",
      "execution_count": null,
      "metadata": {
        "id": "ZfPJHnGCrGBd"
      },
      "outputs": [],
      "source": [
        "clf = DecisionTreeClassifier(criterion='entropy')"
      ]
    },
    {
      "cell_type": "code",
      "execution_count": null,
      "metadata": {
        "id": "W7XAxgMNrGBd"
      },
      "outputs": [],
      "source": [
        "clf.fit(X_train, y_train);"
      ]
    },
    {
      "cell_type": "markdown",
      "metadata": {
        "id": "l_E9UCM8rGBe"
      },
      "source": [
        "Vamos visualizar essa árvore? Use o método `DecisionTreeClassifier.plot_tree()` para desenhar uma figura que representa as decisões que foram aprendidas pelo modelo de árvore. O método `plt.figure()` é usado primeiramente para especificarmos as dimensões da figura que será plotada."
      ]
    },
    {
      "cell_type": "code",
      "execution_count": null,
      "metadata": {
        "colab": {
          "base_uri": "https://localhost:8080/",
          "height": 499
        },
        "id": "GOxYoyrkrGBe",
        "outputId": "b51bbc9c-4984-4a6c-83a2-ccaeb7e0d8ec"
      },
      "outputs": [
        {
          "output_type": "display_data",
          "data": {
            "text/plain": [
              "<Figure size 500x600 with 1 Axes>"
            ],
            "image/png": "[encoded data removed]"
          },
          "metadata": {}
        }
      ],
      "source": [
        "plt.figure(figsize=(5, 6));\n",
        "sklearn.tree.plot_tree(clf);"
      ]
    },
    {
      "cell_type": "markdown",
      "metadata": {
        "id": "8zSjzaZArGBe"
      },
      "source": [
        "## Teste do modelo"
      ]
    },
    {
      "cell_type": "markdown",
      "metadata": {
        "id": "8_0GTR8QrGBe"
      },
      "source": [
        "Agora vamos verificar como esse modelo se comporta quando é aplicado aos exemplos do conjunto de teste. Isso nos permite simular o desempenho do modelo \"no mundo real\"."
      ]
    },
    {
      "cell_type": "markdown",
      "metadata": {
        "id": "SULBCNBxrGBe"
      },
      "source": [
        "### Atividade 4\n",
        "\n",
        "Faça previsão com o modelo nos dados de teste."
      ]
    },
    {
      "cell_type": "code",
      "execution_count": null,
      "metadata": {
        "id": "Eu10Yt9IrGBe"
      },
      "outputs": [],
      "source": [
        "ypred = clf.predict(X_test)"
      ]
    },
    {
      "cell_type": "markdown",
      "metadata": {
        "id": "L161mU_9rGBf"
      },
      "source": [
        "Verifique quais foram as classes preditas."
      ]
    },
    {
      "cell_type": "code",
      "execution_count": null,
      "metadata": {
        "colab": {
          "base_uri": "https://localhost:8080/"
        },
        "id": "UEMCix_grGBf",
        "outputId": "b5b49699-c435-480e-b274-a984e22b0753"
      },
      "outputs": [
        {
          "output_type": "execute_result",
          "data": {
            "text/plain": [
              "array([2, 2, 2, 1, 1, 2, 2, 1, 0, 1, 2, 1, 0, 0, 2, 1, 1, 0, 1, 0, 2, 2,\n",
              "       2, 0, 0, 2, 2, 1, 2, 2, 1, 1, 2, 1, 0, 0, 1, 1, 2, 1, 2, 2, 1, 0,\n",
              "       2, 0, 1, 2, 2, 0, 0, 1, 0, 0, 1, 1, 1, 2, 0, 2, 0, 0, 1, 1, 0, 0,\n",
              "       0, 2, 2, 0, 1, 0, 1, 0, 0, 2, 1, 2, 1, 2, 2, 1, 1, 2, 2, 2])"
            ]
          },
          "metadata": {},
          "execution_count": 16
        }
      ],
      "source": [
        "ypred"
      ]
    },
    {
      "cell_type": "markdown",
      "metadata": {
        "id": "d8eSowAKrGBf"
      },
      "source": [
        "Os resultados são todos numéricos... mas podemos usar o `LabelEncoder` para verificar quais flores são essas."
      ]
    },
    {
      "cell_type": "code",
      "execution_count": null,
      "metadata": {
        "colab": {
          "base_uri": "https://localhost:8080/"
        },
        "id": "nK45EOP4rGBf",
        "outputId": "6e10abb4-b853-476a-ee2d-aed050ef8734"
      },
      "outputs": [
        {
          "output_type": "execute_result",
          "data": {
            "text/plain": [
              "array(['virginica', 'virginica', 'virginica', 'versicolor', 'versicolor',\n",
              "       'virginica', 'virginica', 'versicolor', 'setosa', 'versicolor',\n",
              "       'virginica', 'versicolor', 'setosa', 'setosa', 'virginica',\n",
              "       'versicolor', 'versicolor', 'setosa', 'versicolor', 'setosa',\n",
              "       'virginica', 'virginica', 'virginica', 'setosa', 'setosa',\n",
              "       'virginica', 'virginica', 'versicolor', 'virginica', 'virginica',\n",
              "       'versicolor', 'versicolor', 'virginica', 'versicolor', 'setosa',\n",
              "       'setosa', 'versicolor', 'versicolor', 'virginica', 'versicolor',\n",
              "       'virginica', 'virginica', 'versicolor', 'setosa', 'virginica',\n",
              "       'setosa', 'versicolor', 'virginica', 'virginica', 'setosa',\n",
              "       'setosa', 'versicolor', 'setosa', 'setosa', 'versicolor',\n",
              "       'versicolor', 'versicolor', 'virginica', 'setosa', 'virginica',\n",
              "       'setosa', 'setosa', 'versicolor', 'versicolor', 'setosa', 'setosa',\n",
              "       'setosa', 'virginica', 'virginica', 'setosa', 'versicolor',\n",
              "       'setosa', 'versicolor', 'setosa', 'setosa', 'virginica',\n",
              "       'versicolor', 'virginica', 'versicolor', 'virginica', 'virginica',\n",
              "       'versicolor', 'versicolor', 'virginica', 'virginica', 'virginica'],\n",
              "      dtype=object)"
            ]
          },
          "metadata": {},
          "execution_count": 17
        }
      ],
      "source": [
        "le.inverse_transform(ypred)"
      ]
    },
    {
      "cell_type": "markdown",
      "metadata": {
        "id": "l4qLzAXPrGBf"
      },
      "source": [
        "Mais convenientemente, podemos fazer um `DataFrame` comparando quais casos foram corretamente classificados e quais foram incorretamente classificados."
      ]
    },
    {
      "cell_type": "code",
      "execution_count": null,
      "metadata": {
        "colab": {
          "base_uri": "https://localhost:8080/",
          "height": 424
        },
        "id": "XJcTLLXUrGBf",
        "outputId": "29433b53-13a4-46d1-fbfa-00f6c760f429"
      },
      "outputs": [
        {
          "output_type": "execute_result",
          "data": {
            "text/plain": [
              "   Classe verdadeira Classe predita\n",
              "0          virginica      virginica\n",
              "1          virginica      virginica\n",
              "2          virginica      virginica\n",
              "3         versicolor     versicolor\n",
              "4         versicolor     versicolor\n",
              "..               ...            ...\n",
              "81        versicolor     versicolor\n",
              "82         virginica     versicolor\n",
              "83         virginica      virginica\n",
              "84         virginica      virginica\n",
              "85         virginica      virginica\n",
              "\n",
              "[86 rows x 2 columns]"
            ],
            "text/html": [
              "\n",
              "  <div id=\"df-a2c3367b-1c99-4686-ae2d-233babdee459\" class=\"colab-df-container\">\n",
              "    <div>\n",
              "<style scoped>\n",
              "    .dataframe tbody tr th:only-of-type {\n",
              "        vertical-align: middle;\n",
              "    }\n",
              "\n",
              "    .dataframe tbody tr th {\n",
              "        vertical-align: top;\n",
              "    }\n",
              "\n",
              "    .dataframe thead th {\n",
              "        text-align: right;\n",
              "    }\n",
              "</style>\n",
              "<table border=\"1\" class=\"dataframe\">\n",
              "  <thead>\n",
              "    <tr style=\"text-align: right;\">\n",
              "      <th></th>\n",
              "      <th>Classe verdadeira</th>\n",
              "      <th>Classe predita</th>\n",
              "    </tr>\n",
              "  </thead>\n",
              "  <tbody>\n",
              "    <tr>\n",
              "      <th>0</th>\n",
              "      <td>virginica</td>\n",
              "      <td>virginica</td>\n",
              "    </tr>\n",
              "    <tr>\n",
              "      <th>1</th>\n",
              "      <td>virginica</td>\n",
              "      <td>virginica</td>\n",
              "    </tr>\n",
              "    <tr>\n",
              "      <th>2</th>\n",
              "      <td>virginica</td>\n",
              "      <td>virginica</td>\n",
              "    </tr>\n",
              "    <tr>\n",
              "      <th>3</th>\n",
              "      <td>versicolor</td>\n",
              "      <td>versicolor</td>\n",
              "    </tr>\n",
              "    <tr>\n",
              "      <th>4</th>\n",
              "      <td>versicolor</td>\n",
              "      <td>versicolor</td>\n",
              "    </tr>\n",
              "    <tr>\n",
              "      <th>...</th>\n",
              "      <td>...</td>\n",
              "      <td>...</td>\n",
              "    </tr>\n",
              "    <tr>\n",
              "      <th>81</th>\n",
              "      <td>versicolor</td>\n",
              "      <td>versicolor</td>\n",
              "    </tr>\n",
              "    <tr>\n",
              "      <th>82</th>\n",
              "      <td>virginica</td>\n",
              "      <td>versicolor</td>\n",
              "    </tr>\n",
              "    <tr>\n",
              "      <th>83</th>\n",
              "      <td>virginica</td>\n",
              "      <td>virginica</td>\n",
              "    </tr>\n",
              "    <tr>\n",
              "      <th>84</th>\n",
              "      <td>virginica</td>\n",
              "      <td>virginica</td>\n",
              "    </tr>\n",
              "    <tr>\n",
              "      <th>85</th>\n",
              "      <td>virginica</td>\n",
              "      <td>virginica</td>\n",
              "    </tr>\n",
              "  </tbody>\n",
              "</table>\n",
              "<p>86 rows × 2 columns</p>\n",
              "</div>\n",
              "    <div class=\"colab-df-buttons\">\n",
              "\n",
              "  <div class=\"colab-df-container\">\n",
              "    <button class=\"colab-df-convert\" onclick=\"convertToInteractive('df-a2c3367b-1c99-4686-ae2d-233babdee459')\"\n",
              "            title=\"Convert this dataframe to an interactive table.\"\n",
              "            style=\"display:none;\">\n",
              "\n",
              "  <svg xmlns=\"http://www.w3.org/2000/svg\" height=\"24px\" viewBox=\"0 -960 960 960\">\n",
              "    <path d=\"M120-120v-720h720v720H120Zm60-500h600v-160H180v160Zm220 220h160v-160H400v160Zm0 220h160v-160H400v160ZM180-400h160v-160H180v160Zm440 0h160v-160H620v160ZM180-180h160v-160H180v160Zm440 0h160v-160H620v160Z\"/>\n",
              "  </svg>\n",
              "    </button>\n",
              "\n",
              "  <style>\n",
              "    .colab-df-container {\n",
              "      display:flex;\n",
              "      gap: 12px;\n",
              "    }\n",
              "\n",
              "    .colab-df-convert {\n",
              "      background-color: #E8F0FE;\n",
              "      border: none;\n",
              "      border-radius: 50%;\n",
              "      cursor: pointer;\n",
              "      display: none;\n",
              "      fill: #1967D2;\n",
              "      height: 32px;\n",
              "      padding: 0 0 0 0;\n",
              "      width: 32px;\n",
              "    }\n",
              "\n",
              "    .colab-df-convert:hover {\n",
              "      background-color: #E2EBFA;\n",
              "      box-shadow: 0px 1px 2px rgba(60, 64, 67, 0.3), 0px 1px 3px 1px rgba(60, 64, 67, 0.15);\n",
              "      fill: #174EA6;\n",
              "    }\n",
              "\n",
              "    .colab-df-buttons div {\n",
              "      margin-bottom: 4px;\n",
              "    }\n",
              "\n",
              "    [theme=dark] .colab-df-convert {\n",
              "      background-color: #3B4455;\n",
              "      fill: #D2E3FC;\n",
              "    }\n",
              "\n",
              "    [theme=dark] .colab-df-convert:hover {\n",
              "      background-color: #434B5C;\n",
              "      box-shadow: 0px 1px 3px 1px rgba(0, 0, 0, 0.15);\n",
              "      filter: drop-shadow(0px 1px 2px rgba(0, 0, 0, 0.3));\n",
              "      fill: #FFFFFF;\n",
              "    }\n",
              "  </style>\n",
              "\n",
              "    <script>\n",
              "      const buttonEl =\n",
              "        document.querySelector('#df-a2c3367b-1c99-4686-ae2d-233babdee459 button.colab-df-convert');\n",
              "      buttonEl.style.display =\n",
              "        google.colab.kernel.accessAllowed ? 'block' : 'none';\n",
              "\n",
              "      async function convertToInteractive(key) {\n",
              "        const element = document.querySelector('#df-a2c3367b-1c99-4686-ae2d-233babdee459');\n",
              "        const dataTable =\n",
              "          await google.colab.kernel.invokeFunction('convertToInteractive',\n",
              "                                                    [key], {});\n",
              "        if (!dataTable) return;\n",
              "\n",
              "        const docLinkHtml = 'Like what you see? Visit the ' +\n",
              "          '<a target=\"_blank\" href=https://colab.research.google.com/notebooks/data_table.ipynb>data table notebook</a>'\n",
              "          + ' to learn more about interactive tables.';\n",
              "        element.innerHTML = '';\n",
              "        dataTable['output_type'] = 'display_data';\n",
              "        await google.colab.output.renderOutput(dataTable, element);\n",
              "        const docLink = document.createElement('div');\n",
              "        docLink.innerHTML = docLinkHtml;\n",
              "        element.appendChild(docLink);\n",
              "      }\n",
              "    </script>\n",
              "  </div>\n",
              "\n",
              "\n",
              "<div id=\"df-2c4ba8b8-e16e-4d35-8a81-53564378019e\">\n",
              "  <button class=\"colab-df-quickchart\" onclick=\"quickchart('df-2c4ba8b8-e16e-4d35-8a81-53564378019e')\"\n",
              "            title=\"Suggest charts\"\n",
              "            style=\"display:none;\">\n",
              "\n",
              "<svg xmlns=\"http://www.w3.org/2000/svg\" height=\"24px\"viewBox=\"0 0 24 24\"\n",
              "     width=\"24px\">\n",
              "    <g>\n",
              "        <path d=\"M19 3H5c-1.1 0-2 .9-2 2v14c0 1.1.9 2 2 2h14c1.1 0 2-.9 2-2V5c0-1.1-.9-2-2-2zM9 17H7v-7h2v7zm4 0h-2V7h2v10zm4 0h-2v-4h2v4z\"/>\n",
              "    </g>\n",
              "</svg>\n",
              "  </button>\n",
              "\n",
              "<style>\n",
              "  .colab-df-quickchart {\n",
              "      --bg-color: #E8F0FE;\n",
              "      --fill-color: #1967D2;\n",
              "      --hover-bg-color: #E2EBFA;\n",
              "      --hover-fill-color: #174EA6;\n",
              "      --disabled-fill-color: #AAA;\n",
              "      --disabled-bg-color: #DDD;\n",
              "  }\n",
              "\n",
              "  [theme=dark] .colab-df-quickchart {\n",
              "      --bg-color: #3B4455;\n",
              "      --fill-color: #D2E3FC;\n",
              "      --hover-bg-color: #434B5C;\n",
              "      --hover-fill-color: #FFFFFF;\n",
              "      --disabled-bg-color: #3B4455;\n",
              "      --disabled-fill-color: #666;\n",
              "  }\n",
              "\n",
              "  .colab-df-quickchart {\n",
              "    background-color: var(--bg-color);\n",
              "    border: none;\n",
              "    border-radius: 50%;\n",
              "    cursor: pointer;\n",
              "    display: none;\n",
              "    fill: var(--fill-color);\n",
              "    height: 32px;\n",
              "    padding: 0;\n",
              "    width: 32px;\n",
              "  }\n",
              "\n",
              "  .colab-df-quickchart:hover {\n",
              "    background-color: var(--hover-bg-color);\n",
              "    box-shadow: 0 1px 2px rgba(60, 64, 67, 0.3), 0 1px 3px 1px rgba(60, 64, 67, 0.15);\n",
              "    fill: var(--button-hover-fill-color);\n",
              "  }\n",
              "\n",
              "  .colab-df-quickchart-complete:disabled,\n",
              "  .colab-df-quickchart-complete:disabled:hover {\n",
              "    background-color: var(--disabled-bg-color);\n",
              "    fill: var(--disabled-fill-color);\n",
              "    box-shadow: none;\n",
              "  }\n",
              "\n",
              "  .colab-df-spinner {\n",
              "    border: 2px solid var(--fill-color);\n",
              "    border-color: transparent;\n",
              "    border-bottom-color: var(--fill-color);\n",
              "    animation:\n",
              "      spin 1s steps(1) infinite;\n",
              "  }\n",
              "\n",
              "  @keyframes spin {\n",
              "    0% {\n",
              "      border-color: transparent;\n",
              "      border-bottom-color: var(--fill-color);\n",
              "      border-left-color: var(--fill-color);\n",
              "    }\n",
              "    20% {\n",
              "      border-color: transparent;\n",
              "      border-left-color: var(--fill-color);\n",
              "      border-top-color: var(--fill-color);\n",
              "    }\n",
              "    30% {\n",
              "      border-color: transparent;\n",
              "      border-left-color: var(--fill-color);\n",
              "      border-top-color: var(--fill-color);\n",
              "      border-right-color: var(--fill-color);\n",
              "    }\n",
              "    40% {\n",
              "      border-color: transparent;\n",
              "      border-right-color: var(--fill-color);\n",
              "      border-top-color: var(--fill-color);\n",
              "    }\n",
              "    60% {\n",
              "      border-color: transparent;\n",
              "      border-right-color: var(--fill-color);\n",
              "    }\n",
              "    80% {\n",
              "      border-color: transparent;\n",
              "      border-right-color: var(--fill-color);\n",
              "      border-bottom-color: var(--fill-color);\n",
              "    }\n",
              "    90% {\n",
              "      border-color: transparent;\n",
              "      border-bottom-color: var(--fill-color);\n",
              "    }\n",
              "  }\n",
              "</style>\n",
              "\n",
              "  <script>\n",
              "    async function quickchart(key) {\n",
              "      const quickchartButtonEl =\n",
              "        document.querySelector('#' + key + ' button');\n",
              "      quickchartButtonEl.disabled = true;  // To prevent multiple clicks.\n",
              "      quickchartButtonEl.classList.add('colab-df-spinner');\n",
              "      try {\n",
              "        const charts = await google.colab.kernel.invokeFunction(\n",
              "            'suggestCharts', [key], {});\n",
              "      } catch (error) {\n",
              "        console.error('Error during call to suggestCharts:', error);\n",
              "      }\n",
              "      quickchartButtonEl.classList.remove('colab-df-spinner');\n",
              "      quickchartButtonEl.classList.add('colab-df-quickchart-complete');\n",
              "    }\n",
              "    (() => {\n",
              "      let quickchartButtonEl =\n",
              "        document.querySelector('#df-2c4ba8b8-e16e-4d35-8a81-53564378019e button');\n",
              "      quickchartButtonEl.style.display =\n",
              "        google.colab.kernel.accessAllowed ? 'block' : 'none';\n",
              "    })();\n",
              "  </script>\n",
              "</div>\n",
              "    </div>\n",
              "  </div>\n"
            ]
          },
          "metadata": {},
          "execution_count": 18
        }
      ],
      "source": [
        "tabela = pd.DataFrame(columns=['Classe verdadeira', 'Classe predita'])\n",
        "tabela.iloc[:,0] = iris_teste['species']\n",
        "tabela.iloc[:,1] = le.inverse_transform(ypred)\n",
        "tabela"
      ]
    },
    {
      "cell_type": "markdown",
      "metadata": {
        "id": "26T0xRVbrGBf"
      },
      "source": [
        "Parece que alguns casos estão incorretos..."
      ]
    },
    {
      "cell_type": "code",
      "execution_count": null,
      "metadata": {
        "colab": {
          "base_uri": "https://localhost:8080/",
          "height": 175
        },
        "id": "MxwBT3OErGBg",
        "outputId": "24fe8cd2-88e5-4318-f269-1d6eaa14aea0"
      },
      "outputs": [
        {
          "output_type": "execute_result",
          "data": {
            "text/plain": [
              "   Classe verdadeira Classe predita\n",
              "6         versicolor      virginica\n",
              "36         virginica     versicolor\n",
              "39         virginica     versicolor\n",
              "82         virginica     versicolor"
            ],
            "text/html": [
              "\n",
              "  <div id=\"df-abeff7f9-53ad-4a93-b5b0-8dcb5675cb09\" class=\"colab-df-container\">\n",
              "    <div>\n",
              "<style scoped>\n",
              "    .dataframe tbody tr th:only-of-type {\n",
              "        vertical-align: middle;\n",
              "    }\n",
              "\n",
              "    .dataframe tbody tr th {\n",
              "        vertical-align: top;\n",
              "    }\n",
              "\n",
              "    .dataframe thead th {\n",
              "        text-align: right;\n",
              "    }\n",
              "</style>\n",
              "<table border=\"1\" class=\"dataframe\">\n",
              "  <thead>\n",
              "    <tr style=\"text-align: right;\">\n",
              "      <th></th>\n",
              "      <th>Classe verdadeira</th>\n",
              "      <th>Classe predita</th>\n",
              "    </tr>\n",
              "  </thead>\n",
              "  <tbody>\n",
              "    <tr>\n",
              "      <th>6</th>\n",
              "      <td>versicolor</td>\n",
              "      <td>virginica</td>\n",
              "    </tr>\n",
              "    <tr>\n",
              "      <th>36</th>\n",
              "      <td>virginica</td>\n",
              "      <td>versicolor</td>\n",
              "    </tr>\n",
              "    <tr>\n",
              "      <th>39</th>\n",
              "      <td>virginica</td>\n",
              "      <td>versicolor</td>\n",
              "    </tr>\n",
              "    <tr>\n",
              "      <th>82</th>\n",
              "      <td>virginica</td>\n",
              "      <td>versicolor</td>\n",
              "    </tr>\n",
              "  </tbody>\n",
              "</table>\n",
              "</div>\n",
              "    <div class=\"colab-df-buttons\">\n",
              "\n",
              "  <div class=\"colab-df-container\">\n",
              "    <button class=\"colab-df-convert\" onclick=\"convertToInteractive('df-abeff7f9-53ad-4a93-b5b0-8dcb5675cb09')\"\n",
              "            title=\"Convert this dataframe to an interactive table.\"\n",
              "            style=\"display:none;\">\n",
              "\n",
              "  <svg xmlns=\"http://www.w3.org/2000/svg\" height=\"24px\" viewBox=\"0 -960 960 960\">\n",
              "    <path d=\"M120-120v-720h720v720H120Zm60-500h600v-160H180v160Zm220 220h160v-160H400v160Zm0 220h160v-160H400v160ZM180-400h160v-160H180v160Zm440 0h160v-160H620v160ZM180-180h160v-160H180v160Zm440 0h160v-160H620v160Z\"/>\n",
              "  </svg>\n",
              "    </button>\n",
              "\n",
              "  <style>\n",
              "    .colab-df-container {\n",
              "      display:flex;\n",
              "      gap: 12px;\n",
              "    }\n",
              "\n",
              "    .colab-df-convert {\n",
              "      background-color: #E8F0FE;\n",
              "      border: none;\n",
              "      border-radius: 50%;\n",
              "      cursor: pointer;\n",
              "      display: none;\n",
              "      fill: #1967D2;\n",
              "      height: 32px;\n",
              "      padding: 0 0 0 0;\n",
              "      width: 32px;\n",
              "    }\n",
              "\n",
              "    .colab-df-convert:hover {\n",
              "      background-color: #E2EBFA;\n",
              "      box-shadow: 0px 1px 2px rgba(60, 64, 67, 0.3), 0px 1px 3px 1px rgba(60, 64, 67, 0.15);\n",
              "      fill: #174EA6;\n",
              "    }\n",
              "\n",
              "    .colab-df-buttons div {\n",
              "      margin-bottom: 4px;\n",
              "    }\n",
              "\n",
              "    [theme=dark] .colab-df-convert {\n",
              "      background-color: #3B4455;\n",
              "      fill: #D2E3FC;\n",
              "    }\n",
              "\n",
              "    [theme=dark] .colab-df-convert:hover {\n",
              "      background-color: #434B5C;\n",
              "      box-shadow: 0px 1px 3px 1px rgba(0, 0, 0, 0.15);\n",
              "      filter: drop-shadow(0px 1px 2px rgba(0, 0, 0, 0.3));\n",
              "      fill: #FFFFFF;\n",
              "    }\n",
              "  </style>\n",
              "\n",
              "    <script>\n",
              "      const buttonEl =\n",
              "        document.querySelector('#df-abeff7f9-53ad-4a93-b5b0-8dcb5675cb09 button.colab-df-convert');\n",
              "      buttonEl.style.display =\n",
              "        google.colab.kernel.accessAllowed ? 'block' : 'none';\n",
              "\n",
              "      async function convertToInteractive(key) {\n",
              "        const element = document.querySelector('#df-abeff7f9-53ad-4a93-b5b0-8dcb5675cb09');\n",
              "        const dataTable =\n",
              "          await google.colab.kernel.invokeFunction('convertToInteractive',\n",
              "                                                    [key], {});\n",
              "        if (!dataTable) return;\n",
              "\n",
              "        const docLinkHtml = 'Like what you see? Visit the ' +\n",
              "          '<a target=\"_blank\" href=https://colab.research.google.com/notebooks/data_table.ipynb>data table notebook</a>'\n",
              "          + ' to learn more about interactive tables.';\n",
              "        element.innerHTML = '';\n",
              "        dataTable['output_type'] = 'display_data';\n",
              "        await google.colab.output.renderOutput(dataTable, element);\n",
              "        const docLink = document.createElement('div');\n",
              "        docLink.innerHTML = docLinkHtml;\n",
              "        element.appendChild(docLink);\n",
              "      }\n",
              "    </script>\n",
              "  </div>\n",
              "\n",
              "\n",
              "<div id=\"df-5536683a-924e-4102-8c2b-6da96310f9c7\">\n",
              "  <button class=\"colab-df-quickchart\" onclick=\"quickchart('df-5536683a-924e-4102-8c2b-6da96310f9c7')\"\n",
              "            title=\"Suggest charts\"\n",
              "            style=\"display:none;\">\n",
              "\n",
              "<svg xmlns=\"http://www.w3.org/2000/svg\" height=\"24px\"viewBox=\"0 0 24 24\"\n",
              "     width=\"24px\">\n",
              "    <g>\n",
              "        <path d=\"M19 3H5c-1.1 0-2 .9-2 2v14c0 1.1.9 2 2 2h14c1.1 0 2-.9 2-2V5c0-1.1-.9-2-2-2zM9 17H7v-7h2v7zm4 0h-2V7h2v10zm4 0h-2v-4h2v4z\"/>\n",
              "    </g>\n",
              "</svg>\n",
              "  </button>\n",
              "\n",
              "<style>\n",
              "  .colab-df-quickchart {\n",
              "      --bg-color: #E8F0FE;\n",
              "      --fill-color: #1967D2;\n",
              "      --hover-bg-color: #E2EBFA;\n",
              "      --hover-fill-color: #174EA6;\n",
              "      --disabled-fill-color: #AAA;\n",
              "      --disabled-bg-color: #DDD;\n",
              "  }\n",
              "\n",
              "  [theme=dark] .colab-df-quickchart {\n",
              "      --bg-color: #3B4455;\n",
              "      --fill-color: #D2E3FC;\n",
              "      --hover-bg-color: #434B5C;\n",
              "      --hover-fill-color: #FFFFFF;\n",
              "      --disabled-bg-color: #3B4455;\n",
              "      --disabled-fill-color: #666;\n",
              "  }\n",
              "\n",
              "  .colab-df-quickchart {\n",
              "    background-color: var(--bg-color);\n",
              "    border: none;\n",
              "    border-radius: 50%;\n",
              "    cursor: pointer;\n",
              "    display: none;\n",
              "    fill: var(--fill-color);\n",
              "    height: 32px;\n",
              "    padding: 0;\n",
              "    width: 32px;\n",
              "  }\n",
              "\n",
              "  .colab-df-quickchart:hover {\n",
              "    background-color: var(--hover-bg-color);\n",
              "    box-shadow: 0 1px 2px rgba(60, 64, 67, 0.3), 0 1px 3px 1px rgba(60, 64, 67, 0.15);\n",
              "    fill: var(--button-hover-fill-color);\n",
              "  }\n",
              "\n",
              "  .colab-df-quickchart-complete:disabled,\n",
              "  .colab-df-quickchart-complete:disabled:hover {\n",
              "    background-color: var(--disabled-bg-color);\n",
              "    fill: var(--disabled-fill-color);\n",
              "    box-shadow: none;\n",
              "  }\n",
              "\n",
              "  .colab-df-spinner {\n",
              "    border: 2px solid var(--fill-color);\n",
              "    border-color: transparent;\n",
              "    border-bottom-color: var(--fill-color);\n",
              "    animation:\n",
              "      spin 1s steps(1) infinite;\n",
              "  }\n",
              "\n",
              "  @keyframes spin {\n",
              "    0% {\n",
              "      border-color: transparent;\n",
              "      border-bottom-color: var(--fill-color);\n",
              "      border-left-color: var(--fill-color);\n",
              "    }\n",
              "    20% {\n",
              "      border-color: transparent;\n",
              "      border-left-color: var(--fill-color);\n",
              "      border-top-color: var(--fill-color);\n",
              "    }\n",
              "    30% {\n",
              "      border-color: transparent;\n",
              "      border-left-color: var(--fill-color);\n",
              "      border-top-color: var(--fill-color);\n",
              "      border-right-color: var(--fill-color);\n",
              "    }\n",
              "    40% {\n",
              "      border-color: transparent;\n",
              "      border-right-color: var(--fill-color);\n",
              "      border-top-color: var(--fill-color);\n",
              "    }\n",
              "    60% {\n",
              "      border-color: transparent;\n",
              "      border-right-color: var(--fill-color);\n",
              "    }\n",
              "    80% {\n",
              "      border-color: transparent;\n",
              "      border-right-color: var(--fill-color);\n",
              "      border-bottom-color: var(--fill-color);\n",
              "    }\n",
              "    90% {\n",
              "      border-color: transparent;\n",
              "      border-bottom-color: var(--fill-color);\n",
              "    }\n",
              "  }\n",
              "</style>\n",
              "\n",
              "  <script>\n",
              "    async function quickchart(key) {\n",
              "      const quickchartButtonEl =\n",
              "        document.querySelector('#' + key + ' button');\n",
              "      quickchartButtonEl.disabled = true;  // To prevent multiple clicks.\n",
              "      quickchartButtonEl.classList.add('colab-df-spinner');\n",
              "      try {\n",
              "        const charts = await google.colab.kernel.invokeFunction(\n",
              "            'suggestCharts', [key], {});\n",
              "      } catch (error) {\n",
              "        console.error('Error during call to suggestCharts:', error);\n",
              "      }\n",
              "      quickchartButtonEl.classList.remove('colab-df-spinner');\n",
              "      quickchartButtonEl.classList.add('colab-df-quickchart-complete');\n",
              "    }\n",
              "    (() => {\n",
              "      let quickchartButtonEl =\n",
              "        document.querySelector('#df-5536683a-924e-4102-8c2b-6da96310f9c7 button');\n",
              "      quickchartButtonEl.style.display =\n",
              "        google.colab.kernel.accessAllowed ? 'block' : 'none';\n",
              "    })();\n",
              "  </script>\n",
              "</div>\n",
              "    </div>\n",
              "  </div>\n"
            ]
          },
          "metadata": {},
          "execution_count": 19
        }
      ],
      "source": [
        "\n",
        "tabela[tabela.iloc[:,0] != tabela.iloc[:,1]]"
      ]
    },
    {
      "cell_type": "markdown",
      "metadata": {
        "id": "sWZmnazHrGBg"
      },
      "source": [
        "Podemos computar isso numericamente com uma **métrica** chamada **acurácia**. As métricas são funções numéricas utilizadas para medir a qualidade dos modelos de acordo com diferentes critérios. A acurácia, especificamente, mede quantos exemplos foram corretamente classificados pelo modelo. É uma métrica típica de problemas de **classificação** e pode ser calculada com a seguinte equação:\n",
        "\n",
        "$$\\text{Acc}_X(y) = \\frac{1}{|X|}\\sum_{x \\in X} \\mathsf{I}\\left(\\hat{f}(x) = {\\large\\xi}(x)\\right)$$\n",
        "\n",
        "Sendo que\n",
        "\n",
        "- $X$ é a amostra na qual estamos calculando a acurácia\n",
        "- $I(\\cdot)$ é a função indicadora; ela vale $1$ se a expressão for verdadeira e $0$ caso contrário\n",
        "- $\\hat{f}(x)$ é a saída do modelo para o exemplo $x$\n",
        "- ${\\large\\xi}(x)$ é o rótulo verdadeiro (saída da função-conceito)$\n",
        "\n",
        "O resultado será um valor no intervalo $[0,1]$. Quanto maior a acurácia, melhor o desempenho do modelo. Acurácia zero significa que o modelo errou todos os exemplos; acurácia um significa que todos foram corretamente classificados."
      ]
    },
    {
      "cell_type": "markdown",
      "metadata": {
        "id": "VT0ZVeO8rGBg"
      },
      "source": [
        "O cálculo da acurácia é simples, mas o scikit-learn pode fazer isso por nós também."
      ]
    },
    {
      "cell_type": "markdown",
      "metadata": {
        "id": "O2aYDTy3rGBg"
      },
      "source": [
        "### Atividade 5\n",
        "\n",
        "Importe a função `sklearn.metrics.accuracy_score` e use essa função para calcular a acurácia obtida pela nossa árvore de decisão no conjunto de testes."
      ]
    },
    {
      "cell_type": "code",
      "execution_count": null,
      "metadata": {
        "colab": {
          "base_uri": "https://localhost:8080/"
        },
        "id": "j3oxbPKHrGBg",
        "outputId": "79a4e6c8-7a64-4efb-9747-df3be33ab44c"
      },
      "outputs": [
        {
          "output_type": "execute_result",
          "data": {
            "text/plain": [
              "0.9534883720930233"
            ]
          },
          "metadata": {},
          "execution_count": 20
        }
      ],
      "source": [
        "from sklearn.metrics import accuracy_score\n",
        "accuracia = accuracy_score(y_test, ypred)\n",
        "accuracia"
      ]
    }
  ],
  "metadata": {
    "colab": {
      "provenance": [],
      "include_colab_link": true
    },
    "kernelspec": {
      "display_name": "Python 3 (ipykernel)",
      "language": "python",
      "name": "python3"
    },
    "language_info": {
      "codemirror_mode": {
        "name": "ipython",
        "version": 3
      },
      "file_extension": ".py",
      "mimetype": "text/x-python",
      "name": "python",
      "nbconvert_exporter": "python",
      "pygments_lexer": "ipython3",
      "version": "3.11.2"
    }
  },
  "nbformat": 4,
  "nbformat_minor": 0
}