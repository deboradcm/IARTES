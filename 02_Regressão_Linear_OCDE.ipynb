{
  "cells": [
    {
      "cell_type": "markdown",
      "metadata": {
        "id": "view-in-github",
        "colab_type": "text"
      },
      "source": [
        "<a href=\"https://colab.research.google.com/github/deboradcm/IARTES/blob/master/02_Regress%C3%A3o_Linear_OCDE.ipynb\" target=\"_parent\"><img src=\"https://colab.research.google.com/assets/colab-badge.svg\" alt=\"Open In Colab\"/></a>"
      ]
    },
    {
      "cell_type": "markdown",
      "metadata": {
        "id": "j02CFpMHj6mp"
      },
      "source": [
        "**Para organizar os dados.**"
      ]
    },
    {
      "cell_type": "code",
      "execution_count": 1,
      "metadata": {
        "id": "5-5WhtFFkEQ9"
      },
      "outputs": [],
      "source": [
        "def prepare_country_stats(oecd_bli, gdp_per_capita):\n",
        "    oecd_bli = oecd_bli[oecd_bli[\"INEQUALITY\"]==\"TOT\"]\n",
        "    oecd_bli = oecd_bli.pivot(index=\"Country\", columns=\"Indicator\", values=\"Value\")\n",
        "    gdp_per_capita.rename(columns={\"2015\": \"GDP per capita\"}, inplace=True)\n",
        "    gdp_per_capita.set_index(\"Country\", inplace=True)\n",
        "    full_country_stats = pd.merge(left=oecd_bli, right=gdp_per_capita,\n",
        "                                  left_index=True, right_index=True)\n",
        "    full_country_stats.sort_values(by=\"GDP per capita\", inplace=True)\n",
        "    remove_indices = [0, 1, 6, 8, 33, 34, 35]\n",
        "    keep_indices = list(set(range(36)) - set(remove_indices))\n",
        "    return full_country_stats[[\"GDP per capita\", 'Life satisfaction']].iloc[keep_indices]\n"
      ]
    },
    {
      "cell_type": "markdown",
      "metadata": {
        "id": "SQYOsEMskc_7"
      },
      "source": [
        "**Vamos começar a partir daqui**\n"
      ]
    },
    {
      "cell_type": "code",
      "execution_count": 2,
      "metadata": {
        "id": "7PL94-_QkkJ9"
      },
      "outputs": [],
      "source": [
        "# Importando bibliotecas necessárias\n",
        "import matplotlib.pyplot as plt\n",
        "import numpy as np\n",
        "import pandas as pd\n",
        "from sklearn import linear_model"
      ]
    },
    {
      "cell_type": "code",
      "execution_count": 7,
      "metadata": {
        "id": "Pai9tkTIp-rD"
      },
      "outputs": [],
      "source": [
        "# Carregue os dados utilizando as bases disponibilizadas no Colabweb\n",
        "oecd_bli = pd.read_csv(\"/content/oecd_bli_2015.csv\", thousands=',')\n",
        "gdp_per_capita = pd.read_csv(\"/content/gdp_per_capita.csv\",thousands=',',delimiter='\\t',\n",
        "                             encoding='latin1', na_values=\"n/a\")\n",
        "\n",
        "\n"
      ]
    },
    {
      "cell_type": "code",
      "execution_count": 9,
      "metadata": {
        "id": "Do0VaAEBqPJs",
        "colab": {
          "base_uri": "https://localhost:8080/"
        },
        "outputId": "ac6dedef-3117-4841-b74a-023ae90422e5"
      },
      "outputs": [
        {
          "output_type": "stream",
          "name": "stdout",
          "text": [
            "(3292, 17)\n",
            "(190, 7)\n",
            "  LOCATION    Country INDICATOR                           Indicator MEASURE  \\\n",
            "0      AUS  Australia   HO_BASE  Dwellings without basic facilities       L   \n",
            "1      AUT    Austria   HO_BASE  Dwellings without basic facilities       L   \n",
            "2      BEL    Belgium   HO_BASE  Dwellings without basic facilities       L   \n",
            "\n",
            "  Measure INEQUALITY Inequality Unit Code        Unit  PowerCode Code  \\\n",
            "0   Value        TOT      Total        PC  Percentage               0   \n",
            "1   Value        TOT      Total        PC  Percentage               0   \n",
            "2   Value        TOT      Total        PC  Percentage               0   \n",
            "\n",
            "  PowerCode  Reference Period Code  Reference Period  Value Flag Codes  \\\n",
            "0     units                    NaN               NaN    1.1          E   \n",
            "1     units                    NaN               NaN    1.0        NaN   \n",
            "2     units                    NaN               NaN    2.0        NaN   \n",
            "\n",
            "             Flags  \n",
            "0  Estimated value  \n",
            "1              NaN  \n",
            "2              NaN  \n",
            "       Country                                 Subject Descriptor  \\\n",
            "0  Afghanistan  Gross domestic product per capita, current prices   \n",
            "1      Albania  Gross domestic product per capita, current prices   \n",
            "2      Algeria  Gross domestic product per capita, current prices   \n",
            "\n",
            "          Units  Scale                      Country/Series-specific Notes  \\\n",
            "0  U.S. dollars  Units  See notes for:  Gross domestic product, curren...   \n",
            "1  U.S. dollars  Units  See notes for:  Gross domestic product, curren...   \n",
            "2  U.S. dollars  Units  See notes for:  Gross domestic product, curren...   \n",
            "\n",
            "       2015  Estimates Start After  \n",
            "0   599.994                 2013.0  \n",
            "1  3995.383                 2010.0  \n",
            "2  4318.135                 2014.0  \n"
          ]
        }
      ],
      "source": [
        "# Verifique os dados\n",
        "print (oecd_bli.shape)  #retorna uma tupla com o número de linhas e colunas\n",
        "print (gdp_per_capita.shape)\n",
        "print (oecd_bli.head(3)) #imprime as três primeiras linhas do DataFrame\n",
        "print (gdp_per_capita.head(3))"
      ]
    },
    {
      "cell_type": "code",
      "execution_count": 10,
      "metadata": {
        "id": "IROhYjmutiCf",
        "colab": {
          "base_uri": "https://localhost:8080/"
        },
        "outputId": "9fafe8e6-7998-47f8-9be2-702d3c2dbb20"
      },
      "outputs": [
        {
          "output_type": "stream",
          "name": "stdout",
          "text": [
            "                 GDP per capita  Life satisfaction\n",
            "Country                                           \n",
            "Russia                 9054.914                6.0\n",
            "Turkey                 9437.372                5.6\n",
            "Hungary               12239.894                4.9\n",
            "Poland                12495.334                5.8\n",
            "Slovak Republic       15991.736                6.1\n",
            "Estonia               17288.083                5.6\n",
            "Greece                18064.288                4.8\n",
            "Portugal              19121.592                5.1\n",
            "Slovenia              20732.482                5.7\n",
            "Spain                 25864.721                6.5\n",
            "Korea                 27195.197                5.8\n",
            "Italy                 29866.581                6.0\n",
            "Japan                 32485.545                5.9\n",
            "Israel                35343.336                7.4\n",
            "New Zealand           37044.891                7.3\n",
            "France                37675.006                6.5\n",
            "Belgium               40106.632                6.9\n",
            "Germany               40996.511                7.0\n",
            "Finland               41973.988                7.4\n",
            "Canada                43331.961                7.3\n",
            "Netherlands           43603.115                7.3\n",
            "Austria               43724.031                6.9\n",
            "United Kingdom        43770.688                6.8\n",
            "Sweden                49866.266                7.2\n",
            "Iceland               50854.583                7.5\n",
            "Australia             50961.865                7.3\n",
            "Ireland               51350.744                7.0\n",
            "Denmark               52114.165                7.5\n",
            "United States         55805.204                7.2\n"
          ]
        }
      ],
      "source": [
        "\n",
        "# Prepare os dados\n",
        "country_stats = prepare_country_stats(oecd_bli, gdp_per_capita)\n",
        "X = np.c_[country_stats[\"GDP per capita\"]]\n",
        "y = np.c_[country_stats[\"Life satisfaction\"]]\n",
        "\n",
        "print (country_stats)\n"
      ]
    },
    {
      "cell_type": "code",
      "execution_count": 11,
      "metadata": {
        "id": "BscIsNENr9_m",
        "colab": {
          "base_uri": "https://localhost:8080/",
          "height": 449
        },
        "outputId": "89afe71a-bc98-4e91-e4e1-f669fa691879"
      },
      "outputs": [
        {
          "output_type": "display_data",
          "data": {
            "text/plain": [
              "<Figure size 640x480 with 1 Axes>"
            ],
            "image/png": "[encoded data removed]"
          },
          "metadata": {}
        }
      ],
      "source": [
        "# Visualização dos dados\n",
        "country_stats.plot(kind='scatter', x=\"GDP per capita\", y='Life satisfaction')\n",
        "plt.show()"
      ]
    },
    {
      "cell_type": "code",
      "execution_count": 13,
      "metadata": {
        "id": "_lvT_n_HsGSW",
        "colab": {
          "base_uri": "https://localhost:8080/",
          "height": 75
        },
        "outputId": "7c3ec9cc-f3d6-4ace-e59a-57633f8fb5a9"
      },
      "outputs": [
        {
          "output_type": "execute_result",
          "data": {
            "text/plain": [
              "LinearRegression()"
            ],
            "text/html": [
              "<style>#sk-container-id-2 {color: black;background-color: white;}#sk-container-id-2 pre{padding: 0;}#sk-container-id-2 div.sk-toggleable {background-color: white;}#sk-container-id-2 label.sk-toggleable__label {cursor: pointer;display: block;width: 100%;margin-bottom: 0;padding: 0.3em;box-sizing: border-box;text-align: center;}#sk-container-id-2 label.sk-toggleable__label-arrow:before {content: \"▸\";float: left;margin-right: 0.25em;color: #696969;}#sk-container-id-2 label.sk-toggleable__label-arrow:hover:before {color: black;}#sk-container-id-2 div.sk-estimator:hover label.sk-toggleable__label-arrow:before {color: black;}#sk-container-id-2 div.sk-toggleable__content {max-height: 0;max-width: 0;overflow: hidden;text-align: left;background-color: #f0f8ff;}#sk-container-id-2 div.sk-toggleable__content pre {margin: 0.2em;color: black;border-radius: 0.25em;background-color: #f0f8ff;}#sk-container-id-2 input.sk-toggleable__control:checked~div.sk-toggleable__content {max-height: 200px;max-width: 100%;overflow: auto;}#sk-container-id-2 input.sk-toggleable__control:checked~label.sk-toggleable__label-arrow:before {content: \"▾\";}#sk-container-id-2 div.sk-estimator input.sk-toggleable__control:checked~label.sk-toggleable__label {background-color: #d4ebff;}#sk-container-id-2 div.sk-label input.sk-toggleable__control:checked~label.sk-toggleable__label {background-color: #d4ebff;}#sk-container-id-2 input.sk-hidden--visually {border: 0;clip: rect(1px 1px 1px 1px);clip: rect(1px, 1px, 1px, 1px);height: 1px;margin: -1px;overflow: hidden;padding: 0;position: absolute;width: 1px;}#sk-container-id-2 div.sk-estimator {font-family: monospace;background-color: #f0f8ff;border: 1px dotted black;border-radius: 0.25em;box-sizing: border-box;margin-bottom: 0.5em;}#sk-container-id-2 div.sk-estimator:hover {background-color: #d4ebff;}#sk-container-id-2 div.sk-parallel-item::after {content: \"\";width: 100%;border-bottom: 1px solid gray;flex-grow: 1;}#sk-container-id-2 div.sk-label:hover label.sk-toggleable__label {background-color: #d4ebff;}#sk-container-id-2 div.sk-serial::before {content: \"\";position: absolute;border-left: 1px solid gray;box-sizing: border-box;top: 0;bottom: 0;left: 50%;z-index: 0;}#sk-container-id-2 div.sk-serial {display: flex;flex-direction: column;align-items: center;background-color: white;padding-right: 0.2em;padding-left: 0.2em;position: relative;}#sk-container-id-2 div.sk-item {position: relative;z-index: 1;}#sk-container-id-2 div.sk-parallel {display: flex;align-items: stretch;justify-content: center;background-color: white;position: relative;}#sk-container-id-2 div.sk-item::before, #sk-container-id-2 div.sk-parallel-item::before {content: \"\";position: absolute;border-left: 1px solid gray;box-sizing: border-box;top: 0;bottom: 0;left: 50%;z-index: -1;}#sk-container-id-2 div.sk-parallel-item {display: flex;flex-direction: column;z-index: 1;position: relative;background-color: white;}#sk-container-id-2 div.sk-parallel-item:first-child::after {align-self: flex-end;width: 50%;}#sk-container-id-2 div.sk-parallel-item:last-child::after {align-self: flex-start;width: 50%;}#sk-container-id-2 div.sk-parallel-item:only-child::after {width: 0;}#sk-container-id-2 div.sk-dashed-wrapped {border: 1px dashed gray;margin: 0 0.4em 0.5em 0.4em;box-sizing: border-box;padding-bottom: 0.4em;background-color: white;}#sk-container-id-2 div.sk-label label {font-family: monospace;font-weight: bold;display: inline-block;line-height: 1.2em;}#sk-container-id-2 div.sk-label-container {text-align: center;}#sk-container-id-2 div.sk-container {/* jupyter's `normalize.less` sets `[hidden] { display: none; }` but bootstrap.min.css set `[hidden] { display: none !important; }` so we also need the `!important` here to be able to override the default hidden behavior on the sphinx rendered scikit-learn.org. See: https://github.com/scikit-learn/scikit-learn/issues/21755 */display: inline-block !important;position: relative;}#sk-container-id-2 div.sk-text-repr-fallback {display: none;}</style><div id=\"sk-container-id-2\" class=\"sk-top-container\"><div class=\"sk-text-repr-fallback\"><pre>LinearRegression()</pre><b>In a Jupyter environment, please rerun this cell to show the HTML representation or trust the notebook. <br />On GitHub, the HTML representation is unable to render, please try loading this page with nbviewer.org.</b></div><div class=\"sk-container\" hidden><div class=\"sk-item\"><div class=\"sk-estimator sk-toggleable\"><input class=\"sk-toggleable__control sk-hidden--visually\" id=\"sk-estimator-id-2\" type=\"checkbox\" checked><label for=\"sk-estimator-id-2\" class=\"sk-toggleable__label sk-toggleable__label-arrow\">LinearRegression</label><div class=\"sk-toggleable__content\"><pre>LinearRegression()</pre></div></div></div></div></div>"
            ]
          },
          "metadata": {},
          "execution_count": 13
        }
      ],
      "source": [
        "from sklearn.linear_model import LinearRegression\n",
        "# Selecionando um modelo linear\n",
        "model = LinearRegression() #cria uma instância do modelo de regressão linear. model é agora um objeto que representa o modelo de regressão linear\n",
        "\n",
        "# Treinando o modelo\n",
        "model.fit(X, y)  #treina o modelo utilizando os dados de treinamento\n"
      ]
    },
    {
      "cell_type": "code",
      "execution_count": 15,
      "metadata": {
        "id": "YqNoJKstCxVx",
        "colab": {
          "base_uri": "https://localhost:8080/"
        },
        "outputId": "25d54a4f-2a56-4f33-99db-39e0e420defa"
      },
      "outputs": [
        {
          "output_type": "execute_result",
          "data": {
            "text/plain": [
              "(4.853052800266436, 4.911544589158484e-05)"
            ]
          },
          "metadata": {},
          "execution_count": 15
        }
      ],
      "source": [
        "#Verificar os parâmetros do modelo\n",
        "t0, t1 = model.intercept_[0], model.coef_[0][0]\n",
        "t0, t1"
      ]
    },
    {
      "cell_type": "code",
      "execution_count": 16,
      "metadata": {
        "id": "rqhtyrPRFW_G",
        "colab": {
          "base_uri": "https://localhost:8080/",
          "height": 316
        },
        "outputId": "534dd3ab-2f6b-4176-aa26-fed590942982"
      },
      "outputs": [
        {
          "output_type": "display_data",
          "data": {
            "text/plain": [
              "<Figure size 500x300 with 1 Axes>"
            ],
            "image/png": "[encoded data removed]"
          },
          "metadata": {}
        }
      ],
      "source": [
        "# Visualização do modelo gerado\n",
        "country_stats.plot(kind='scatter', x=\"GDP per capita\", y='Life satisfaction', figsize=(5,3))\n",
        "plt.xlabel(\"GDP per capita (USD)\")\n",
        "plt.axis([0, 60000, 0, 10])\n",
        "X=np.linspace(0, 60000, 1000)\n",
        "plt.plot(X, t0 + t1*X, \"b\")\n",
        "plt.text(5000, 3.1, r\"$\\theta_0 = 4.85$\", fontsize=14, color=\"b\")\n",
        "plt.text(5000, 2.2, r\"$\\theta_1 = 4.91 \\times 10^{-5}$\", fontsize=14, color=\"b\")\n",
        "plt.show()\n",
        "\n"
      ]
    },
    {
      "cell_type": "code",
      "execution_count": 18,
      "metadata": {
        "id": "1nvxyB9VQePs",
        "colab": {
          "base_uri": "https://localhost:8080/"
        },
        "outputId": "eb557cc4-2f34-4833-f9e5-b3ef6740efcc"
      },
      "outputs": [
        {
          "output_type": "stream",
          "name": "stdout",
          "text": [
            "[[5.96242338]]\n"
          ]
        }
      ],
      "source": [
        "# Fazendo uma predição para o Chipre\n",
        "X_novo = [[22587]]\n",
        "\n",
        "print (model.predict(X_novo)) #retorna as previsões do modelo para os dados fornecidos"
      ]
    }
  ],
  "metadata": {
    "colab": {
      "provenance": [],
      "include_colab_link": true
    },
    "kernelspec": {
      "display_name": "Python 3 (ipykernel)",
      "language": "python",
      "name": "python3"
    },
    "language_info": {
      "codemirror_mode": {
        "name": "ipython",
        "version": 3
      },
      "file_extension": ".py",
      "mimetype": "text/x-python",
      "name": "python",
      "nbconvert_exporter": "python",
      "pygments_lexer": "ipython3",
      "version": "3.11.2"
    }
  },
  "nbformat": 4,
  "nbformat_minor": 0
}