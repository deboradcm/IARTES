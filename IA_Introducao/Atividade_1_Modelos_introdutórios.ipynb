{
  "cells": [
    {
      "cell_type": "markdown",
      "metadata": {
        "id": "view-in-github",
        "colab_type": "text"
      },
      "source": [
        "<a href=\"https://colab.research.google.com/github/deboradcm/IARTES/blob/master/Atividade_1_Modelos_introdut%C3%B3rios.ipynb\" target=\"_parent\"><img src=\"https://colab.research.google.com/assets/colab-badge.svg\" alt=\"Open In Colab\"/></a>"
      ]
    },
    {
      "cell_type": "markdown",
      "id": "2d6f1a72",
      "metadata": {
        "id": "2d6f1a72"
      },
      "source": [
        "# Atividade 1\n",
        "\n",
        "## Modelos Introdutórios"
      ]
    },
    {
      "cell_type": "markdown",
      "id": "1b722e51",
      "metadata": {
        "id": "1b722e51"
      },
      "source": [
        "Neste *notebook* você deverá trabalhar com os modelos estudados até aqui:\n",
        "\n",
        "- Árvore de decisão\n",
        "- Naive Bayes\n",
        "- k-NN\n",
        "\n",
        "Para cada modelo você deverá:\n",
        "\n",
        "- Fazer ajuste de hiperparâmetros usando um conjunto de treinamento e um conjunto de validação\n",
        "- Testar o modelo usando um conjunto de treinamento e um conjunto de testes"
      ]
    },
    {
      "cell_type": "markdown",
      "id": "be718fb9",
      "metadata": {
        "id": "be718fb9"
      },
      "source": [
        "### Passo 1: Importe as bibliotecas e carregue os dados"
      ]
    },
    {
      "cell_type": "markdown",
      "id": "3866c70b",
      "metadata": {
        "id": "3866c70b"
      },
      "source": [
        "Vamos importar todas as bibliotecas e funções de uma vez:"
      ]
    },
    {
      "cell_type": "code",
      "execution_count": null,
      "id": "681c4da7",
      "metadata": {
        "id": "681c4da7"
      },
      "outputs": [],
      "source": [
        "import pandas as pd\n",
        "import numpy as np\n",
        "import sklearn\n",
        "\n",
        "from sklearn.tree import DecisionTreeClassifier\n",
        "from sklearn.naive_bayes import GaussianNB\n",
        "from sklearn.neighbors import KNeighborsClassifier\n",
        "\n",
        "from sklearn.preprocessing import LabelEncoder\n",
        "from sklearn.model_selection import train_test_split\n",
        "from sklearn.metrics import accuracy_score\n",
        "from sklearn.model_selection import learning_curve"
      ]
    },
    {
      "cell_type": "markdown",
      "id": "b9e583e5",
      "metadata": {
        "id": "b9e583e5"
      },
      "source": [
        "Vamos trabalhar com os arquivos disponibilizados no ColabWeb."
      ]
    },
    {
      "cell_type": "markdown",
      "id": "72479cd1",
      "metadata": {
        "id": "72479cd1"
      },
      "source": [
        "Use a função `pd.read_csv()` para carregar o arquivo de treinamento (`iris-treino.csv`)."
      ]
    },
    {
      "cell_type": "code",
      "execution_count": null,
      "id": "d684027d",
      "metadata": {
        "id": "d684027d"
      },
      "outputs": [],
      "source": [
        "treino = pd.read_csv(\"/content/iris-treino.csv\")   # <-- complete o código"
      ]
    },
    {
      "cell_type": "code",
      "source": [
        "treino.head()"
      ],
      "metadata": {
        "colab": {
          "base_uri": "https://localhost:8080/",
          "height": 206
        },
        "id": "U4LzMwlbOKCi",
        "outputId": "3a38d210-62c7-4347-fc6a-44171c85c762"
      },
      "id": "U4LzMwlbOKCi",
      "execution_count": null,
      "outputs": [
        {
          "output_type": "execute_result",
          "data": {
            "text/plain": [
              "   sepal_length  sepal_width  petal_length  petal_width     species\n",
              "0           6.2          3.4           5.4          2.3   virginica\n",
              "1           5.1          3.3           1.7          0.5      setosa\n",
              "2           6.7          2.5           5.8          1.8   virginica\n",
              "3           5.6          2.5           3.9          1.1  versicolor\n",
              "4           4.4          3.2           1.3          0.2      setosa"
            ],
            "text/html": [
              "\n",
              "  <div id=\"df-b8d38466-31d6-4bed-b90b-2aeae6f32094\" class=\"colab-df-container\">\n",
              "    <div>\n",
              "<style scoped>\n",
              "    .dataframe tbody tr th:only-of-type {\n",
              "        vertical-align: middle;\n",
              "    }\n",
              "\n",
              "    .dataframe tbody tr th {\n",
              "        vertical-align: top;\n",
              "    }\n",
              "\n",
              "    .dataframe thead th {\n",
              "        text-align: right;\n",
              "    }\n",
              "</style>\n",
              "<table border=\"1\" class=\"dataframe\">\n",
              "  <thead>\n",
              "    <tr style=\"text-align: right;\">\n",
              "      <th></th>\n",
              "      <th>sepal_length</th>\n",
              "      <th>sepal_width</th>\n",
              "      <th>petal_length</th>\n",
              "      <th>petal_width</th>\n",
              "      <th>species</th>\n",
              "    </tr>\n",
              "  </thead>\n",
              "  <tbody>\n",
              "    <tr>\n",
              "      <th>0</th>\n",
              "      <td>6.2</td>\n",
              "      <td>3.4</td>\n",
              "      <td>5.4</td>\n",
              "      <td>2.3</td>\n",
              "      <td>virginica</td>\n",
              "    </tr>\n",
              "    <tr>\n",
              "      <th>1</th>\n",
              "      <td>5.1</td>\n",
              "      <td>3.3</td>\n",
              "      <td>1.7</td>\n",
              "      <td>0.5</td>\n",
              "      <td>setosa</td>\n",
              "    </tr>\n",
              "    <tr>\n",
              "      <th>2</th>\n",
              "      <td>6.7</td>\n",
              "      <td>2.5</td>\n",
              "      <td>5.8</td>\n",
              "      <td>1.8</td>\n",
              "      <td>virginica</td>\n",
              "    </tr>\n",
              "    <tr>\n",
              "      <th>3</th>\n",
              "      <td>5.6</td>\n",
              "      <td>2.5</td>\n",
              "      <td>3.9</td>\n",
              "      <td>1.1</td>\n",
              "      <td>versicolor</td>\n",
              "    </tr>\n",
              "    <tr>\n",
              "      <th>4</th>\n",
              "      <td>4.4</td>\n",
              "      <td>3.2</td>\n",
              "      <td>1.3</td>\n",
              "      <td>0.2</td>\n",
              "      <td>setosa</td>\n",
              "    </tr>\n",
              "  </tbody>\n",
              "</table>\n",
              "</div>\n",
              "    <div class=\"colab-df-buttons\">\n",
              "\n",
              "  <div class=\"colab-df-container\">\n",
              "    <button class=\"colab-df-convert\" onclick=\"convertToInteractive('df-b8d38466-31d6-4bed-b90b-2aeae6f32094')\"\n",
              "            title=\"Convert this dataframe to an interactive table.\"\n",
              "            style=\"display:none;\">\n",
              "\n",
              "  <svg xmlns=\"http://www.w3.org/2000/svg\" height=\"24px\" viewBox=\"0 -960 960 960\">\n",
              "    <path d=\"M120-120v-720h720v720H120Zm60-500h600v-160H180v160Zm220 220h160v-160H400v160Zm0 220h160v-160H400v160ZM180-400h160v-160H180v160Zm440 0h160v-160H620v160ZM180-180h160v-160H180v160Zm440 0h160v-160H620v160Z\"/>\n",
              "  </svg>\n",
              "    </button>\n",
              "\n",
              "  <style>\n",
              "    .colab-df-container {\n",
              "      display:flex;\n",
              "      gap: 12px;\n",
              "    }\n",
              "\n",
              "    .colab-df-convert {\n",
              "      background-color: #E8F0FE;\n",
              "      border: none;\n",
              "      border-radius: 50%;\n",
              "      cursor: pointer;\n",
              "      display: none;\n",
              "      fill: #1967D2;\n",
              "      height: 32px;\n",
              "      padding: 0 0 0 0;\n",
              "      width: 32px;\n",
              "    }\n",
              "\n",
              "    .colab-df-convert:hover {\n",
              "      background-color: #E2EBFA;\n",
              "      box-shadow: 0px 1px 2px rgba(60, 64, 67, 0.3), 0px 1px 3px 1px rgba(60, 64, 67, 0.15);\n",
              "      fill: #174EA6;\n",
              "    }\n",
              "\n",
              "    .colab-df-buttons div {\n",
              "      margin-bottom: 4px;\n",
              "    }\n",
              "\n",
              "    [theme=dark] .colab-df-convert {\n",
              "      background-color: #3B4455;\n",
              "      fill: #D2E3FC;\n",
              "    }\n",
              "\n",
              "    [theme=dark] .colab-df-convert:hover {\n",
              "      background-color: #434B5C;\n",
              "      box-shadow: 0px 1px 3px 1px rgba(0, 0, 0, 0.15);\n",
              "      filter: drop-shadow(0px 1px 2px rgba(0, 0, 0, 0.3));\n",
              "      fill: #FFFFFF;\n",
              "    }\n",
              "  </style>\n",
              "\n",
              "    <script>\n",
              "      const buttonEl =\n",
              "        document.querySelector('#df-b8d38466-31d6-4bed-b90b-2aeae6f32094 button.colab-df-convert');\n",
              "      buttonEl.style.display =\n",
              "        google.colab.kernel.accessAllowed ? 'block' : 'none';\n",
              "\n",
              "      async function convertToInteractive(key) {\n",
              "        const element = document.querySelector('#df-b8d38466-31d6-4bed-b90b-2aeae6f32094');\n",
              "        const dataTable =\n",
              "          await google.colab.kernel.invokeFunction('convertToInteractive',\n",
              "                                                    [key], {});\n",
              "        if (!dataTable) return;\n",
              "\n",
              "        const docLinkHtml = 'Like what you see? Visit the ' +\n",
              "          '<a target=\"_blank\" href=https://colab.research.google.com/notebooks/data_table.ipynb>data table notebook</a>'\n",
              "          + ' to learn more about interactive tables.';\n",
              "        element.innerHTML = '';\n",
              "        dataTable['output_type'] = 'display_data';\n",
              "        await google.colab.output.renderOutput(dataTable, element);\n",
              "        const docLink = document.createElement('div');\n",
              "        docLink.innerHTML = docLinkHtml;\n",
              "        element.appendChild(docLink);\n",
              "      }\n",
              "    </script>\n",
              "  </div>\n",
              "\n",
              "\n",
              "<div id=\"df-0479628c-7c4d-443f-944e-59606541f81e\">\n",
              "  <button class=\"colab-df-quickchart\" onclick=\"quickchart('df-0479628c-7c4d-443f-944e-59606541f81e')\"\n",
              "            title=\"Suggest charts\"\n",
              "            style=\"display:none;\">\n",
              "\n",
              "<svg xmlns=\"http://www.w3.org/2000/svg\" height=\"24px\"viewBox=\"0 0 24 24\"\n",
              "     width=\"24px\">\n",
              "    <g>\n",
              "        <path d=\"M19 3H5c-1.1 0-2 .9-2 2v14c0 1.1.9 2 2 2h14c1.1 0 2-.9 2-2V5c0-1.1-.9-2-2-2zM9 17H7v-7h2v7zm4 0h-2V7h2v10zm4 0h-2v-4h2v4z\"/>\n",
              "    </g>\n",
              "</svg>\n",
              "  </button>\n",
              "\n",
              "<style>\n",
              "  .colab-df-quickchart {\n",
              "      --bg-color: #E8F0FE;\n",
              "      --fill-color: #1967D2;\n",
              "      --hover-bg-color: #E2EBFA;\n",
              "      --hover-fill-color: #174EA6;\n",
              "      --disabled-fill-color: #AAA;\n",
              "      --disabled-bg-color: #DDD;\n",
              "  }\n",
              "\n",
              "  [theme=dark] .colab-df-quickchart {\n",
              "      --bg-color: #3B4455;\n",
              "      --fill-color: #D2E3FC;\n",
              "      --hover-bg-color: #434B5C;\n",
              "      --hover-fill-color: #FFFFFF;\n",
              "      --disabled-bg-color: #3B4455;\n",
              "      --disabled-fill-color: #666;\n",
              "  }\n",
              "\n",
              "  .colab-df-quickchart {\n",
              "    background-color: var(--bg-color);\n",
              "    border: none;\n",
              "    border-radius: 50%;\n",
              "    cursor: pointer;\n",
              "    display: none;\n",
              "    fill: var(--fill-color);\n",
              "    height: 32px;\n",
              "    padding: 0;\n",
              "    width: 32px;\n",
              "  }\n",
              "\n",
              "  .colab-df-quickchart:hover {\n",
              "    background-color: var(--hover-bg-color);\n",
              "    box-shadow: 0 1px 2px rgba(60, 64, 67, 0.3), 0 1px 3px 1px rgba(60, 64, 67, 0.15);\n",
              "    fill: var(--button-hover-fill-color);\n",
              "  }\n",
              "\n",
              "  .colab-df-quickchart-complete:disabled,\n",
              "  .colab-df-quickchart-complete:disabled:hover {\n",
              "    background-color: var(--disabled-bg-color);\n",
              "    fill: var(--disabled-fill-color);\n",
              "    box-shadow: none;\n",
              "  }\n",
              "\n",
              "  .colab-df-spinner {\n",
              "    border: 2px solid var(--fill-color);\n",
              "    border-color: transparent;\n",
              "    border-bottom-color: var(--fill-color);\n",
              "    animation:\n",
              "      spin 1s steps(1) infinite;\n",
              "  }\n",
              "\n",
              "  @keyframes spin {\n",
              "    0% {\n",
              "      border-color: transparent;\n",
              "      border-bottom-color: var(--fill-color);\n",
              "      border-left-color: var(--fill-color);\n",
              "    }\n",
              "    20% {\n",
              "      border-color: transparent;\n",
              "      border-left-color: var(--fill-color);\n",
              "      border-top-color: var(--fill-color);\n",
              "    }\n",
              "    30% {\n",
              "      border-color: transparent;\n",
              "      border-left-color: var(--fill-color);\n",
              "      border-top-color: var(--fill-color);\n",
              "      border-right-color: var(--fill-color);\n",
              "    }\n",
              "    40% {\n",
              "      border-color: transparent;\n",
              "      border-right-color: var(--fill-color);\n",
              "      border-top-color: var(--fill-color);\n",
              "    }\n",
              "    60% {\n",
              "      border-color: transparent;\n",
              "      border-right-color: var(--fill-color);\n",
              "    }\n",
              "    80% {\n",
              "      border-color: transparent;\n",
              "      border-right-color: var(--fill-color);\n",
              "      border-bottom-color: var(--fill-color);\n",
              "    }\n",
              "    90% {\n",
              "      border-color: transparent;\n",
              "      border-bottom-color: var(--fill-color);\n",
              "    }\n",
              "  }\n",
              "</style>\n",
              "\n",
              "  <script>\n",
              "    async function quickchart(key) {\n",
              "      const quickchartButtonEl =\n",
              "        document.querySelector('#' + key + ' button');\n",
              "      quickchartButtonEl.disabled = true;  // To prevent multiple clicks.\n",
              "      quickchartButtonEl.classList.add('colab-df-spinner');\n",
              "      try {\n",
              "        const charts = await google.colab.kernel.invokeFunction(\n",
              "            'suggestCharts', [key], {});\n",
              "      } catch (error) {\n",
              "        console.error('Error during call to suggestCharts:', error);\n",
              "      }\n",
              "      quickchartButtonEl.classList.remove('colab-df-spinner');\n",
              "      quickchartButtonEl.classList.add('colab-df-quickchart-complete');\n",
              "    }\n",
              "    (() => {\n",
              "      let quickchartButtonEl =\n",
              "        document.querySelector('#df-0479628c-7c4d-443f-944e-59606541f81e button');\n",
              "      quickchartButtonEl.style.display =\n",
              "        google.colab.kernel.accessAllowed ? 'block' : 'none';\n",
              "    })();\n",
              "  </script>\n",
              "</div>\n",
              "    </div>\n",
              "  </div>\n"
            ],
            "application/vnd.google.colaboratory.intrinsic+json": {
              "type": "dataframe",
              "variable_name": "treino",
              "summary": "{\n  \"name\": \"treino\",\n  \"rows\": 64,\n  \"fields\": [\n    {\n      \"column\": \"sepal_length\",\n      \"properties\": {\n        \"dtype\": \"number\",\n        \"std\": 0.7338860876747424,\n        \"min\": 4.4,\n        \"max\": 7.9,\n        \"num_unique_values\": 24,\n        \"samples\": [\n          5.0,\n          6.9,\n          6.2\n        ],\n        \"semantic_type\": \"\",\n        \"description\": \"\"\n      }\n    },\n    {\n      \"column\": \"sepal_width\",\n      \"properties\": {\n        \"dtype\": \"number\",\n        \"std\": 0.42517211734199994,\n        \"min\": 2.2,\n        \"max\": 4.4,\n        \"num_unique_values\": 20,\n        \"samples\": [\n          3.4,\n          4.4,\n          3.7\n        ],\n        \"semantic_type\": \"\",\n        \"description\": \"\"\n      }\n    },\n    {\n      \"column\": \"petal_length\",\n      \"properties\": {\n        \"dtype\": \"number\",\n        \"std\": 1.7171144815815695,\n        \"min\": 1.0,\n        \"max\": 6.4,\n        \"num_unique_values\": 30,\n        \"samples\": [\n          3.8,\n          4.4,\n          4.1\n        ],\n        \"semantic_type\": \"\",\n        \"description\": \"\"\n      }\n    },\n    {\n      \"column\": \"petal_width\",\n      \"properties\": {\n        \"dtype\": \"number\",\n        \"std\": 0.7478806033220788,\n        \"min\": 0.1,\n        \"max\": 2.5,\n        \"num_unique_values\": 21,\n        \"samples\": [\n          2.3,\n          1.0,\n          1.9\n        ],\n        \"semantic_type\": \"\",\n        \"description\": \"\"\n      }\n    },\n    {\n      \"column\": \"species\",\n      \"properties\": {\n        \"dtype\": \"category\",\n        \"num_unique_values\": 3,\n        \"samples\": [\n          \"virginica\",\n          \"setosa\",\n          \"versicolor\"\n        ],\n        \"semantic_type\": \"\",\n        \"description\": \"\"\n      }\n    }\n  ]\n}"
            }
          },
          "metadata": {},
          "execution_count": 4
        }
      ]
    },
    {
      "cell_type": "markdown",
      "id": "7a6c476a",
      "metadata": {
        "id": "7a6c476a"
      },
      "source": [
        "Use a função `pd.read_csv()` para carregar o arquivo de teste (`iris-teste.csv`)."
      ]
    },
    {
      "cell_type": "code",
      "execution_count": null,
      "id": "ff97faea",
      "metadata": {
        "id": "ff97faea"
      },
      "outputs": [],
      "source": [
        "teste = pd.read_csv(\"/content/iris-teste.csv\") # <-- complete o código"
      ]
    },
    {
      "cell_type": "code",
      "source": [
        "teste.head()"
      ],
      "metadata": {
        "colab": {
          "base_uri": "https://localhost:8080/",
          "height": 206
        },
        "id": "sRQo6evyPHls",
        "outputId": "95583bab-8916-41c9-fe08-f7930bb05d61"
      },
      "id": "sRQo6evyPHls",
      "execution_count": null,
      "outputs": [
        {
          "output_type": "execute_result",
          "data": {
            "text/plain": [
              "   sepal_length  sepal_width  petal_length  petal_width     species\n",
              "0           7.7          3.8           6.7          2.2   virginica\n",
              "1           6.3          3.3           6.0          2.5   virginica\n",
              "2           7.2          3.2           6.0          1.8   virginica\n",
              "3           7.0          3.2           4.7          1.4  versicolor\n",
              "4           6.8          2.8           4.8          1.4  versicolor"
            ],
            "text/html": [
              "\n",
              "  <div id=\"df-b2dc1abe-efc9-4047-9236-dd562718e315\" class=\"colab-df-container\">\n",
              "    <div>\n",
              "<style scoped>\n",
              "    .dataframe tbody tr th:only-of-type {\n",
              "        vertical-align: middle;\n",
              "    }\n",
              "\n",
              "    .dataframe tbody tr th {\n",
              "        vertical-align: top;\n",
              "    }\n",
              "\n",
              "    .dataframe thead th {\n",
              "        text-align: right;\n",
              "    }\n",
              "</style>\n",
              "<table border=\"1\" class=\"dataframe\">\n",
              "  <thead>\n",
              "    <tr style=\"text-align: right;\">\n",
              "      <th></th>\n",
              "      <th>sepal_length</th>\n",
              "      <th>sepal_width</th>\n",
              "      <th>petal_length</th>\n",
              "      <th>petal_width</th>\n",
              "      <th>species</th>\n",
              "    </tr>\n",
              "  </thead>\n",
              "  <tbody>\n",
              "    <tr>\n",
              "      <th>0</th>\n",
              "      <td>7.7</td>\n",
              "      <td>3.8</td>\n",
              "      <td>6.7</td>\n",
              "      <td>2.2</td>\n",
              "      <td>virginica</td>\n",
              "    </tr>\n",
              "    <tr>\n",
              "      <th>1</th>\n",
              "      <td>6.3</td>\n",
              "      <td>3.3</td>\n",
              "      <td>6.0</td>\n",
              "      <td>2.5</td>\n",
              "      <td>virginica</td>\n",
              "    </tr>\n",
              "    <tr>\n",
              "      <th>2</th>\n",
              "      <td>7.2</td>\n",
              "      <td>3.2</td>\n",
              "      <td>6.0</td>\n",
              "      <td>1.8</td>\n",
              "      <td>virginica</td>\n",
              "    </tr>\n",
              "    <tr>\n",
              "      <th>3</th>\n",
              "      <td>7.0</td>\n",
              "      <td>3.2</td>\n",
              "      <td>4.7</td>\n",
              "      <td>1.4</td>\n",
              "      <td>versicolor</td>\n",
              "    </tr>\n",
              "    <tr>\n",
              "      <th>4</th>\n",
              "      <td>6.8</td>\n",
              "      <td>2.8</td>\n",
              "      <td>4.8</td>\n",
              "      <td>1.4</td>\n",
              "      <td>versicolor</td>\n",
              "    </tr>\n",
              "  </tbody>\n",
              "</table>\n",
              "</div>\n",
              "    <div class=\"colab-df-buttons\">\n",
              "\n",
              "  <div class=\"colab-df-container\">\n",
              "    <button class=\"colab-df-convert\" onclick=\"convertToInteractive('df-b2dc1abe-efc9-4047-9236-dd562718e315')\"\n",
              "            title=\"Convert this dataframe to an interactive table.\"\n",
              "            style=\"display:none;\">\n",
              "\n",
              "  <svg xmlns=\"http://www.w3.org/2000/svg\" height=\"24px\" viewBox=\"0 -960 960 960\">\n",
              "    <path d=\"M120-120v-720h720v720H120Zm60-500h600v-160H180v160Zm220 220h160v-160H400v160Zm0 220h160v-160H400v160ZM180-400h160v-160H180v160Zm440 0h160v-160H620v160ZM180-180h160v-160H180v160Zm440 0h160v-160H620v160Z\"/>\n",
              "  </svg>\n",
              "    </button>\n",
              "\n",
              "  <style>\n",
              "    .colab-df-container {\n",
              "      display:flex;\n",
              "      gap: 12px;\n",
              "    }\n",
              "\n",
              "    .colab-df-convert {\n",
              "      background-color: #E8F0FE;\n",
              "      border: none;\n",
              "      border-radius: 50%;\n",
              "      cursor: pointer;\n",
              "      display: none;\n",
              "      fill: #1967D2;\n",
              "      height: 32px;\n",
              "      padding: 0 0 0 0;\n",
              "      width: 32px;\n",
              "    }\n",
              "\n",
              "    .colab-df-convert:hover {\n",
              "      background-color: #E2EBFA;\n",
              "      box-shadow: 0px 1px 2px rgba(60, 64, 67, 0.3), 0px 1px 3px 1px rgba(60, 64, 67, 0.15);\n",
              "      fill: #174EA6;\n",
              "    }\n",
              "\n",
              "    .colab-df-buttons div {\n",
              "      margin-bottom: 4px;\n",
              "    }\n",
              "\n",
              "    [theme=dark] .colab-df-convert {\n",
              "      background-color: #3B4455;\n",
              "      fill: #D2E3FC;\n",
              "    }\n",
              "\n",
              "    [theme=dark] .colab-df-convert:hover {\n",
              "      background-color: #434B5C;\n",
              "      box-shadow: 0px 1px 3px 1px rgba(0, 0, 0, 0.15);\n",
              "      filter: drop-shadow(0px 1px 2px rgba(0, 0, 0, 0.3));\n",
              "      fill: #FFFFFF;\n",
              "    }\n",
              "  </style>\n",
              "\n",
              "    <script>\n",
              "      const buttonEl =\n",
              "        document.querySelector('#df-b2dc1abe-efc9-4047-9236-dd562718e315 button.colab-df-convert');\n",
              "      buttonEl.style.display =\n",
              "        google.colab.kernel.accessAllowed ? 'block' : 'none';\n",
              "\n",
              "      async function convertToInteractive(key) {\n",
              "        const element = document.querySelector('#df-b2dc1abe-efc9-4047-9236-dd562718e315');\n",
              "        const dataTable =\n",
              "          await google.colab.kernel.invokeFunction('convertToInteractive',\n",
              "                                                    [key], {});\n",
              "        if (!dataTable) return;\n",
              "\n",
              "        const docLinkHtml = 'Like what you see? Visit the ' +\n",
              "          '<a target=\"_blank\" href=https://colab.research.google.com/notebooks/data_table.ipynb>data table notebook</a>'\n",
              "          + ' to learn more about interactive tables.';\n",
              "        element.innerHTML = '';\n",
              "        dataTable['output_type'] = 'display_data';\n",
              "        await google.colab.output.renderOutput(dataTable, element);\n",
              "        const docLink = document.createElement('div');\n",
              "        docLink.innerHTML = docLinkHtml;\n",
              "        element.appendChild(docLink);\n",
              "      }\n",
              "    </script>\n",
              "  </div>\n",
              "\n",
              "\n",
              "<div id=\"df-60bf87fd-64a6-4d0e-b18b-6e4836df0950\">\n",
              "  <button class=\"colab-df-quickchart\" onclick=\"quickchart('df-60bf87fd-64a6-4d0e-b18b-6e4836df0950')\"\n",
              "            title=\"Suggest charts\"\n",
              "            style=\"display:none;\">\n",
              "\n",
              "<svg xmlns=\"http://www.w3.org/2000/svg\" height=\"24px\"viewBox=\"0 0 24 24\"\n",
              "     width=\"24px\">\n",
              "    <g>\n",
              "        <path d=\"M19 3H5c-1.1 0-2 .9-2 2v14c0 1.1.9 2 2 2h14c1.1 0 2-.9 2-2V5c0-1.1-.9-2-2-2zM9 17H7v-7h2v7zm4 0h-2V7h2v10zm4 0h-2v-4h2v4z\"/>\n",
              "    </g>\n",
              "</svg>\n",
              "  </button>\n",
              "\n",
              "<style>\n",
              "  .colab-df-quickchart {\n",
              "      --bg-color: #E8F0FE;\n",
              "      --fill-color: #1967D2;\n",
              "      --hover-bg-color: #E2EBFA;\n",
              "      --hover-fill-color: #174EA6;\n",
              "      --disabled-fill-color: #AAA;\n",
              "      --disabled-bg-color: #DDD;\n",
              "  }\n",
              "\n",
              "  [theme=dark] .colab-df-quickchart {\n",
              "      --bg-color: #3B4455;\n",
              "      --fill-color: #D2E3FC;\n",
              "      --hover-bg-color: #434B5C;\n",
              "      --hover-fill-color: #FFFFFF;\n",
              "      --disabled-bg-color: #3B4455;\n",
              "      --disabled-fill-color: #666;\n",
              "  }\n",
              "\n",
              "  .colab-df-quickchart {\n",
              "    background-color: var(--bg-color);\n",
              "    border: none;\n",
              "    border-radius: 50%;\n",
              "    cursor: pointer;\n",
              "    display: none;\n",
              "    fill: var(--fill-color);\n",
              "    height: 32px;\n",
              "    padding: 0;\n",
              "    width: 32px;\n",
              "  }\n",
              "\n",
              "  .colab-df-quickchart:hover {\n",
              "    background-color: var(--hover-bg-color);\n",
              "    box-shadow: 0 1px 2px rgba(60, 64, 67, 0.3), 0 1px 3px 1px rgba(60, 64, 67, 0.15);\n",
              "    fill: var(--button-hover-fill-color);\n",
              "  }\n",
              "\n",
              "  .colab-df-quickchart-complete:disabled,\n",
              "  .colab-df-quickchart-complete:disabled:hover {\n",
              "    background-color: var(--disabled-bg-color);\n",
              "    fill: var(--disabled-fill-color);\n",
              "    box-shadow: none;\n",
              "  }\n",
              "\n",
              "  .colab-df-spinner {\n",
              "    border: 2px solid var(--fill-color);\n",
              "    border-color: transparent;\n",
              "    border-bottom-color: var(--fill-color);\n",
              "    animation:\n",
              "      spin 1s steps(1) infinite;\n",
              "  }\n",
              "\n",
              "  @keyframes spin {\n",
              "    0% {\n",
              "      border-color: transparent;\n",
              "      border-bottom-color: var(--fill-color);\n",
              "      border-left-color: var(--fill-color);\n",
              "    }\n",
              "    20% {\n",
              "      border-color: transparent;\n",
              "      border-left-color: var(--fill-color);\n",
              "      border-top-color: var(--fill-color);\n",
              "    }\n",
              "    30% {\n",
              "      border-color: transparent;\n",
              "      border-left-color: var(--fill-color);\n",
              "      border-top-color: var(--fill-color);\n",
              "      border-right-color: var(--fill-color);\n",
              "    }\n",
              "    40% {\n",
              "      border-color: transparent;\n",
              "      border-right-color: var(--fill-color);\n",
              "      border-top-color: var(--fill-color);\n",
              "    }\n",
              "    60% {\n",
              "      border-color: transparent;\n",
              "      border-right-color: var(--fill-color);\n",
              "    }\n",
              "    80% {\n",
              "      border-color: transparent;\n",
              "      border-right-color: var(--fill-color);\n",
              "      border-bottom-color: var(--fill-color);\n",
              "    }\n",
              "    90% {\n",
              "      border-color: transparent;\n",
              "      border-bottom-color: var(--fill-color);\n",
              "    }\n",
              "  }\n",
              "</style>\n",
              "\n",
              "  <script>\n",
              "    async function quickchart(key) {\n",
              "      const quickchartButtonEl =\n",
              "        document.querySelector('#' + key + ' button');\n",
              "      quickchartButtonEl.disabled = true;  // To prevent multiple clicks.\n",
              "      quickchartButtonEl.classList.add('colab-df-spinner');\n",
              "      try {\n",
              "        const charts = await google.colab.kernel.invokeFunction(\n",
              "            'suggestCharts', [key], {});\n",
              "      } catch (error) {\n",
              "        console.error('Error during call to suggestCharts:', error);\n",
              "      }\n",
              "      quickchartButtonEl.classList.remove('colab-df-spinner');\n",
              "      quickchartButtonEl.classList.add('colab-df-quickchart-complete');\n",
              "    }\n",
              "    (() => {\n",
              "      let quickchartButtonEl =\n",
              "        document.querySelector('#df-60bf87fd-64a6-4d0e-b18b-6e4836df0950 button');\n",
              "      quickchartButtonEl.style.display =\n",
              "        google.colab.kernel.accessAllowed ? 'block' : 'none';\n",
              "    })();\n",
              "  </script>\n",
              "</div>\n",
              "    </div>\n",
              "  </div>\n"
            ],
            "application/vnd.google.colaboratory.intrinsic+json": {
              "type": "dataframe",
              "variable_name": "teste",
              "summary": "{\n  \"name\": \"teste\",\n  \"rows\": 86,\n  \"fields\": [\n    {\n      \"column\": \"sepal_length\",\n      \"properties\": {\n        \"dtype\": \"number\",\n        \"std\": 0.8842473052566378,\n        \"min\": 4.3,\n        \"max\": 7.7,\n        \"num_unique_values\": 33,\n        \"samples\": [\n          5.6,\n          5.4,\n          4.3\n        ],\n        \"semantic_type\": \"\",\n        \"description\": \"\"\n      }\n    },\n    {\n      \"column\": \"sepal_width\",\n      \"properties\": {\n        \"dtype\": \"number\",\n        \"std\": 0.44282546363648745,\n        \"min\": 2.0,\n        \"max\": 4.1,\n        \"num_unique_values\": 20,\n        \"samples\": [\n          3.8,\n          3.9,\n          2.6\n        ],\n        \"semantic_type\": \"\",\n        \"description\": \"\"\n      }\n    },\n    {\n      \"column\": \"petal_length\",\n      \"properties\": {\n        \"dtype\": \"number\",\n        \"std\": 1.7776931361899635,\n        \"min\": 1.1,\n        \"max\": 6.9,\n        \"num_unique_values\": 38,\n        \"samples\": [\n          3.7,\n          3.3,\n          6.6\n        ],\n        \"semantic_type\": \"\",\n        \"description\": \"\"\n      }\n    },\n    {\n      \"column\": \"petal_width\",\n      \"properties\": {\n        \"dtype\": \"number\",\n        \"std\": 0.7652445224936709,\n        \"min\": 0.1,\n        \"max\": 2.5,\n        \"num_unique_values\": 21,\n        \"samples\": [\n          2.2,\n          2.4,\n          1.6\n        ],\n        \"semantic_type\": \"\",\n        \"description\": \"\"\n      }\n    },\n    {\n      \"column\": \"species\",\n      \"properties\": {\n        \"dtype\": \"category\",\n        \"num_unique_values\": 3,\n        \"samples\": [\n          \"virginica\",\n          \"versicolor\",\n          \"setosa\"\n        ],\n        \"semantic_type\": \"\",\n        \"description\": \"\"\n      }\n    }\n  ]\n}"
            }
          },
          "metadata": {},
          "execution_count": 6
        }
      ]
    },
    {
      "cell_type": "markdown",
      "id": "dba767f2",
      "metadata": {
        "id": "dba767f2"
      },
      "source": [
        "### Passo 2: processamento da classe"
      ]
    },
    {
      "cell_type": "markdown",
      "id": "d20a89cc",
      "metadata": {
        "id": "d20a89cc"
      },
      "source": [
        "A última coluna contém o conceito (o resultado correto do mapeamento).\n",
        "\n",
        "O DataFrame contém strings para o conceito (nome da espécie). O scikit-learn requer que esse conceito seja composto por valores numéricos.\n",
        "\n",
        "Use a classe `LabelEncoder` para transformar esses valores em numéricos."
      ]
    },
    {
      "cell_type": "code",
      "execution_count": null,
      "id": "7a2ef257",
      "metadata": {
        "id": "7a2ef257"
      },
      "outputs": [],
      "source": [
        "le = LabelEncoder()"
      ]
    },
    {
      "cell_type": "markdown",
      "id": "8c0194ad",
      "metadata": {
        "id": "8c0194ad"
      },
      "source": [
        "Primeiro, use `fit` sobre o conjunto de treinamento para \"aprender\" o mapeamento de string para inteiro"
      ]
    },
    {
      "cell_type": "code",
      "execution_count": null,
      "id": "8a3f3575",
      "metadata": {
        "id": "8a3f3575"
      },
      "outputs": [],
      "source": [
        "le.fit(treino.iloc[:, -1]);  #o codificador de rótulos está aprendendo os rótulos presentes na última coluna do DataFrame"
      ]
    },
    {
      "cell_type": "markdown",
      "id": "5c472ff2",
      "metadata": {
        "id": "5c472ff2"
      },
      "source": [
        "Agora, use `transform` para substituir as strings pelos valores numéricos. (**Observação**: dependendo da sua versão do Pandas, pode aparecer uma mensagem advertência na linha abaixo; ela pode ser ignorada)"
      ]
    },
    {
      "cell_type": "code",
      "execution_count": null,
      "id": "493e8850",
      "metadata": {
        "colab": {
          "base_uri": "https://localhost:8080/"
        },
        "id": "493e8850",
        "outputId": "79c23cc3-07fb-4513-de30-134c26319294"
      },
      "outputs": [
        {
          "output_type": "stream",
          "name": "stderr",
          "text": [
            "<ipython-input-9-c1471b2040de>:1: DeprecationWarning: In a future version, `df.iloc[:, i] = newvals` will attempt to set the values inplace instead of always setting a new array. To retain the old behavior, use either `df[df.columns[i]] = newvals` or, if columns are non-unique, `df.isetitem(i, newvals)`\n",
            "  treino.iloc[:, -1] = le.transform(treino.iloc[:, -1])\n"
          ]
        }
      ],
      "source": [
        "treino.iloc[:, -1] = le.transform(treino.iloc[:, -1])"
      ]
    },
    {
      "cell_type": "code",
      "source": [
        "treino.head()"
      ],
      "metadata": {
        "colab": {
          "base_uri": "https://localhost:8080/",
          "height": 206
        },
        "id": "NEaaTuL4QlyH",
        "outputId": "884982df-a86b-4083-8f45-fdab8023a05e"
      },
      "id": "NEaaTuL4QlyH",
      "execution_count": null,
      "outputs": [
        {
          "output_type": "execute_result",
          "data": {
            "text/plain": [
              "   sepal_length  sepal_width  petal_length  petal_width  species\n",
              "0           6.2          3.4           5.4          2.3        2\n",
              "1           5.1          3.3           1.7          0.5        0\n",
              "2           6.7          2.5           5.8          1.8        2\n",
              "3           5.6          2.5           3.9          1.1        1\n",
              "4           4.4          3.2           1.3          0.2        0"
            ],
            "text/html": [
              "\n",
              "  <div id=\"df-a6252368-0d64-4cc7-8ef5-acc127f99aa4\" class=\"colab-df-container\">\n",
              "    <div>\n",
              "<style scoped>\n",
              "    .dataframe tbody tr th:only-of-type {\n",
              "        vertical-align: middle;\n",
              "    }\n",
              "\n",
              "    .dataframe tbody tr th {\n",
              "        vertical-align: top;\n",
              "    }\n",
              "\n",
              "    .dataframe thead th {\n",
              "        text-align: right;\n",
              "    }\n",
              "</style>\n",
              "<table border=\"1\" class=\"dataframe\">\n",
              "  <thead>\n",
              "    <tr style=\"text-align: right;\">\n",
              "      <th></th>\n",
              "      <th>sepal_length</th>\n",
              "      <th>sepal_width</th>\n",
              "      <th>petal_length</th>\n",
              "      <th>petal_width</th>\n",
              "      <th>species</th>\n",
              "    </tr>\n",
              "  </thead>\n",
              "  <tbody>\n",
              "    <tr>\n",
              "      <th>0</th>\n",
              "      <td>6.2</td>\n",
              "      <td>3.4</td>\n",
              "      <td>5.4</td>\n",
              "      <td>2.3</td>\n",
              "      <td>2</td>\n",
              "    </tr>\n",
              "    <tr>\n",
              "      <th>1</th>\n",
              "      <td>5.1</td>\n",
              "      <td>3.3</td>\n",
              "      <td>1.7</td>\n",
              "      <td>0.5</td>\n",
              "      <td>0</td>\n",
              "    </tr>\n",
              "    <tr>\n",
              "      <th>2</th>\n",
              "      <td>6.7</td>\n",
              "      <td>2.5</td>\n",
              "      <td>5.8</td>\n",
              "      <td>1.8</td>\n",
              "      <td>2</td>\n",
              "    </tr>\n",
              "    <tr>\n",
              "      <th>3</th>\n",
              "      <td>5.6</td>\n",
              "      <td>2.5</td>\n",
              "      <td>3.9</td>\n",
              "      <td>1.1</td>\n",
              "      <td>1</td>\n",
              "    </tr>\n",
              "    <tr>\n",
              "      <th>4</th>\n",
              "      <td>4.4</td>\n",
              "      <td>3.2</td>\n",
              "      <td>1.3</td>\n",
              "      <td>0.2</td>\n",
              "      <td>0</td>\n",
              "    </tr>\n",
              "  </tbody>\n",
              "</table>\n",
              "</div>\n",
              "    <div class=\"colab-df-buttons\">\n",
              "\n",
              "  <div class=\"colab-df-container\">\n",
              "    <button class=\"colab-df-convert\" onclick=\"convertToInteractive('df-a6252368-0d64-4cc7-8ef5-acc127f99aa4')\"\n",
              "            title=\"Convert this dataframe to an interactive table.\"\n",
              "            style=\"display:none;\">\n",
              "\n",
              "  <svg xmlns=\"http://www.w3.org/2000/svg\" height=\"24px\" viewBox=\"0 -960 960 960\">\n",
              "    <path d=\"M120-120v-720h720v720H120Zm60-500h600v-160H180v160Zm220 220h160v-160H400v160Zm0 220h160v-160H400v160ZM180-400h160v-160H180v160Zm440 0h160v-160H620v160ZM180-180h160v-160H180v160Zm440 0h160v-160H620v160Z\"/>\n",
              "  </svg>\n",
              "    </button>\n",
              "\n",
              "  <style>\n",
              "    .colab-df-container {\n",
              "      display:flex;\n",
              "      gap: 12px;\n",
              "    }\n",
              "\n",
              "    .colab-df-convert {\n",
              "      background-color: #E8F0FE;\n",
              "      border: none;\n",
              "      border-radius: 50%;\n",
              "      cursor: pointer;\n",
              "      display: none;\n",
              "      fill: #1967D2;\n",
              "      height: 32px;\n",
              "      padding: 0 0 0 0;\n",
              "      width: 32px;\n",
              "    }\n",
              "\n",
              "    .colab-df-convert:hover {\n",
              "      background-color: #E2EBFA;\n",
              "      box-shadow: 0px 1px 2px rgba(60, 64, 67, 0.3), 0px 1px 3px 1px rgba(60, 64, 67, 0.15);\n",
              "      fill: #174EA6;\n",
              "    }\n",
              "\n",
              "    .colab-df-buttons div {\n",
              "      margin-bottom: 4px;\n",
              "    }\n",
              "\n",
              "    [theme=dark] .colab-df-convert {\n",
              "      background-color: #3B4455;\n",
              "      fill: #D2E3FC;\n",
              "    }\n",
              "\n",
              "    [theme=dark] .colab-df-convert:hover {\n",
              "      background-color: #434B5C;\n",
              "      box-shadow: 0px 1px 3px 1px rgba(0, 0, 0, 0.15);\n",
              "      filter: drop-shadow(0px 1px 2px rgba(0, 0, 0, 0.3));\n",
              "      fill: #FFFFFF;\n",
              "    }\n",
              "  </style>\n",
              "\n",
              "    <script>\n",
              "      const buttonEl =\n",
              "        document.querySelector('#df-a6252368-0d64-4cc7-8ef5-acc127f99aa4 button.colab-df-convert');\n",
              "      buttonEl.style.display =\n",
              "        google.colab.kernel.accessAllowed ? 'block' : 'none';\n",
              "\n",
              "      async function convertToInteractive(key) {\n",
              "        const element = document.querySelector('#df-a6252368-0d64-4cc7-8ef5-acc127f99aa4');\n",
              "        const dataTable =\n",
              "          await google.colab.kernel.invokeFunction('convertToInteractive',\n",
              "                                                    [key], {});\n",
              "        if (!dataTable) return;\n",
              "\n",
              "        const docLinkHtml = 'Like what you see? Visit the ' +\n",
              "          '<a target=\"_blank\" href=https://colab.research.google.com/notebooks/data_table.ipynb>data table notebook</a>'\n",
              "          + ' to learn more about interactive tables.';\n",
              "        element.innerHTML = '';\n",
              "        dataTable['output_type'] = 'display_data';\n",
              "        await google.colab.output.renderOutput(dataTable, element);\n",
              "        const docLink = document.createElement('div');\n",
              "        docLink.innerHTML = docLinkHtml;\n",
              "        element.appendChild(docLink);\n",
              "      }\n",
              "    </script>\n",
              "  </div>\n",
              "\n",
              "\n",
              "<div id=\"df-c59b2230-9ffa-42ac-a6f4-9c0932db64dc\">\n",
              "  <button class=\"colab-df-quickchart\" onclick=\"quickchart('df-c59b2230-9ffa-42ac-a6f4-9c0932db64dc')\"\n",
              "            title=\"Suggest charts\"\n",
              "            style=\"display:none;\">\n",
              "\n",
              "<svg xmlns=\"http://www.w3.org/2000/svg\" height=\"24px\"viewBox=\"0 0 24 24\"\n",
              "     width=\"24px\">\n",
              "    <g>\n",
              "        <path d=\"M19 3H5c-1.1 0-2 .9-2 2v14c0 1.1.9 2 2 2h14c1.1 0 2-.9 2-2V5c0-1.1-.9-2-2-2zM9 17H7v-7h2v7zm4 0h-2V7h2v10zm4 0h-2v-4h2v4z\"/>\n",
              "    </g>\n",
              "</svg>\n",
              "  </button>\n",
              "\n",
              "<style>\n",
              "  .colab-df-quickchart {\n",
              "      --bg-color: #E8F0FE;\n",
              "      --fill-color: #1967D2;\n",
              "      --hover-bg-color: #E2EBFA;\n",
              "      --hover-fill-color: #174EA6;\n",
              "      --disabled-fill-color: #AAA;\n",
              "      --disabled-bg-color: #DDD;\n",
              "  }\n",
              "\n",
              "  [theme=dark] .colab-df-quickchart {\n",
              "      --bg-color: #3B4455;\n",
              "      --fill-color: #D2E3FC;\n",
              "      --hover-bg-color: #434B5C;\n",
              "      --hover-fill-color: #FFFFFF;\n",
              "      --disabled-bg-color: #3B4455;\n",
              "      --disabled-fill-color: #666;\n",
              "  }\n",
              "\n",
              "  .colab-df-quickchart {\n",
              "    background-color: var(--bg-color);\n",
              "    border: none;\n",
              "    border-radius: 50%;\n",
              "    cursor: pointer;\n",
              "    display: none;\n",
              "    fill: var(--fill-color);\n",
              "    height: 32px;\n",
              "    padding: 0;\n",
              "    width: 32px;\n",
              "  }\n",
              "\n",
              "  .colab-df-quickchart:hover {\n",
              "    background-color: var(--hover-bg-color);\n",
              "    box-shadow: 0 1px 2px rgba(60, 64, 67, 0.3), 0 1px 3px 1px rgba(60, 64, 67, 0.15);\n",
              "    fill: var(--button-hover-fill-color);\n",
              "  }\n",
              "\n",
              "  .colab-df-quickchart-complete:disabled,\n",
              "  .colab-df-quickchart-complete:disabled:hover {\n",
              "    background-color: var(--disabled-bg-color);\n",
              "    fill: var(--disabled-fill-color);\n",
              "    box-shadow: none;\n",
              "  }\n",
              "\n",
              "  .colab-df-spinner {\n",
              "    border: 2px solid var(--fill-color);\n",
              "    border-color: transparent;\n",
              "    border-bottom-color: var(--fill-color);\n",
              "    animation:\n",
              "      spin 1s steps(1) infinite;\n",
              "  }\n",
              "\n",
              "  @keyframes spin {\n",
              "    0% {\n",
              "      border-color: transparent;\n",
              "      border-bottom-color: var(--fill-color);\n",
              "      border-left-color: var(--fill-color);\n",
              "    }\n",
              "    20% {\n",
              "      border-color: transparent;\n",
              "      border-left-color: var(--fill-color);\n",
              "      border-top-color: var(--fill-color);\n",
              "    }\n",
              "    30% {\n",
              "      border-color: transparent;\n",
              "      border-left-color: var(--fill-color);\n",
              "      border-top-color: var(--fill-color);\n",
              "      border-right-color: var(--fill-color);\n",
              "    }\n",
              "    40% {\n",
              "      border-color: transparent;\n",
              "      border-right-color: var(--fill-color);\n",
              "      border-top-color: var(--fill-color);\n",
              "    }\n",
              "    60% {\n",
              "      border-color: transparent;\n",
              "      border-right-color: var(--fill-color);\n",
              "    }\n",
              "    80% {\n",
              "      border-color: transparent;\n",
              "      border-right-color: var(--fill-color);\n",
              "      border-bottom-color: var(--fill-color);\n",
              "    }\n",
              "    90% {\n",
              "      border-color: transparent;\n",
              "      border-bottom-color: var(--fill-color);\n",
              "    }\n",
              "  }\n",
              "</style>\n",
              "\n",
              "  <script>\n",
              "    async function quickchart(key) {\n",
              "      const quickchartButtonEl =\n",
              "        document.querySelector('#' + key + ' button');\n",
              "      quickchartButtonEl.disabled = true;  // To prevent multiple clicks.\n",
              "      quickchartButtonEl.classList.add('colab-df-spinner');\n",
              "      try {\n",
              "        const charts = await google.colab.kernel.invokeFunction(\n",
              "            'suggestCharts', [key], {});\n",
              "      } catch (error) {\n",
              "        console.error('Error during call to suggestCharts:', error);\n",
              "      }\n",
              "      quickchartButtonEl.classList.remove('colab-df-spinner');\n",
              "      quickchartButtonEl.classList.add('colab-df-quickchart-complete');\n",
              "    }\n",
              "    (() => {\n",
              "      let quickchartButtonEl =\n",
              "        document.querySelector('#df-c59b2230-9ffa-42ac-a6f4-9c0932db64dc button');\n",
              "      quickchartButtonEl.style.display =\n",
              "        google.colab.kernel.accessAllowed ? 'block' : 'none';\n",
              "    })();\n",
              "  </script>\n",
              "</div>\n",
              "    </div>\n",
              "  </div>\n"
            ],
            "application/vnd.google.colaboratory.intrinsic+json": {
              "type": "dataframe",
              "variable_name": "treino",
              "summary": "{\n  \"name\": \"treino\",\n  \"rows\": 64,\n  \"fields\": [\n    {\n      \"column\": \"sepal_length\",\n      \"properties\": {\n        \"dtype\": \"number\",\n        \"std\": 0.7338860876747424,\n        \"min\": 4.4,\n        \"max\": 7.9,\n        \"num_unique_values\": 24,\n        \"samples\": [\n          5.0,\n          6.9,\n          6.2\n        ],\n        \"semantic_type\": \"\",\n        \"description\": \"\"\n      }\n    },\n    {\n      \"column\": \"sepal_width\",\n      \"properties\": {\n        \"dtype\": \"number\",\n        \"std\": 0.42517211734199994,\n        \"min\": 2.2,\n        \"max\": 4.4,\n        \"num_unique_values\": 20,\n        \"samples\": [\n          3.4,\n          4.4,\n          3.7\n        ],\n        \"semantic_type\": \"\",\n        \"description\": \"\"\n      }\n    },\n    {\n      \"column\": \"petal_length\",\n      \"properties\": {\n        \"dtype\": \"number\",\n        \"std\": 1.7171144815815695,\n        \"min\": 1.0,\n        \"max\": 6.4,\n        \"num_unique_values\": 30,\n        \"samples\": [\n          3.8,\n          4.4,\n          4.1\n        ],\n        \"semantic_type\": \"\",\n        \"description\": \"\"\n      }\n    },\n    {\n      \"column\": \"petal_width\",\n      \"properties\": {\n        \"dtype\": \"number\",\n        \"std\": 0.7478806033220788,\n        \"min\": 0.1,\n        \"max\": 2.5,\n        \"num_unique_values\": 21,\n        \"samples\": [\n          2.3,\n          1.0,\n          1.9\n        ],\n        \"semantic_type\": \"\",\n        \"description\": \"\"\n      }\n    },\n    {\n      \"column\": \"species\",\n      \"properties\": {\n        \"dtype\": \"number\",\n        \"std\": 0,\n        \"min\": 0,\n        \"max\": 2,\n        \"num_unique_values\": 3,\n        \"samples\": [\n          2,\n          0,\n          1\n        ],\n        \"semantic_type\": \"\",\n        \"description\": \"\"\n      }\n    }\n  ]\n}"
            }
          },
          "metadata": {},
          "execution_count": 10
        }
      ]
    },
    {
      "cell_type": "markdown",
      "id": "5a3123ec",
      "metadata": {
        "id": "5a3123ec"
      },
      "source": [
        "Agora faça o mesmo com o teste."
      ]
    },
    {
      "cell_type": "code",
      "execution_count": null,
      "id": "71a67dc1",
      "metadata": {
        "colab": {
          "base_uri": "https://localhost:8080/",
          "height": 74
        },
        "id": "71a67dc1",
        "outputId": "c751e381-403f-48ab-b30b-064ce9ef28cd"
      },
      "outputs": [
        {
          "output_type": "execute_result",
          "data": {
            "text/plain": [
              "LabelEncoder()"
            ],
            "text/html": [
              "<style>#sk-container-id-1 {color: black;background-color: white;}#sk-container-id-1 pre{padding: 0;}#sk-container-id-1 div.sk-toggleable {background-color: white;}#sk-container-id-1 label.sk-toggleable__label {cursor: pointer;display: block;width: 100%;margin-bottom: 0;padding: 0.3em;box-sizing: border-box;text-align: center;}#sk-container-id-1 label.sk-toggleable__label-arrow:before {content: \"▸\";float: left;margin-right: 0.25em;color: #696969;}#sk-container-id-1 label.sk-toggleable__label-arrow:hover:before {color: black;}#sk-container-id-1 div.sk-estimator:hover label.sk-toggleable__label-arrow:before {color: black;}#sk-container-id-1 div.sk-toggleable__content {max-height: 0;max-width: 0;overflow: hidden;text-align: left;background-color: #f0f8ff;}#sk-container-id-1 div.sk-toggleable__content pre {margin: 0.2em;color: black;border-radius: 0.25em;background-color: #f0f8ff;}#sk-container-id-1 input.sk-toggleable__control:checked~div.sk-toggleable__content {max-height: 200px;max-width: 100%;overflow: auto;}#sk-container-id-1 input.sk-toggleable__control:checked~label.sk-toggleable__label-arrow:before {content: \"▾\";}#sk-container-id-1 div.sk-estimator input.sk-toggleable__control:checked~label.sk-toggleable__label {background-color: #d4ebff;}#sk-container-id-1 div.sk-label input.sk-toggleable__control:checked~label.sk-toggleable__label {background-color: #d4ebff;}#sk-container-id-1 input.sk-hidden--visually {border: 0;clip: rect(1px 1px 1px 1px);clip: rect(1px, 1px, 1px, 1px);height: 1px;margin: -1px;overflow: hidden;padding: 0;position: absolute;width: 1px;}#sk-container-id-1 div.sk-estimator {font-family: monospace;background-color: #f0f8ff;border: 1px dotted black;border-radius: 0.25em;box-sizing: border-box;margin-bottom: 0.5em;}#sk-container-id-1 div.sk-estimator:hover {background-color: #d4ebff;}#sk-container-id-1 div.sk-parallel-item::after {content: \"\";width: 100%;border-bottom: 1px solid gray;flex-grow: 1;}#sk-container-id-1 div.sk-label:hover label.sk-toggleable__label {background-color: #d4ebff;}#sk-container-id-1 div.sk-serial::before {content: \"\";position: absolute;border-left: 1px solid gray;box-sizing: border-box;top: 0;bottom: 0;left: 50%;z-index: 0;}#sk-container-id-1 div.sk-serial {display: flex;flex-direction: column;align-items: center;background-color: white;padding-right: 0.2em;padding-left: 0.2em;position: relative;}#sk-container-id-1 div.sk-item {position: relative;z-index: 1;}#sk-container-id-1 div.sk-parallel {display: flex;align-items: stretch;justify-content: center;background-color: white;position: relative;}#sk-container-id-1 div.sk-item::before, #sk-container-id-1 div.sk-parallel-item::before {content: \"\";position: absolute;border-left: 1px solid gray;box-sizing: border-box;top: 0;bottom: 0;left: 50%;z-index: -1;}#sk-container-id-1 div.sk-parallel-item {display: flex;flex-direction: column;z-index: 1;position: relative;background-color: white;}#sk-container-id-1 div.sk-parallel-item:first-child::after {align-self: flex-end;width: 50%;}#sk-container-id-1 div.sk-parallel-item:last-child::after {align-self: flex-start;width: 50%;}#sk-container-id-1 div.sk-parallel-item:only-child::after {width: 0;}#sk-container-id-1 div.sk-dashed-wrapped {border: 1px dashed gray;margin: 0 0.4em 0.5em 0.4em;box-sizing: border-box;padding-bottom: 0.4em;background-color: white;}#sk-container-id-1 div.sk-label label {font-family: monospace;font-weight: bold;display: inline-block;line-height: 1.2em;}#sk-container-id-1 div.sk-label-container {text-align: center;}#sk-container-id-1 div.sk-container {/* jupyter's `normalize.less` sets `[hidden] { display: none; }` but bootstrap.min.css set `[hidden] { display: none !important; }` so we also need the `!important` here to be able to override the default hidden behavior on the sphinx rendered scikit-learn.org. See: https://github.com/scikit-learn/scikit-learn/issues/21755 */display: inline-block !important;position: relative;}#sk-container-id-1 div.sk-text-repr-fallback {display: none;}</style><div id=\"sk-container-id-1\" class=\"sk-top-container\"><div class=\"sk-text-repr-fallback\"><pre>LabelEncoder()</pre><b>In a Jupyter environment, please rerun this cell to show the HTML representation or trust the notebook. <br />On GitHub, the HTML representation is unable to render, please try loading this page with nbviewer.org.</b></div><div class=\"sk-container\" hidden><div class=\"sk-item\"><div class=\"sk-estimator sk-toggleable\"><input class=\"sk-toggleable__control sk-hidden--visually\" id=\"sk-estimator-id-1\" type=\"checkbox\" checked><label for=\"sk-estimator-id-1\" class=\"sk-toggleable__label sk-toggleable__label-arrow\">LabelEncoder</label><div class=\"sk-toggleable__content\"><pre>LabelEncoder()</pre></div></div></div></div></div>"
            ]
          },
          "metadata": {},
          "execution_count": 11
        }
      ],
      "source": [
        "le.fit(teste.iloc[:, -1]) #complete o código"
      ]
    },
    {
      "cell_type": "code",
      "execution_count": null,
      "id": "870641ed",
      "metadata": {
        "colab": {
          "base_uri": "https://localhost:8080/"
        },
        "id": "870641ed",
        "outputId": "ab8e940c-1b04-4936-fafc-a7af30f82b30"
      },
      "outputs": [
        {
          "output_type": "stream",
          "name": "stderr",
          "text": [
            "<ipython-input-12-ee3208512886>:1: DeprecationWarning: In a future version, `df.iloc[:, i] = newvals` will attempt to set the values inplace instead of always setting a new array. To retain the old behavior, use either `df[df.columns[i]] = newvals` or, if columns are non-unique, `df.isetitem(i, newvals)`\n",
            "  teste.iloc[:, -1] = le.transform(teste.iloc[:, -1])\n"
          ]
        }
      ],
      "source": [
        "teste.iloc[:, -1] = le.transform(teste.iloc[:, -1])"
      ]
    },
    {
      "cell_type": "code",
      "source": [
        "teste.head()"
      ],
      "metadata": {
        "colab": {
          "base_uri": "https://localhost:8080/",
          "height": 206
        },
        "id": "KdvAjnN5RIJT",
        "outputId": "a163756c-09b4-4de6-b6cf-80373159319d"
      },
      "id": "KdvAjnN5RIJT",
      "execution_count": null,
      "outputs": [
        {
          "output_type": "execute_result",
          "data": {
            "text/plain": [
              "   sepal_length  sepal_width  petal_length  petal_width  species\n",
              "0           7.7          3.8           6.7          2.2        2\n",
              "1           6.3          3.3           6.0          2.5        2\n",
              "2           7.2          3.2           6.0          1.8        2\n",
              "3           7.0          3.2           4.7          1.4        1\n",
              "4           6.8          2.8           4.8          1.4        1"
            ],
            "text/html": [
              "\n",
              "  <div id=\"df-fb08883a-f188-48d6-a6ac-51100d70d707\" class=\"colab-df-container\">\n",
              "    <div>\n",
              "<style scoped>\n",
              "    .dataframe tbody tr th:only-of-type {\n",
              "        vertical-align: middle;\n",
              "    }\n",
              "\n",
              "    .dataframe tbody tr th {\n",
              "        vertical-align: top;\n",
              "    }\n",
              "\n",
              "    .dataframe thead th {\n",
              "        text-align: right;\n",
              "    }\n",
              "</style>\n",
              "<table border=\"1\" class=\"dataframe\">\n",
              "  <thead>\n",
              "    <tr style=\"text-align: right;\">\n",
              "      <th></th>\n",
              "      <th>sepal_length</th>\n",
              "      <th>sepal_width</th>\n",
              "      <th>petal_length</th>\n",
              "      <th>petal_width</th>\n",
              "      <th>species</th>\n",
              "    </tr>\n",
              "  </thead>\n",
              "  <tbody>\n",
              "    <tr>\n",
              "      <th>0</th>\n",
              "      <td>7.7</td>\n",
              "      <td>3.8</td>\n",
              "      <td>6.7</td>\n",
              "      <td>2.2</td>\n",
              "      <td>2</td>\n",
              "    </tr>\n",
              "    <tr>\n",
              "      <th>1</th>\n",
              "      <td>6.3</td>\n",
              "      <td>3.3</td>\n",
              "      <td>6.0</td>\n",
              "      <td>2.5</td>\n",
              "      <td>2</td>\n",
              "    </tr>\n",
              "    <tr>\n",
              "      <th>2</th>\n",
              "      <td>7.2</td>\n",
              "      <td>3.2</td>\n",
              "      <td>6.0</td>\n",
              "      <td>1.8</td>\n",
              "      <td>2</td>\n",
              "    </tr>\n",
              "    <tr>\n",
              "      <th>3</th>\n",
              "      <td>7.0</td>\n",
              "      <td>3.2</td>\n",
              "      <td>4.7</td>\n",
              "      <td>1.4</td>\n",
              "      <td>1</td>\n",
              "    </tr>\n",
              "    <tr>\n",
              "      <th>4</th>\n",
              "      <td>6.8</td>\n",
              "      <td>2.8</td>\n",
              "      <td>4.8</td>\n",
              "      <td>1.4</td>\n",
              "      <td>1</td>\n",
              "    </tr>\n",
              "  </tbody>\n",
              "</table>\n",
              "</div>\n",
              "    <div class=\"colab-df-buttons\">\n",
              "\n",
              "  <div class=\"colab-df-container\">\n",
              "    <button class=\"colab-df-convert\" onclick=\"convertToInteractive('df-fb08883a-f188-48d6-a6ac-51100d70d707')\"\n",
              "            title=\"Convert this dataframe to an interactive table.\"\n",
              "            style=\"display:none;\">\n",
              "\n",
              "  <svg xmlns=\"http://www.w3.org/2000/svg\" height=\"24px\" viewBox=\"0 -960 960 960\">\n",
              "    <path d=\"M120-120v-720h720v720H120Zm60-500h600v-160H180v160Zm220 220h160v-160H400v160Zm0 220h160v-160H400v160ZM180-400h160v-160H180v160Zm440 0h160v-160H620v160ZM180-180h160v-160H180v160Zm440 0h160v-160H620v160Z\"/>\n",
              "  </svg>\n",
              "    </button>\n",
              "\n",
              "  <style>\n",
              "    .colab-df-container {\n",
              "      display:flex;\n",
              "      gap: 12px;\n",
              "    }\n",
              "\n",
              "    .colab-df-convert {\n",
              "      background-color: #E8F0FE;\n",
              "      border: none;\n",
              "      border-radius: 50%;\n",
              "      cursor: pointer;\n",
              "      display: none;\n",
              "      fill: #1967D2;\n",
              "      height: 32px;\n",
              "      padding: 0 0 0 0;\n",
              "      width: 32px;\n",
              "    }\n",
              "\n",
              "    .colab-df-convert:hover {\n",
              "      background-color: #E2EBFA;\n",
              "      box-shadow: 0px 1px 2px rgba(60, 64, 67, 0.3), 0px 1px 3px 1px rgba(60, 64, 67, 0.15);\n",
              "      fill: #174EA6;\n",
              "    }\n",
              "\n",
              "    .colab-df-buttons div {\n",
              "      margin-bottom: 4px;\n",
              "    }\n",
              "\n",
              "    [theme=dark] .colab-df-convert {\n",
              "      background-color: #3B4455;\n",
              "      fill: #D2E3FC;\n",
              "    }\n",
              "\n",
              "    [theme=dark] .colab-df-convert:hover {\n",
              "      background-color: #434B5C;\n",
              "      box-shadow: 0px 1px 3px 1px rgba(0, 0, 0, 0.15);\n",
              "      filter: drop-shadow(0px 1px 2px rgba(0, 0, 0, 0.3));\n",
              "      fill: #FFFFFF;\n",
              "    }\n",
              "  </style>\n",
              "\n",
              "    <script>\n",
              "      const buttonEl =\n",
              "        document.querySelector('#df-fb08883a-f188-48d6-a6ac-51100d70d707 button.colab-df-convert');\n",
              "      buttonEl.style.display =\n",
              "        google.colab.kernel.accessAllowed ? 'block' : 'none';\n",
              "\n",
              "      async function convertToInteractive(key) {\n",
              "        const element = document.querySelector('#df-fb08883a-f188-48d6-a6ac-51100d70d707');\n",
              "        const dataTable =\n",
              "          await google.colab.kernel.invokeFunction('convertToInteractive',\n",
              "                                                    [key], {});\n",
              "        if (!dataTable) return;\n",
              "\n",
              "        const docLinkHtml = 'Like what you see? Visit the ' +\n",
              "          '<a target=\"_blank\" href=https://colab.research.google.com/notebooks/data_table.ipynb>data table notebook</a>'\n",
              "          + ' to learn more about interactive tables.';\n",
              "        element.innerHTML = '';\n",
              "        dataTable['output_type'] = 'display_data';\n",
              "        await google.colab.output.renderOutput(dataTable, element);\n",
              "        const docLink = document.createElement('div');\n",
              "        docLink.innerHTML = docLinkHtml;\n",
              "        element.appendChild(docLink);\n",
              "      }\n",
              "    </script>\n",
              "  </div>\n",
              "\n",
              "\n",
              "<div id=\"df-7f308b3e-ded9-4870-88d6-e9b1f912c27c\">\n",
              "  <button class=\"colab-df-quickchart\" onclick=\"quickchart('df-7f308b3e-ded9-4870-88d6-e9b1f912c27c')\"\n",
              "            title=\"Suggest charts\"\n",
              "            style=\"display:none;\">\n",
              "\n",
              "<svg xmlns=\"http://www.w3.org/2000/svg\" height=\"24px\"viewBox=\"0 0 24 24\"\n",
              "     width=\"24px\">\n",
              "    <g>\n",
              "        <path d=\"M19 3H5c-1.1 0-2 .9-2 2v14c0 1.1.9 2 2 2h14c1.1 0 2-.9 2-2V5c0-1.1-.9-2-2-2zM9 17H7v-7h2v7zm4 0h-2V7h2v10zm4 0h-2v-4h2v4z\"/>\n",
              "    </g>\n",
              "</svg>\n",
              "  </button>\n",
              "\n",
              "<style>\n",
              "  .colab-df-quickchart {\n",
              "      --bg-color: #E8F0FE;\n",
              "      --fill-color: #1967D2;\n",
              "      --hover-bg-color: #E2EBFA;\n",
              "      --hover-fill-color: #174EA6;\n",
              "      --disabled-fill-color: #AAA;\n",
              "      --disabled-bg-color: #DDD;\n",
              "  }\n",
              "\n",
              "  [theme=dark] .colab-df-quickchart {\n",
              "      --bg-color: #3B4455;\n",
              "      --fill-color: #D2E3FC;\n",
              "      --hover-bg-color: #434B5C;\n",
              "      --hover-fill-color: #FFFFFF;\n",
              "      --disabled-bg-color: #3B4455;\n",
              "      --disabled-fill-color: #666;\n",
              "  }\n",
              "\n",
              "  .colab-df-quickchart {\n",
              "    background-color: var(--bg-color);\n",
              "    border: none;\n",
              "    border-radius: 50%;\n",
              "    cursor: pointer;\n",
              "    display: none;\n",
              "    fill: var(--fill-color);\n",
              "    height: 32px;\n",
              "    padding: 0;\n",
              "    width: 32px;\n",
              "  }\n",
              "\n",
              "  .colab-df-quickchart:hover {\n",
              "    background-color: var(--hover-bg-color);\n",
              "    box-shadow: 0 1px 2px rgba(60, 64, 67, 0.3), 0 1px 3px 1px rgba(60, 64, 67, 0.15);\n",
              "    fill: var(--button-hover-fill-color);\n",
              "  }\n",
              "\n",
              "  .colab-df-quickchart-complete:disabled,\n",
              "  .colab-df-quickchart-complete:disabled:hover {\n",
              "    background-color: var(--disabled-bg-color);\n",
              "    fill: var(--disabled-fill-color);\n",
              "    box-shadow: none;\n",
              "  }\n",
              "\n",
              "  .colab-df-spinner {\n",
              "    border: 2px solid var(--fill-color);\n",
              "    border-color: transparent;\n",
              "    border-bottom-color: var(--fill-color);\n",
              "    animation:\n",
              "      spin 1s steps(1) infinite;\n",
              "  }\n",
              "\n",
              "  @keyframes spin {\n",
              "    0% {\n",
              "      border-color: transparent;\n",
              "      border-bottom-color: var(--fill-color);\n",
              "      border-left-color: var(--fill-color);\n",
              "    }\n",
              "    20% {\n",
              "      border-color: transparent;\n",
              "      border-left-color: var(--fill-color);\n",
              "      border-top-color: var(--fill-color);\n",
              "    }\n",
              "    30% {\n",
              "      border-color: transparent;\n",
              "      border-left-color: var(--fill-color);\n",
              "      border-top-color: var(--fill-color);\n",
              "      border-right-color: var(--fill-color);\n",
              "    }\n",
              "    40% {\n",
              "      border-color: transparent;\n",
              "      border-right-color: var(--fill-color);\n",
              "      border-top-color: var(--fill-color);\n",
              "    }\n",
              "    60% {\n",
              "      border-color: transparent;\n",
              "      border-right-color: var(--fill-color);\n",
              "    }\n",
              "    80% {\n",
              "      border-color: transparent;\n",
              "      border-right-color: var(--fill-color);\n",
              "      border-bottom-color: var(--fill-color);\n",
              "    }\n",
              "    90% {\n",
              "      border-color: transparent;\n",
              "      border-bottom-color: var(--fill-color);\n",
              "    }\n",
              "  }\n",
              "</style>\n",
              "\n",
              "  <script>\n",
              "    async function quickchart(key) {\n",
              "      const quickchartButtonEl =\n",
              "        document.querySelector('#' + key + ' button');\n",
              "      quickchartButtonEl.disabled = true;  // To prevent multiple clicks.\n",
              "      quickchartButtonEl.classList.add('colab-df-spinner');\n",
              "      try {\n",
              "        const charts = await google.colab.kernel.invokeFunction(\n",
              "            'suggestCharts', [key], {});\n",
              "      } catch (error) {\n",
              "        console.error('Error during call to suggestCharts:', error);\n",
              "      }\n",
              "      quickchartButtonEl.classList.remove('colab-df-spinner');\n",
              "      quickchartButtonEl.classList.add('colab-df-quickchart-complete');\n",
              "    }\n",
              "    (() => {\n",
              "      let quickchartButtonEl =\n",
              "        document.querySelector('#df-7f308b3e-ded9-4870-88d6-e9b1f912c27c button');\n",
              "      quickchartButtonEl.style.display =\n",
              "        google.colab.kernel.accessAllowed ? 'block' : 'none';\n",
              "    })();\n",
              "  </script>\n",
              "</div>\n",
              "    </div>\n",
              "  </div>\n"
            ],
            "application/vnd.google.colaboratory.intrinsic+json": {
              "type": "dataframe",
              "variable_name": "teste",
              "summary": "{\n  \"name\": \"teste\",\n  \"rows\": 86,\n  \"fields\": [\n    {\n      \"column\": \"sepal_length\",\n      \"properties\": {\n        \"dtype\": \"number\",\n        \"std\": 0.8842473052566378,\n        \"min\": 4.3,\n        \"max\": 7.7,\n        \"num_unique_values\": 33,\n        \"samples\": [\n          5.6,\n          5.4,\n          4.3\n        ],\n        \"semantic_type\": \"\",\n        \"description\": \"\"\n      }\n    },\n    {\n      \"column\": \"sepal_width\",\n      \"properties\": {\n        \"dtype\": \"number\",\n        \"std\": 0.44282546363648745,\n        \"min\": 2.0,\n        \"max\": 4.1,\n        \"num_unique_values\": 20,\n        \"samples\": [\n          3.8,\n          3.9,\n          2.6\n        ],\n        \"semantic_type\": \"\",\n        \"description\": \"\"\n      }\n    },\n    {\n      \"column\": \"petal_length\",\n      \"properties\": {\n        \"dtype\": \"number\",\n        \"std\": 1.7776931361899635,\n        \"min\": 1.1,\n        \"max\": 6.9,\n        \"num_unique_values\": 38,\n        \"samples\": [\n          3.7,\n          3.3,\n          6.6\n        ],\n        \"semantic_type\": \"\",\n        \"description\": \"\"\n      }\n    },\n    {\n      \"column\": \"petal_width\",\n      \"properties\": {\n        \"dtype\": \"number\",\n        \"std\": 0.7652445224936709,\n        \"min\": 0.1,\n        \"max\": 2.5,\n        \"num_unique_values\": 21,\n        \"samples\": [\n          2.2,\n          2.4,\n          1.6\n        ],\n        \"semantic_type\": \"\",\n        \"description\": \"\"\n      }\n    },\n    {\n      \"column\": \"species\",\n      \"properties\": {\n        \"dtype\": \"number\",\n        \"std\": 0,\n        \"min\": 0,\n        \"max\": 2,\n        \"num_unique_values\": 3,\n        \"samples\": [\n          2,\n          1,\n          0\n        ],\n        \"semantic_type\": \"\",\n        \"description\": \"\"\n      }\n    }\n  ]\n}"
            }
          },
          "metadata": {},
          "execution_count": 13
        }
      ]
    },
    {
      "cell_type": "markdown",
      "id": "1d20799a",
      "metadata": {
        "id": "1d20799a"
      },
      "source": [
        "### Passo 3: Treino e teste dos modelos"
      ]
    },
    {
      "cell_type": "markdown",
      "id": "56368bc9",
      "metadata": {
        "id": "56368bc9"
      },
      "source": [
        "Usando os conhecimentos que você aprendeu nas aulas anteriores, treine e teste os modelos de árvore de decisão, Naive Bayes e k-NN.\n",
        "\n",
        "Não faça nenhum ajuste de hiperparâmetros. Use as configurações *default* de cada uma das classes."
      ]
    },
    {
      "cell_type": "code",
      "source": [
        "X_treino = treino.iloc[:,:-1]  # features\n",
        "y_treino = treino.iloc[:,-1]   # rótulos"
      ],
      "metadata": {
        "id": "94g_fZZ6SYLT"
      },
      "id": "94g_fZZ6SYLT",
      "execution_count": null,
      "outputs": []
    },
    {
      "cell_type": "code",
      "source": [
        "X_teste = teste.iloc[:,:-1]\n",
        "y_teste = teste.iloc[:,-1]"
      ],
      "metadata": {
        "id": "mg1uTL43U8qb"
      },
      "id": "mg1uTL43U8qb",
      "execution_count": null,
      "outputs": []
    },
    {
      "cell_type": "markdown",
      "source": [
        "Treino e teste para o modelo de árvore de decisão:"
      ],
      "metadata": {
        "id": "weLdMn9eR3_D"
      },
      "id": "weLdMn9eR3_D"
    },
    {
      "cell_type": "code",
      "execution_count": null,
      "id": "b3b0792b",
      "metadata": {
        "colab": {
          "base_uri": "https://localhost:8080/"
        },
        "id": "b3b0792b",
        "outputId": "04cfde0a-4018-4916-c62e-66e89ba0bce0"
      },
      "outputs": [
        {
          "output_type": "execute_result",
          "data": {
            "text/plain": [
              "0.9534883720930233"
            ]
          },
          "metadata": {},
          "execution_count": 16
        }
      ],
      "source": [
        "arvore = DecisionTreeClassifier() #inicialização\n",
        "arvore.fit(X_treino,y_treino) #treinamento\n",
        "ypred_arvore = arvore.predict(X_teste) #teste\n",
        "acuracia_arvore = accuracy_score(y_teste,ypred_arvore)\n",
        "acuracia_arvore"
      ]
    },
    {
      "cell_type": "code",
      "execution_count": null,
      "id": "07c5ed6c",
      "metadata": {
        "id": "07c5ed6c"
      },
      "outputs": [],
      "source": [
        "#Diagrama da árvore de decisão\n",
        "import matplotlib.pyplot as plt\n",
        "from sklearn.tree import plot_tree"
      ]
    },
    {
      "cell_type": "code",
      "source": [
        "plt.figure(figsize=(5, 6));\n",
        "sklearn.tree.plot_tree(arvore);"
      ],
      "metadata": {
        "colab": {
          "base_uri": "https://localhost:8080/",
          "height": 499
        },
        "id": "3IUbawtRX4ri",
        "outputId": "eaa8edf3-85d0-42c7-ef75-eb9efb772a68"
      },
      "execution_count": null,
      "outputs": [
        {
          "output_type": "display_data",
          "data": {
            "text/plain": [
              "<Figure size 500x600 with 1 Axes>"
            ],
            "image/png": "[encoded data removed]"
          },
          "metadata": {}
        }
      ],
      "id": "3IUbawtRX4ri"
    },
    {
      "cell_type": "markdown",
      "source": [
        "\n",
        "Treino e teste para o modelo de Naive Bayes:\n",
        "\n",
        "\n"
      ],
      "metadata": {
        "id": "Gu6fgTMMaPa3"
      },
      "id": "Gu6fgTMMaPa3"
    },
    {
      "cell_type": "code",
      "execution_count": null,
      "id": "1d85364e",
      "metadata": {
        "colab": {
          "base_uri": "https://localhost:8080/"
        },
        "id": "1d85364e",
        "outputId": "98640927-2d83-4974-ed99-4e9f74fbcbf5"
      },
      "outputs": [
        {
          "output_type": "execute_result",
          "data": {
            "text/plain": [
              "0.9534883720930233"
            ]
          },
          "metadata": {},
          "execution_count": 19
        }
      ],
      "source": [
        "naive_bayes = GaussianNB() #Inicialização\n",
        "naive_bayes.fit(X_treino,y_treino) #treino\n",
        "ypred_naive = naive_bayes.predict(X_teste) #teste\n",
        "acuracia_naive = accuracy_score(y_teste,ypred_naive)\n",
        "acuracia_naive"
      ]
    },
    {
      "cell_type": "code",
      "execution_count": null,
      "id": "487195ab",
      "metadata": {
        "id": "487195ab"
      },
      "outputs": [],
      "source": [
        "#Matriz de confusão\n",
        "from sklearn.metrics import confusion_matrix\n",
        "import seaborn as sns"
      ]
    },
    {
      "cell_type": "code",
      "execution_count": null,
      "id": "b2edeb07",
      "metadata": {
        "colab": {
          "base_uri": "https://localhost:8080/",
          "height": 733
        },
        "id": "b2edeb07",
        "outputId": "e8770622-8250-46c0-ca3c-424111fa55ba"
      },
      "outputs": [
        {
          "output_type": "execute_result",
          "data": {
            "text/plain": [
              "<function matplotlib.pyplot.show(close=None, block=None)>"
            ],
            "text/html": [
              "<div style=\"max-width:800px; border: 1px solid var(--colab-border-color);\"><style>\n",
              "      pre.function-repr-contents {\n",
              "        overflow-x: auto;\n",
              "        padding: 8px 12px;\n",
              "        max-height: 500px;\n",
              "      }\n",
              "\n",
              "      pre.function-repr-contents.function-repr-contents-collapsed {\n",
              "        cursor: pointer;\n",
              "        max-height: 100px;\n",
              "      }\n",
              "    </style>\n",
              "    <pre style=\"white-space: initial; background:\n",
              "         var(--colab-secondary-surface-color); padding: 8px 12px;\n",
              "         border-bottom: 1px solid var(--colab-border-color);\"><b>matplotlib.pyplot.show</b><br/>def show(*args, **kwargs)</pre><pre class=\"function-repr-contents function-repr-contents-collapsed\" style=\"\"><a class=\"filepath\" style=\"display:none\" href=\"#\">/usr/local/lib/python3.10/dist-packages/matplotlib/pyplot.py</a>Display all open figures.\n",
              "\n",
              "Parameters\n",
              "----------\n",
              "block : bool, optional\n",
              "    Whether to wait for all figures to be closed before returning.\n",
              "\n",
              "    If `True` block and run the GUI main loop until all figure windows\n",
              "    are closed.\n",
              "\n",
              "    If `False` ensure that all figure windows are displayed and return\n",
              "    immediately.  In this case, you are responsible for ensuring\n",
              "    that the event loop is running to have responsive figures.\n",
              "\n",
              "    Defaults to True in non-interactive mode and to False in interactive\n",
              "    mode (see `.pyplot.isinteractive`).\n",
              "\n",
              "See Also\n",
              "--------\n",
              "ion : Enable interactive mode, which shows / updates the figure after\n",
              "      every plotting command, so that calling ``show()`` is not necessary.\n",
              "ioff : Disable interactive mode.\n",
              "savefig : Save the figure to an image file instead of showing it on screen.\n",
              "\n",
              "Notes\n",
              "-----\n",
              "**Saving figures to file and showing a window at the same time**\n",
              "\n",
              "If you want an image file as well as a user interface window, use\n",
              "`.pyplot.savefig` before `.pyplot.show`. At the end of (a blocking)\n",
              "``show()`` the figure is closed and thus unregistered from pyplot. Calling\n",
              "`.pyplot.savefig` afterwards would save a new and thus empty figure. This\n",
              "limitation of command order does not apply if the show is non-blocking or\n",
              "if you keep a reference to the figure and use `.Figure.savefig`.\n",
              "\n",
              "**Auto-show in jupyter notebooks**\n",
              "\n",
              "The jupyter backends (activated via ``%matplotlib inline``,\n",
              "``%matplotlib notebook``, or ``%matplotlib widget``), call ``show()`` at\n",
              "the end of every cell by default. Thus, you usually don&#x27;t have to call it\n",
              "explicitly there.</pre>\n",
              "      <script>\n",
              "      if (google.colab.kernel.accessAllowed && google.colab.files && google.colab.files.view) {\n",
              "        for (const element of document.querySelectorAll('.filepath')) {\n",
              "          element.style.display = 'block'\n",
              "          element.onclick = (event) => {\n",
              "            event.preventDefault();\n",
              "            event.stopPropagation();\n",
              "            google.colab.files.view(element.textContent, 401);\n",
              "          };\n",
              "        }\n",
              "      }\n",
              "      for (const element of document.querySelectorAll('.function-repr-contents')) {\n",
              "        element.onclick = (event) => {\n",
              "          event.preventDefault();\n",
              "          event.stopPropagation();\n",
              "          element.classList.toggle('function-repr-contents-collapsed');\n",
              "        };\n",
              "      }\n",
              "      </script>\n",
              "      </div>"
            ]
          },
          "metadata": {},
          "execution_count": 21
        },
        {
          "output_type": "display_data",
          "data": {
            "text/plain": [
              "<Figure size 800x600 with 2 Axes>"
            ],
            "image/png": "[encoded data removed]"
          },
          "metadata": {}
        }
      ],
      "source": [
        "matriz_confusao = confusion_matrix(y_teste,ypred_naive)  #gera matriz\n",
        "plt.figure(figsize=(8,6))\n",
        "sns.heatmap(matriz_confusao, annot=True, cmap=\"Blues\",fmt=\"d\", xticklabels=le.classes_, yticklabels=le.classes_)\n",
        "plt.xlabel(\"Predito\")\n",
        "plt.ylabel(\"Verdadeiro\")\n",
        "plt.title(\"Matriz de Confusão - Naive Bayes\")\n",
        "plt.show\n"
      ]
    },
    {
      "cell_type": "markdown",
      "source": [
        "Treino e teste para o modelo de k-NN:\n",
        "\n"
      ],
      "metadata": {
        "id": "AwkokCiXgCka"
      },
      "id": "AwkokCiXgCka"
    },
    {
      "cell_type": "code",
      "source": [
        "knn = KNeighborsClassifier() #Inicialização\n",
        "knn.fit(X_treino, y_treino) #Treino\n",
        "ypred_knn = knn.predict(X_teste)\n",
        "acuracia_knn = accuracy_score(y_teste, ypred_knn)\n",
        "acuracia_knn"
      ],
      "metadata": {
        "colab": {
          "base_uri": "https://localhost:8080/"
        },
        "id": "C6Yd9IAXgNzx",
        "outputId": "b52959b5-0baf-490d-9026-83340038912d"
      },
      "id": "C6Yd9IAXgNzx",
      "execution_count": null,
      "outputs": [
        {
          "output_type": "execute_result",
          "data": {
            "text/plain": [
              "0.9651162790697675"
            ]
          },
          "metadata": {},
          "execution_count": 22
        }
      ]
    },
    {
      "cell_type": "code",
      "source": [
        "#Gráfico de dispersão das duas primeiras features\n",
        "plt.figure(figsize=(10,6))\n",
        "plt.scatter(X_teste.iloc[:,0], X_teste.iloc[:,1], c=-ypred_knn, cmap=\"viridis\", edgecolors=\"k\")\n",
        "plt.xlabel(\"Primeira feature\")\n",
        "plt.ylabel(\"Segunda feature\")\n",
        "plt.title(\"Gráfico de Dispersão das Amostras com Previsões k-NN\")\n",
        "plt.colorbar(label='Classe Prevista')\n",
        "plt.show()"
      ],
      "metadata": {
        "colab": {
          "base_uri": "https://localhost:8080/",
          "height": 565
        },
        "id": "PUvAMVdZh7d8",
        "outputId": "38dfdf75-34bd-4f0e-a11f-47eb325b3336"
      },
      "id": "PUvAMVdZh7d8",
      "execution_count": null,
      "outputs": [
        {
          "output_type": "display_data",
          "data": {
            "text/plain": [
              "<Figure size 1000x600 with 2 Axes>"
            ],
            "image/png": "[encoded data removed]"
          },
          "metadata": {}
        }
      ]
    },
    {
      "cell_type": "markdown",
      "id": "07d01716",
      "metadata": {
        "id": "07d01716"
      },
      "source": [
        "### Passo 3,5: Verificação do *notebook*"
      ]
    },
    {
      "cell_type": "markdown",
      "id": "38e1b718",
      "metadata": {
        "id": "38e1b718"
      },
      "source": [
        "Para a próxima atividade você precisará que as variáveis `treino` e `teste` estejam da forma como ela foi carregada. Execute a célula abaixo e, se qualquer um dos testes falhar, faça novamente os passos 1 e 2."
      ]
    },
    {
      "cell_type": "code",
      "execution_count": null,
      "id": "27e099b4",
      "metadata": {
        "id": "27e099b4"
      },
      "outputs": [],
      "source": [
        "if treino.shape != (64, 5):print(\"O número de linhas ou colunas do treino está errado.\")\n",
        "if teste.shape != (86, 5): print(\"O número de linhas ou colunas do teste está errado.\")\n",
        "\n",
        "if treino.iloc[:,-1].dtype != int: print('A última coluna do treino não é numérica.')\n",
        "if teste.iloc[:,-1].dtype != int: print('A última coluna do teste não é numérica.')\n",
        "\n",
        "soma_treino = np.array([365.9, 198.7, 221.4,  69.2,  55. ])\n",
        "soma_teste = np.array([510.6, 259.9, 342.3, 110.7,  95. ])\n",
        "\n",
        "if (np.abs(treino.sum() - soma_treino) > 0.1).any(): print('Existem valores incorretos na tabela de treino.')\n",
        "if (np.abs(teste.sum() - soma_teste) > 0.1).any(): print('Existem valores incorretos na tabela de teste.')"
      ]
    },
    {
      "cell_type": "markdown",
      "id": "7dc06ac2",
      "metadata": {
        "id": "7dc06ac2"
      },
      "source": [
        "### Passo 4: Ajuste de hiperparâmetros"
      ]
    },
    {
      "cell_type": "markdown",
      "id": "1d9e68ff",
      "metadata": {
        "id": "1d9e68ff"
      },
      "source": [
        "Agora vamos verificar se é possível ajustar os hiperparâmetros de acordo com um conjunto de validação."
      ]
    },
    {
      "cell_type": "markdown",
      "id": "aa6b29e7",
      "metadata": {
        "id": "aa6b29e7"
      },
      "source": [
        "A ideia é simples, vamos dividir o conjunto de treino em um **novo conjunto de treino** e um conjunto de validação. Podemos fazer isso utilizando a função `train_test_split`."
      ]
    },
    {
      "cell_type": "code",
      "execution_count": null,
      "id": "009cd580",
      "metadata": {
        "id": "009cd580"
      },
      "outputs": [],
      "source": [
        "X_train, X_val, y_train, y_val = train_test_split(treino.iloc[:, :-1], treino.iloc[:, -1],\n",
        "                                                    random_state=42, test_size=0.3, stratify=treino.iloc[:, -1])"
      ]
    },
    {
      "cell_type": "markdown",
      "id": "3d3e38b2",
      "metadata": {
        "id": "3d3e38b2"
      },
      "source": [
        "#### Árvore de Decisão"
      ]
    },
    {
      "cell_type": "markdown",
      "id": "6f46d544",
      "metadata": {
        "id": "6f46d544"
      },
      "source": [
        "Teste diferentes configurações da árvore de decisão com o conjunto de validação.\n",
        "\n",
        "1) Verifique se o desempenho do modelo usa quando o critério é alterado para `criterion='entropy'`."
      ]
    },
    {
      "cell_type": "code",
      "execution_count": null,
      "id": "87d81e87",
      "metadata": {
        "id": "87d81e87"
      },
      "outputs": [],
      "source": [
        "clf = DecisionTreeClassifier(criterion='entropy')\n",
        "\n",
        "# Continue o código para treinar a árvore com (X_train, y_train) e testar a árvore com (X_val, y_val)"
      ]
    },
    {
      "cell_type": "code",
      "execution_count": null,
      "id": "eb0397ef",
      "metadata": {
        "id": "eb0397ef"
      },
      "outputs": [],
      "source": [
        "clf.fit(X_train,y_train) #treinamento\n",
        "ypred_clf = clf.predict(X_val) #teste"
      ]
    },
    {
      "cell_type": "code",
      "execution_count": null,
      "id": "bcd1604c",
      "metadata": {
        "id": "bcd1604c",
        "colab": {
          "base_uri": "https://localhost:8080/"
        },
        "outputId": "d90b06e8-fe92-442b-fb35-ef31aa630855"
      },
      "outputs": [
        {
          "output_type": "execute_result",
          "data": {
            "text/plain": [
              "0.95"
            ]
          },
          "metadata": {},
          "execution_count": 28
        }
      ],
      "source": [
        "acuracia_clf = accuracy_score(y_val,ypred_clf)\n",
        "acuracia_clf"
      ]
    },
    {
      "cell_type": "markdown",
      "id": "bf2ca304",
      "metadata": {
        "id": "bf2ca304"
      },
      "source": [
        "2) Verifique se o desempenho do modelo usa quando especificamos uma altura máxima para a árvore. Para especificar a altura máxima da árvore, use o argumento `max_depth=ALTURA` quando for instanciar o objeto da classe `DecisionTreeClassifier`."
      ]
    },
    {
      "cell_type": "code",
      "execution_count": null,
      "id": "2be1eac4",
      "metadata": {
        "id": "2be1eac4",
        "colab": {
          "base_uri": "https://localhost:8080/"
        },
        "outputId": "05a5fb90-4480-433c-a985-2fcd26d9b9fd"
      },
      "outputs": [
        {
          "output_type": "execute_result",
          "data": {
            "text/plain": [
              "0.95"
            ]
          },
          "metadata": {},
          "execution_count": 29
        }
      ],
      "source": [
        "ALTURA = 3\n",
        "clf = DecisionTreeClassifier(max_depth=ALTURA)\n",
        "\n",
        "clf.fit(X_train, y_train)\n",
        "\n",
        "y_pred_val = clf.predict(X_val)\n",
        "\n",
        "acuracia_val = accuracy_score(y_val, y_pred_val)\n",
        "acuracia_val"
      ]
    },
    {
      "cell_type": "code",
      "execution_count": null,
      "id": "8d98587f",
      "metadata": {
        "id": "8d98587f",
        "colab": {
          "base_uri": "https://localhost:8080/",
          "height": 472
        },
        "outputId": "c2798966-bbec-4a43-81d6-a1262494acd0"
      },
      "outputs": [
        {
          "output_type": "display_data",
          "data": {
            "text/plain": [
              "<Figure size 640x480 with 1 Axes>"
            ],
            "image/png": "[encoded data removed]"
          },
          "metadata": {}
        }
      ],
      "source": [
        "from sklearn.model_selection import train_test_split\n",
        "from sklearn.tree import DecisionTreeClassifier\n",
        "from sklearn.metrics import mean_squared_error\n",
        "\n",
        "# Função da curva de aprendizado\n",
        "def plot_learning_curve(estimador, titulo, X_train, y_train, X_val, y_val, cv=None, tamanhos_treino=np.linspace(.1, 1.0, 5)):\n",
        "    erros_empiricos_treino = []\n",
        "    erros_empiricos_teste = []\n",
        "\n",
        "    for tamanho in tamanhos_treino:\n",
        "        estimador.fit(X_train[:int(tamanho * len(X_train))], y_train[:int(tamanho * len(X_train))])  # Ajuste o modelo com um subconjunto dos dados de treinamento\n",
        "        predicoes_treino = estimador.predict(X_train[:int(tamanho * len(X_train))])  # Faça previsões no mesmo subconjunto de treinamento\n",
        "        erro_empirico_treino = mean_squared_error(y_train[:int(tamanho * len(X_train))], predicoes_treino)  # Calcule o erro empírico no conjunto de treinamento\n",
        "        erros_empiricos_treino.append(erro_empirico_treino)\n",
        "\n",
        "        predicoes_teste = estimador.predict(X_val)  # Faça previsões no conjunto de validação\n",
        "        erro_empirico_teste = mean_squared_error(y_val, predicoes_teste)  # Calcule o erro empírico no conjunto de validação\n",
        "        erros_empiricos_teste.append(erro_empirico_teste)\n",
        "\n",
        "    plt.figure()\n",
        "    plt.title(titulo)\n",
        "    plt.xlabel(\"Dimensionalidade da Curva (M)\")\n",
        "    plt.ylabel(\"Erro\")\n",
        "    plt.grid()\n",
        "\n",
        "    plt.plot(tamanhos_treino * len(X_train), erros_empiricos_treino, 'o-', color=\"b\", label=\"Treino\")\n",
        "    plt.plot(tamanhos_treino * len(X_train), erros_empiricos_teste, 'o-', color=\"r\", label=\"Teste\")\n",
        "    plt.legend(loc=\"best\")\n",
        "    return plt\n",
        "\n",
        "\n",
        "plot_learning_curve(clf, \"Curva de Aprendizado\", X_train, y_train, X_val, y_val, cv=5)\n",
        "plt.show()\n"
      ]
    },
    {
      "cell_type": "code",
      "source": [
        "from sklearn.model_selection import cross_val_score\n",
        "from sklearn.tree import DecisionTreeClassifier\n",
        "\n",
        "clf = DecisionTreeClassifier(criterion='entropy', max_depth=3)             ##################################################################\n",
        "\n",
        "# Realizando a validação cruzada com 5 folds                               ##################################################################\n",
        "scores = cross_val_score(clf, X_train, y_train, cv=5)\n",
        "\n",
        "#Pontuações de validação cruzada\n",
        "print(\"Acurácia média: %0.2f (+/- %0.2f)\" % (scores.mean(), scores.std() * 2))\n"
      ],
      "metadata": {
        "colab": {
          "base_uri": "https://localhost:8080/"
        },
        "id": "Cbcy2kxW3c91",
        "outputId": "e4330487-8bef-4e68-fff5-e1dae30fb0fa"
      },
      "id": "Cbcy2kxW3c91",
      "execution_count": null,
      "outputs": [
        {
          "output_type": "stream",
          "name": "stdout",
          "text": [
            "Acurácia média: 0.93 (+/- 0.11)\n"
          ]
        }
      ]
    },
    {
      "cell_type": "code",
      "source": [
        "from sklearn.metrics import accuracy_score\n",
        "\n",
        "def plot_learning_curve(estimador, titulo, X_train, y_train, X_val, y_val, cv=None, tamanhos_treino=np.linspace(.1, 1.0, 5)):\n",
        "    acuracias_treino = []\n",
        "    acuracias_teste = []\n",
        "\n",
        "    for tamanho in tamanhos_treino:\n",
        "        tamanho_absoluto = int(tamanho * len(X_train))\n",
        "        estimador.fit(X_train[:tamanho_absoluto], y_train[:tamanho_absoluto])\n",
        "        predicoes_treino = estimador.predict(X_train[:tamanho_absoluto])\n",
        "        acuracia_treino = accuracy_score(y_train[:tamanho_absoluto], predicoes_treino)\n",
        "        acuracias_treino.append(acuracia_treino)\n",
        "\n",
        "        predicoes_teste = estimador.predict(X_val)\n",
        "        acuracia_teste = accuracy_score(y_val, predicoes_teste)\n",
        "        acuracias_teste.append(acuracia_teste)\n",
        "\n",
        "    plt.figure()\n",
        "    plt.title(titulo)\n",
        "    plt.xlabel(\"Dimensionalidade da Curva (M)\")\n",
        "    plt.ylabel(\"Acurácia\")\n",
        "    plt.grid()\n",
        "\n",
        "    plt.plot(tamanhos_treino * len(X_train), acuracias_treino, 'o-', color=\"b\", label=\"Acurácia Treino\")\n",
        "    plt.plot(tamanhos_treino * len(X_train), acuracias_teste, 'o-', color=\"r\", label=\"Acurácia Teste\")\n",
        "    plt.legend(loc=\"best\")\n",
        "    return plt\n",
        "\n",
        "plot_learning_curve(clf, \"Curva de Aprendizado - Árvore de Decisão\", X_train, y_train, X_val, y_val, cv=5)\n",
        "plt.show()\n"
      ],
      "metadata": {
        "colab": {
          "base_uri": "https://localhost:8080/",
          "height": 474
        },
        "id": "Kvjtco8F4MXq",
        "outputId": "2ecf3304-98ff-4358-be20-29d24eed322f"
      },
      "id": "Kvjtco8F4MXq",
      "execution_count": null,
      "outputs": [
        {
          "output_type": "display_data",
          "data": {
            "text/plain": [
              "<Figure size 640x480 with 1 Axes>"
            ],
            "image/png": "[encoded data removed]"
          },
          "metadata": {}
        }
      ]
    },
    {
      "cell_type": "markdown",
      "id": "6bb55254",
      "metadata": {
        "id": "6bb55254"
      },
      "source": [
        "#### Naive Bayes"
      ]
    },
    {
      "cell_type": "markdown",
      "id": "7c18e637",
      "metadata": {
        "id": "7c18e637"
      },
      "source": [
        "O Naive Bayes gaussiano não tem nenhum hiperparâmetro para ajustarmos neste momento.\n",
        "\n",
        "Apenas verifique o desempenho do modelo no conjunto de validação."
      ]
    },
    {
      "cell_type": "code",
      "execution_count": null,
      "id": "56c7a9f1",
      "metadata": {
        "id": "56c7a9f1",
        "colab": {
          "base_uri": "https://localhost:8080/"
        },
        "outputId": "0dcbf16d-ddab-4eb6-b85d-197b444d4df1"
      },
      "outputs": [
        {
          "output_type": "execute_result",
          "data": {
            "text/plain": [
              "1.0"
            ]
          },
          "metadata": {},
          "execution_count": 33
        }
      ],
      "source": [
        "nb = GaussianNB()\n",
        "nb.fit(X_train, y_train) # Treine o modelo com o conjunto de treinamento\n",
        "y_pred_val = nb.predict(X_val) # Faça previsões no conjunto de validação\n",
        "\n",
        "acuracia_nb = accuracy_score(y_val, y_pred_val)\n",
        "acuracia_nb"
      ]
    },
    {
      "cell_type": "code",
      "source": [
        "from sklearn.metrics import accuracy_score\n",
        "\n",
        "def plot_learning_curve(estimador, titulo, X_train, y_train, X_val, y_val, cv=None, tamanhos_treino=np.linspace(.1, 1.0, 5)):\n",
        "    acuracias_treino = []\n",
        "    acuracias_teste = []\n",
        "\n",
        "    for tamanho in tamanhos_treino:\n",
        "        tamanho_absoluto = int(tamanho * len(X_train))\n",
        "        estimador.fit(X_train[:tamanho_absoluto], y_train[:tamanho_absoluto])\n",
        "        predicoes_treino = estimador.predict(X_train[:tamanho_absoluto])\n",
        "        acuracia_treino = accuracy_score(y_train[:tamanho_absoluto], predicoes_treino)\n",
        "        acuracias_treino.append(acuracia_treino)\n",
        "\n",
        "        predicoes_teste = estimador.predict(X_val)\n",
        "        acuracia_teste = accuracy_score(y_val, predicoes_teste)\n",
        "        acuracias_teste.append(acuracia_teste)\n",
        "\n",
        "    plt.figure()\n",
        "    plt.title(titulo)\n",
        "    plt.xlabel(\"Dimensionalidade da Curva (M)\")\n",
        "    plt.ylabel(\"Acurácia\")\n",
        "    plt.grid()\n",
        "\n",
        "    plt.plot(tamanhos_treino * len(X_train), acuracias_treino, 'o-', color=\"b\", label=\"Acurácia Treino\")\n",
        "    plt.plot(tamanhos_treino * len(X_train), acuracias_teste, 'o-', color=\"r\", label=\"Acurácia Teste\")\n",
        "    plt.legend(loc=\"best\")\n",
        "    return plt\n",
        "\n",
        "plot_learning_curve(nb, \"Curva de Aprendizado - Naive Bayes\", X_train, y_train, X_val, y_val, cv=5)\n",
        "plt.show()\n"
      ],
      "metadata": {
        "colab": {
          "base_uri": "https://localhost:8080/",
          "height": 472
        },
        "id": "2_xHVjGm9wOa",
        "outputId": "a125fd69-365e-4cbb-b9e2-d557b97ac9fb"
      },
      "id": "2_xHVjGm9wOa",
      "execution_count": null,
      "outputs": [
        {
          "output_type": "display_data",
          "data": {
            "text/plain": [
              "<Figure size 640x480 with 1 Axes>"
            ],
            "image/png": "[encoded data removed]"
          },
          "metadata": {}
        }
      ]
    },
    {
      "cell_type": "code",
      "source": [
        "nb_validacao_cruzada = GaussianNB()\n",
        "\n",
        "scores = cross_val_score(nb_validacao_cruzada, X_train, y_train, cv=5)\n",
        "\n",
        "print(\"Acurácia média: %0.2f (+/- %0.2f)\" % (scores.mean(), scores.std() * 2))"
      ],
      "metadata": {
        "colab": {
          "base_uri": "https://localhost:8080/"
        },
        "id": "5cvpsZk3JVmz",
        "outputId": "502e9f18-deab-423b-c05b-4feb741375e0"
      },
      "id": "5cvpsZk3JVmz",
      "execution_count": null,
      "outputs": [
        {
          "output_type": "stream",
          "name": "stdout",
          "text": [
            "Acurácia média: 0.96 (+/- 0.11)\n"
          ]
        }
      ]
    },
    {
      "cell_type": "markdown",
      "id": "8281b38d",
      "metadata": {
        "id": "8281b38d"
      },
      "source": [
        "#### k-NN"
      ]
    },
    {
      "cell_type": "markdown",
      "id": "076093c4",
      "metadata": {
        "id": "076093c4"
      },
      "source": [
        "Teste diferentes configurações do modelo de vizinhança com o conjunto de validação.\n"
      ]
    },
    {
      "cell_type": "markdown",
      "id": "9c049603",
      "metadata": {
        "id": "9c049603"
      },
      "source": [
        "1) Experimente trocar a função de distância. Para isso, especifique um valor para o parâmetro `metric`. Por exemplo, `metric='euclidean'` utiliza a distância euclidiana, enquanto `metric='manhattan'` utiliza a distância Manhattan. Veja a documentação para uma lista de nomes de métricas: https://scikit-learn.org/stable/modules/generated/sklearn.metrics.pairwise.distance_metrics.html#sklearn.metrics.pairwise.distance_metrics"
      ]
    },
    {
      "cell_type": "code",
      "execution_count": null,
      "id": "da6abf5c",
      "metadata": {
        "id": "da6abf5c",
        "colab": {
          "base_uri": "https://localhost:8080/"
        },
        "outputId": "35c9fab6-ce78-452c-a7cb-2735307d859d"
      },
      "outputs": [
        {
          "output_type": "execute_result",
          "data": {
            "text/plain": [
              "0.95"
            ]
          },
          "metadata": {},
          "execution_count": 36
        }
      ],
      "source": [
        "# Métrica de distância: Euclidean\n",
        "knn_euclidiana = KNeighborsClassifier(metric='euclidean')\n",
        "knn_euclidiana.fit(X_train, y_train)\n",
        "acuracia_euclidiana = knn_euclidiana.score(X_val, y_val)\n",
        "acuracia_euclidiana"
      ]
    },
    {
      "cell_type": "code",
      "execution_count": null,
      "id": "3219b68a",
      "metadata": {
        "id": "3219b68a",
        "colab": {
          "base_uri": "https://localhost:8080/"
        },
        "outputId": "6770da83-4729-418b-e893-704837c269d4"
      },
      "outputs": [
        {
          "output_type": "execute_result",
          "data": {
            "text/plain": [
              "0.95"
            ]
          },
          "metadata": {},
          "execution_count": 37
        }
      ],
      "source": [
        "# Métrica de distância: Manhattan\n",
        "knn_manhattan = KNeighborsClassifier(metric='manhattan')\n",
        "knn_manhattan.fit(X_train, y_train)\n",
        "acuracia_manhattan = knn_manhattan.score(X_val, y_val)\n",
        "acuracia_manhattan"
      ]
    },
    {
      "cell_type": "code",
      "source": [
        "# Métrica de distância: cosine\n",
        "knn_cosine = KNeighborsClassifier(metric='cosine')\n",
        "knn_cosine.fit(X_train, y_train)\n",
        "acuracia_cosine = knn_cosine.score(X_val, y_val)\n",
        "acuracia_cosine"
      ],
      "metadata": {
        "colab": {
          "base_uri": "https://localhost:8080/"
        },
        "id": "lomgRWKjAeq2",
        "outputId": "d6e10b07-b127-4e67-a1d5-5b5003bfe20b"
      },
      "id": "lomgRWKjAeq2",
      "execution_count": null,
      "outputs": [
        {
          "output_type": "execute_result",
          "data": {
            "text/plain": [
              "0.9"
            ]
          },
          "metadata": {},
          "execution_count": 38
        }
      ]
    },
    {
      "cell_type": "code",
      "source": [
        "# Métrica de distância: cityblock\n",
        "knn_cityblock = KNeighborsClassifier(metric='cityblock')\n",
        "knn_cityblock.fit(X_train, y_train)\n",
        "acuracia_cityblock = knn_cityblock.score(X_val, y_val)\n",
        "acuracia_cityblock"
      ],
      "metadata": {
        "colab": {
          "base_uri": "https://localhost:8080/"
        },
        "id": "kzcg8dZJAqKK",
        "outputId": "ac5b9083-af3e-4347-f591-ea8a7f2494e4"
      },
      "id": "kzcg8dZJAqKK",
      "execution_count": null,
      "outputs": [
        {
          "output_type": "execute_result",
          "data": {
            "text/plain": [
              "0.95"
            ]
          },
          "metadata": {},
          "execution_count": 39
        }
      ]
    },
    {
      "cell_type": "code",
      "source": [
        "# Métrica de distância: l1\n",
        "knn_l1 = KNeighborsClassifier(metric='l1')\n",
        "knn_l1.fit(X_train, y_train)\n",
        "acuracia_l1 = knn_l1.score(X_val, y_val)\n",
        "acuracia_l1"
      ],
      "metadata": {
        "colab": {
          "base_uri": "https://localhost:8080/"
        },
        "id": "gWRnolmgApsf",
        "outputId": "65a8c038-0c15-4c5f-b39f-ac2bfa35f203"
      },
      "id": "gWRnolmgApsf",
      "execution_count": null,
      "outputs": [
        {
          "output_type": "execute_result",
          "data": {
            "text/plain": [
              "0.95"
            ]
          },
          "metadata": {},
          "execution_count": 40
        }
      ]
    },
    {
      "cell_type": "code",
      "source": [
        "# Métrica de distância: l2\n",
        "knn_l2 = KNeighborsClassifier(metric='l2')\n",
        "knn_l2.fit(X_train, y_train)\n",
        "acuracia_l2 = knn_l2.score(X_val, y_val)\n",
        "acuracia_l2"
      ],
      "metadata": {
        "colab": {
          "base_uri": "https://localhost:8080/"
        },
        "id": "otLOXgBoBudq",
        "outputId": "cfadb411-dce8-4081-c92c-d1c2bd11c4f3"
      },
      "id": "otLOXgBoBudq",
      "execution_count": null,
      "outputs": [
        {
          "output_type": "execute_result",
          "data": {
            "text/plain": [
              "0.95"
            ]
          },
          "metadata": {},
          "execution_count": 41
        }
      ]
    },
    {
      "cell_type": "code",
      "source": [
        "# Métrica de distância: nan_euclidean\n",
        "knn_nan_euclidean = KNeighborsClassifier(metric='nan_euclidean')\n",
        "knn_nan_euclidean.fit(X_train, y_train)\n",
        "acuracia_nan_euclidean = knn_nan_euclidean.score(X_val, y_val)\n",
        "acuracia_nan_euclidean"
      ],
      "metadata": {
        "colab": {
          "base_uri": "https://localhost:8080/"
        },
        "id": "tsL1VfHOB1ZR",
        "outputId": "5eb9c73a-6b46-4862-ce3a-80a4926f7bb1"
      },
      "id": "tsL1VfHOB1ZR",
      "execution_count": null,
      "outputs": [
        {
          "output_type": "execute_result",
          "data": {
            "text/plain": [
              "0.95"
            ]
          },
          "metadata": {},
          "execution_count": 42
        }
      ]
    },
    {
      "cell_type": "markdown",
      "id": "302457dd",
      "metadata": {
        "id": "302457dd"
      },
      "source": [
        "2. Verifique o desempenho do modelo com diferentes números de vizinhos. Utilize o parâmetro `n_neighbors=NUMERO`. Você pode fazer um laço de repetição de 1 até 10, por exemplo, para facilmente verificar a quantidade de vizinhos."
      ]
    },
    {
      "cell_type": "code",
      "execution_count": null,
      "id": "c026e9ee",
      "metadata": {
        "id": "c026e9ee",
        "colab": {
          "base_uri": "https://localhost:8080/",
          "height": 646
        },
        "outputId": "588d3af3-3829-481a-939c-c13836c1da4a"
      },
      "outputs": [
        {
          "output_type": "stream",
          "name": "stdout",
          "text": [
            "Número de vizinhos: 1, Acurácia: 0.95\n",
            "Número de vizinhos: 2, Acurácia: 0.9\n",
            "Número de vizinhos: 3, Acurácia: 0.95\n",
            "Número de vizinhos: 4, Acurácia: 0.95\n",
            "Número de vizinhos: 5, Acurácia: 0.95\n",
            "Número de vizinhos: 6, Acurácia: 0.95\n",
            "Número de vizinhos: 7, Acurácia: 0.95\n",
            "Número de vizinhos: 8, Acurácia: 0.95\n",
            "Número de vizinhos: 9, Acurácia: 0.95\n",
            "Número de vizinhos: 10, Acurácia: 0.95\n"
          ]
        },
        {
          "output_type": "display_data",
          "data": {
            "text/plain": [
              "<Figure size 640x480 with 1 Axes>"
            ],
            "image/png": "[encoded data removed]"
          },
          "metadata": {}
        }
      ],
      "source": [
        "acuracias = [] #armazenar as acurácias\n",
        "\n",
        "for num_vizinhos in range(1, 11):\n",
        "    knn = KNeighborsClassifier(n_neighbors=num_vizinhos)\n",
        "\n",
        "    knn.fit(X_train, y_train)\n",
        "\n",
        "    y_pred_val = knn.predict(X_val)\n",
        "\n",
        "    acuracia = accuracy_score(y_val, y_pred_val)\n",
        "    acuracias.append(acuracia)\n",
        "\n",
        "    print(f\"Número de vizinhos: {num_vizinhos}, Acurácia: {acuracia}\")\n",
        "\n",
        "plt.plot(range(1, 11), acuracias, marker='o')\n",
        "plt.title('Acurácia em função do número de vizinhos')\n",
        "plt.xlabel('Número de Vizinhos')\n",
        "plt.ylabel('Acurácia')\n",
        "plt.xticks(range(1, 11))\n",
        "plt.grid(True)\n",
        "plt.show()"
      ]
    },
    {
      "cell_type": "markdown",
      "id": "1ffa95d3",
      "metadata": {
        "id": "1ffa95d3"
      },
      "source": [
        "### Passo 5: Considerações"
      ]
    },
    {
      "cell_type": "markdown",
      "id": "cbb73df4",
      "metadata": {
        "id": "cbb73df4"
      },
      "source": [
        "1) Qual foi a melhor configuração para a árvore de decisão que você entrou no passo 4? Isto é, quais foram os valores de `criterion` e `max_depth` que produziram o melhor resultado no conjunto de validação?"
      ]
    },
    {
      "cell_type": "markdown",
      "id": "d30658fc",
      "metadata": {
        "id": "d30658fc"
      },
      "source": [
        "Testei o criterion com entropy e gini, mas ambos deram o mesmo resultado de acurácia 0,95. Acredito que isso se deu devido ao fato da base de dados utilizada ser simples.\n",
        "\n",
        "Em relação ao max_deph, o melhor resultado que obtive foi com altura igual a 3. Utilizei um gráfico com as curvas de aprendizado para fazer a análise, fiquei em dúvida entre a altura 2 e 3, pois com a altura 2 a curva de treino não se mantinha com acurácia igual a 1, enquanto que na altura igual a 3 a curva de treino de manteve constante com acurácia igual a 1 o que poderia ser um sinal de overfitting, porém a curva de teste da altura igual a 2 começa com a acurácia baixa mas no seu decorrer fica acima da acurácia de treinamento, o que deduzi ser devido a baixa capacidade do modelo, não conseguindo assim capturar adequadamente a estrutura dos dados de treinamento. A altura igual a 3 mostrou-se melhor pois as curvas se estabilizam aproximadamnete em M 35, o que mostra que o modelo esta generalizando melhor para novos dados, e mesmo valores de altura mais altos dando curvas semelhantes, pelo princípio da navalha de Ockham decidi pelo mais simples que gerava o mesmo resultado.  \n"
      ]
    },
    {
      "cell_type": "markdown",
      "id": "248401b0",
      "metadata": {
        "id": "248401b0"
      },
      "source": [
        "2) Qual foi a melhor configuração para o k-NN que você entrou no passo 4? Isto é, quais foram os valores de `metric` e `n_neighbors` que produziram o melhor resultado no conjunto de validação?"
      ]
    },
    {
      "cell_type": "markdown",
      "id": "553f5615",
      "metadata": {
        "id": "553f5615"
      },
      "source": [
        "Os valores de metrics euclidean, manhattan, cityblock, l1, l2 e nan_euclidean deram valores de acuracia iguais a 0,95. O único metric que deu valor de acuracia menor foi o cosine, que deu 0,9. Sendo assim o único que não deu um bom resultado foi o cosine.\n",
        "\n",
        "Quanto aos valores de n_neighbors, foram obtidos resultados bons para todos os valores de 1 a 10 exceto o valor 2 que deu uma acurácia de 0,9 enquanto que os demias deram 0,95."
      ]
    },
    {
      "cell_type": "markdown",
      "id": "f4fc65ce",
      "metadata": {
        "id": "f4fc65ce"
      },
      "source": [
        "3) Dentre os 3 modelos que você refinou no passo 4, qual teve melhor desempenho no conjunto de validação?"
      ]
    },
    {
      "cell_type": "markdown",
      "id": "0536ae55",
      "metadata": {
        "id": "0536ae55"
      },
      "source": [
        "O modelo Naive Bayes foi o que melhor teve desempenho no conjunto de validação, ele alcaçou acuracia 1 e o que poderia ser um superajuste, mas ao considerar que as classes são muito distintas e facilmente distinguíveis apenas com base nas features o Naive Bayes pode funcionar bem mesmo sem os ajuste de hiperparametro."
      ]
    },
    {
      "cell_type": "markdown",
      "id": "02e623e5",
      "metadata": {
        "id": "02e623e5"
      },
      "source": [
        "### Passo 6: Treino final"
      ]
    },
    {
      "cell_type": "markdown",
      "id": "7983b172",
      "metadata": {
        "id": "7983b172"
      },
      "source": [
        "Agora que você encontrou a melhor configuração de cada modelo, faça o treinamento usando todos os exemplos de treino. A linha célula abaixo irá obter para você as matrizes de treino e teste."
      ]
    },
    {
      "cell_type": "code",
      "execution_count": null,
      "id": "1c7a460a",
      "metadata": {
        "id": "1c7a460a"
      },
      "outputs": [],
      "source": [
        "X_train, y_train = treino.iloc[:, :-1], treino.iloc[:, -1]\n",
        "X_test, y_test = teste.iloc[:, :-1], teste.iloc[:, -1]"
      ]
    },
    {
      "cell_type": "markdown",
      "id": "3237a105",
      "metadata": {
        "id": "3237a105"
      },
      "source": [
        "1) Treine e teste a melhor configuração de árvore de decisão que você encontrou no passo 4"
      ]
    },
    {
      "cell_type": "code",
      "execution_count": null,
      "id": "73240df9",
      "metadata": {
        "id": "73240df9",
        "colab": {
          "base_uri": "https://localhost:8080/"
        },
        "outputId": "6b094d96-b308-4301-bcee-e93b6295bff3"
      },
      "outputs": [
        {
          "output_type": "execute_result",
          "data": {
            "text/plain": [
              "0.9418604651162791"
            ]
          },
          "metadata": {},
          "execution_count": 45
        }
      ],
      "source": [
        "melhor_arvore_decisao = DecisionTreeClassifier(max_depth=3)\n",
        "melhor_arvore_decisao.fit(X_train, y_train)\n",
        "acuracia_arvore_decisao = melhor_arvore_decisao.score(X_test, y_test)\n",
        "acuracia_arvore_decisao"
      ]
    },
    {
      "cell_type": "markdown",
      "id": "d94b5fbf",
      "metadata": {
        "id": "d94b5fbf"
      },
      "source": [
        "2) Treine e teste novamente o Naive Bayes, do mesmo jeito que você fez no passo 3 (pode copiar e colar a célula anterior)"
      ]
    },
    {
      "cell_type": "code",
      "execution_count": null,
      "id": "58b8a44a",
      "metadata": {
        "id": "58b8a44a",
        "colab": {
          "base_uri": "https://localhost:8080/"
        },
        "outputId": "f1a252dd-e309-4c99-ea31-3f3a6c383dd3"
      },
      "outputs": [
        {
          "output_type": "execute_result",
          "data": {
            "text/plain": [
              "1.0"
            ]
          },
          "metadata": {},
          "execution_count": 46
        }
      ],
      "source": [
        "nb = GaussianNB()\n",
        "nb.fit(X_train, y_train)\n",
        "y_pred_val = nb.predict(X_val)\n",
        "\n",
        "acuracia_nb = accuracy_score(y_val, y_pred_val)\n",
        "acuracia_nb"
      ]
    },
    {
      "cell_type": "markdown",
      "id": "c75ce2bd",
      "metadata": {
        "id": "c75ce2bd"
      },
      "source": [
        "3) Treine e tete a melhor configuração de k-NN que você encontrou no passo 4"
      ]
    },
    {
      "cell_type": "code",
      "execution_count": null,
      "id": "ae43476c",
      "metadata": {
        "id": "ae43476c",
        "colab": {
          "base_uri": "https://localhost:8080/"
        },
        "outputId": "41a6ff07-f4da-42a6-94e9-5626a021b91d"
      },
      "outputs": [
        {
          "output_type": "execute_result",
          "data": {
            "text/plain": [
              "0.9651162790697675"
            ]
          },
          "metadata": {},
          "execution_count": 47
        }
      ],
      "source": [
        "from sklearn.neighbors import KNeighborsClassifier\n",
        "\n",
        "# Configuração do k-NN com a melhor configuração encontrada\n",
        "melhor_knn = KNeighborsClassifier(metric='euclidean')\n",
        "\n",
        "# Treinamento do modelo\n",
        "melhor_knn.fit(X_train, y_train)\n",
        "\n",
        "# Teste do modelo\n",
        "acuracia_knn = melhor_knn.score(X_test, y_test)\n",
        "acuracia_knn\n"
      ]
    },
    {
      "cell_type": "code",
      "execution_count": null,
      "id": "3b067cab",
      "metadata": {
        "id": "3b067cab",
        "colab": {
          "base_uri": "https://localhost:8080/"
        },
        "outputId": "f1c46094-7168-424c-f051-cde19f71ff7d"
      },
      "outputs": [
        {
          "output_type": "execute_result",
          "data": {
            "text/plain": [
              "0.9651162790697675"
            ]
          },
          "metadata": {},
          "execution_count": 48
        }
      ],
      "source": [
        "from sklearn.neighbors import KNeighborsClassifier\n",
        "\n",
        "# Configuração do k-NN com a melhor configuração encontrada\n",
        "melhor_knn = KNeighborsClassifier(n_neighbors=3)\n",
        "\n",
        "# Treinamento do modelo\n",
        "melhor_knn.fit(X_train, y_train)\n",
        "\n",
        "# Teste do modelo\n",
        "acuracia_knn = melhor_knn.score(X_test, y_test)\n",
        "acuracia_knn"
      ]
    },
    {
      "cell_type": "markdown",
      "id": "55fe7943",
      "metadata": {
        "id": "55fe7943"
      },
      "source": [
        "### Passo 7: Conclusões"
      ]
    },
    {
      "cell_type": "markdown",
      "id": "9f2892c2",
      "metadata": {
        "id": "9f2892c2"
      },
      "source": [
        "O modelo que parecia o melhor no conjunto de validaç? E qual seria a melhor configuração de hiperparâmetros? Houve diferença significativa no ajuste de hiperparâmetros? Escreva aqui o que você aprendeu com este exercício.\n",
        "\n",
        "Observe que, como o conjunto `iris` é pequeno, pode ser que muitas configurações tenham desempenho parecido ou que a configuração padrão seja a ideal. Mas o procedimento que você aprendeu aqui será o mesmo para seus experimentos futuros!"
      ]
    },
    {
      "cell_type": "markdown",
      "id": "e3d6cdcd",
      "metadata": {
        "id": "e3d6cdcd"
      },
      "source": [
        "No conjunto de validação o modelo da árvore de decisão com a altura 3 parecia melhor, mas com todos os exemplos de treino ela não foi tão boa assim, dando um valor de acurácia menor do que os dos demais modelos. Testei algumas outras alturas, e o melhor resultado deu com altura igual a 4. Não foi uma diferença tão significativa, o hiperparametro foi de 0,94 para 0,95 mas ainda assim houve uma diferença."
      ]
    }
  ],
  "metadata": {
    "kernelspec": {
      "display_name": "Python 3 (ipykernel)",
      "language": "python",
      "name": "python3"
    },
    "language_info": {
      "codemirror_mode": {
        "name": "ipython",
        "version": 3
      },
      "file_extension": ".py",
      "mimetype": "text/x-python",
      "name": "python",
      "nbconvert_exporter": "python",
      "pygments_lexer": "ipython3",
      "version": "3.11.2"
    },
    "colab": {
      "provenance": [],
      "include_colab_link": true
    }
  },
  "nbformat": 4,
  "nbformat_minor": 5
}